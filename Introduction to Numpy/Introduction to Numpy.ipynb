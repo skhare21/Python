{
 "cells": [
  {
   "cell_type": "markdown",
   "metadata": {},
   "source": [
    "# Numpy"
   ]
  },
  {
   "cell_type": "code",
   "execution_count": 2,
   "metadata": {},
   "outputs": [],
   "source": [
    "#The NumPy library is the core library for scientific computing in Python. \n",
    "#It provides a high-performance multidimensional\n",
    "#Array object, and tools for working with these arrays. "
   ]
  },
  {
   "cell_type": "code",
   "execution_count": 4,
   "metadata": {},
   "outputs": [
    {
     "data": {
      "text/plain": [
       "'1.16.5'"
      ]
     },
     "execution_count": 4,
     "metadata": {},
     "output_type": "execute_result"
    }
   ],
   "source": [
    "#How to install Numpy \n",
    "#!pip install numpy\n",
    "#How to find the version of Numpy\n",
    "import numpy as np\n",
    "np.version.version"
   ]
  },
  {
   "cell_type": "code",
   "execution_count": 5,
   "metadata": {},
   "outputs": [],
   "source": [
    "# Python Numpy Array is better then List because:\n",
    "# -->Less Memory\n",
    "# -->Fast(Speed)\n",
    "# -->Convenient"
   ]
  },
  {
   "cell_type": "code",
   "execution_count": 12,
   "metadata": {},
   "outputs": [
    {
     "name": "stdout",
     "output_type": "stream",
     "text": [
      "Memory allocation by List\n",
      "28000\n",
      "Memory allocation by Array\n",
      "4000\n"
     ]
    }
   ],
   "source": [
    "# Memory allocation\n",
    "import numpy as np\n",
    " \n",
    "import time\n",
    "import sys\n",
    "S= range(1000)\n",
    "print(\"Memory allocation by List\")\n",
    "print(sys.getsizeof(5)*len(S))\n",
    " \n",
    "D= np.arange(1000)\n",
    "print(\"Memory allocation by Array\")\n",
    "print(D.size*D.itemsize)"
   ]
  },
  {
   "cell_type": "code",
   "execution_count": 13,
   "metadata": {},
   "outputs": [
    {
     "name": "stdout",
     "output_type": "stream",
     "text": [
      "Time taken by List\n",
      "184.47542190551758\n",
      "Time taken by Array\n",
      "49.8652458190918\n"
     ]
    }
   ],
   "source": [
    "# Faster and convenient\n",
    "\n",
    "import time\n",
    "import sys\n",
    " \n",
    "SIZE = 1000000\n",
    " \n",
    "L1= range(SIZE)\n",
    "L2= range(SIZE)\n",
    "A1= np.arange(SIZE)\n",
    "A2=np.arange(SIZE)\n",
    " \n",
    "start= time.time()\n",
    "result=[(x,y) for x,y in zip(L1,L2)]\n",
    "print(\"Time taken by List\")\n",
    "print((time.time()-start)*1000)\n",
    " \n",
    "start=time.time()\n",
    "result= A1+A2\n",
    "print(\"Time taken by Array\")\n",
    "print((time.time()-start)*1000)"
   ]
  },
  {
   "cell_type": "markdown",
   "metadata": {},
   "source": [
    "# numpy.dtype"
   ]
  },
  {
   "cell_type": "code",
   "execution_count": 15,
   "metadata": {},
   "outputs": [
    {
     "name": "stdout",
     "output_type": "stream",
     "text": [
      "int32\n"
     ]
    }
   ],
   "source": [
    "# Numpy supports vide varity of numeric types\n",
    "import numpy as np\n",
    "GP = np.array([[79,62,76,77,69,76,74,82,55,51]])\n",
    "print(GP.dtype)"
   ]
  },
  {
   "cell_type": "markdown",
   "metadata": {},
   "source": [
    "# np.ndim"
   ]
  },
  {
   "cell_type": "code",
   "execution_count": 21,
   "metadata": {},
   "outputs": [
    {
     "name": "stdout",
     "output_type": "stream",
     "text": [
      "2\n"
     ]
    },
    {
     "data": {
      "text/plain": [
       "array([[1, 2, 3],\n",
       "       [4, 5, 6]])"
      ]
     },
     "execution_count": 21,
     "metadata": {},
     "output_type": "execute_result"
    }
   ],
   "source": [
    "#Find the dimension of an array\n",
    "import numpy as np\n",
    "GP = np.array([(1,2,3),(4,5,6)])\n",
    "print(GP.ndim)\n",
    "GP"
   ]
  },
  {
   "cell_type": "markdown",
   "metadata": {},
   "source": [
    "# np.itemsize"
   ]
  },
  {
   "cell_type": "code",
   "execution_count": 19,
   "metadata": {},
   "outputs": [
    {
     "name": "stdout",
     "output_type": "stream",
     "text": [
      "1\n"
     ]
    }
   ],
   "source": [
    "# itemsize-calculate the byte size of each element.\n",
    "import numpy as np\n",
    "GP = np.array([[79,62,76,77,69,76,74,82,55,51]],dtype=np.int8)\n",
    "print(GP.itemsize)"
   ]
  },
  {
   "cell_type": "code",
   "execution_count": 20,
   "metadata": {},
   "outputs": [
    {
     "name": "stdout",
     "output_type": "stream",
     "text": [
      "4\n"
     ]
    }
   ],
   "source": [
    "import numpy as np\n",
    "GP = np.array([[79,62,76,77,69,76,74,82,55,51]],dtype=np.float32)\n",
    "print(GP.itemsize)"
   ]
  },
  {
   "cell_type": "markdown",
   "metadata": {},
   "source": [
    "# np.shape"
   ]
  },
  {
   "cell_type": "code",
   "execution_count": 23,
   "metadata": {},
   "outputs": [
    {
     "name": "stdout",
     "output_type": "stream",
     "text": [
      "(4, 10)\n"
     ]
    }
   ],
   "source": [
    "# shape-returns shape of the array in the form of rows and column\n",
    "import numpy as np \n",
    "GP = np.array([[79,62,76,77,69,76,74,82,55,51],[74,26,78,78,80,79,79,51,69,4],[78,66,81,81,27,72,62,78,78,0],[82,66,82,46,67,80,81,80,73,45]]) \n",
    "print( GP.shape)"
   ]
  },
  {
   "cell_type": "code",
   "execution_count": 22,
   "metadata": {},
   "outputs": [
    {
     "name": "stdout",
     "output_type": "stream",
     "text": [
      "(10, 10)\n"
     ]
    }
   ],
   "source": [
    "# shape function-returns shape of the array in the form of rows and column\n",
    "\n",
    "import numpy as np \n",
    "GP = np.array([[79,62,76,77,69,76,74,82,55,51],[74,26,78,78,80,79,79,51,69,4],[78,66,81,81,27,72,62,78,78,0],\n",
    "              [82,66,82,46,67,80,81,80,73,45],[82,62,78,73,81,82,81,72,78,51],[80,60,70,62,82,74,61,58,58,54],\n",
    "              [0,0,0,77,81,80,80,75,72,48], [0,0,82,82,82,75,75,73,80,54],[82,66,80,80,67,35,61,85,75,18],\n",
    "              [61,66,79,80,6,81,75,79,77,34]]) \n",
    "print( GP.shape)\n"
   ]
  },
  {
   "cell_type": "code",
   "execution_count": 24,
   "metadata": {},
   "outputs": [
    {
     "name": "stdout",
     "output_type": "stream",
     "text": [
      "(2, 5)\n",
      "[[ 1  2  3  4  5]\n",
      " [ 6  7  8  9 10]]\n"
     ]
    }
   ],
   "source": [
    "# using shape function to resize the array\n",
    "import numpy as np\n",
    "a=np.array([[1,2,3,4,5],[6,7,8,9,10]])\n",
    "print(a.shape)\n",
    "print(a)"
   ]
  },
  {
   "cell_type": "code",
   "execution_count": 25,
   "metadata": {},
   "outputs": [
    {
     "name": "stdout",
     "output_type": "stream",
     "text": [
      "[[ 1  2]\n",
      " [ 3  4]\n",
      " [ 5  6]\n",
      " [ 7  8]\n",
      " [ 9 10]]\n"
     ]
    }
   ],
   "source": [
    "a.shape=(5,2)\n",
    "print(a)"
   ]
  },
  {
   "cell_type": "code",
   "execution_count": 26,
   "metadata": {},
   "outputs": [
    {
     "name": "stdout",
     "output_type": "stream",
     "text": [
      "(7, 10)\n"
     ]
    }
   ],
   "source": [
    "# Also used to resize the array\n",
    "\n",
    "import numpy as np \n",
    "\n",
    "GP = np.array([[79,62,76,77,69,76,74,82,55,51],[74,26,78,78,80,79,79,51,69,4],[78,66,81,81,27,72,62,78,78,0],\n",
    "              [82,66,82,46,67,80,81,80,73,45],[82,62,78,73,81,82,81,72,78,51],[80,60,70,62,82,74,61,58,58,54],\n",
    "              [0,0,0,77,81,80,80,75,72,48]\n",
    "              ]) \n",
    "print(GP.shape)"
   ]
  },
  {
   "cell_type": "code",
   "execution_count": 27,
   "metadata": {},
   "outputs": [
    {
     "name": "stdout",
     "output_type": "stream",
     "text": [
      "Resize the array\n",
      "[[79 62 76 77 69 76 74]\n",
      " [82 55 51 74 26 78 78]\n",
      " [80 79 79 51 69  4 78]\n",
      " [66 81 81 27 72 62 78]\n",
      " [78  0 82 66 82 46 67]\n",
      " [80 81 80 73 45 82 62]\n",
      " [78 73 81 82 81 72 78]\n",
      " [51 80 60 70 62 82 74]\n",
      " [61 58 58 54  0  0  0]\n",
      " [77 81 80 80 75 72 48]]\n"
     ]
    }
   ],
   "source": [
    "print(\"Resize the array\")\n",
    "GP.shape = (10,7) \n",
    "print (GP)"
   ]
  },
  {
   "cell_type": "code",
   "execution_count": 28,
   "metadata": {},
   "outputs": [
    {
     "name": "stdout",
     "output_type": "stream",
     "text": [
      "(10, 7)\n"
     ]
    }
   ],
   "source": [
    "print(GP.shape)"
   ]
  },
  {
   "cell_type": "code",
   "execution_count": 29,
   "metadata": {},
   "outputs": [
    {
     "data": {
      "text/plain": [
       "array([[79, 62, 76, 77, 69, 76, 74],\n",
       "       [82, 55, 51, 74, 26, 78, 78],\n",
       "       [80, 79, 79, 51, 69,  4, 78],\n",
       "       [66, 81, 81, 27, 72, 62, 78],\n",
       "       [78,  0, 82, 66, 82, 46, 67],\n",
       "       [80, 81, 80, 73, 45, 82, 62],\n",
       "       [78, 73, 81, 82, 81, 72, 78],\n",
       "       [51, 80, 60, 70, 62, 82, 74],\n",
       "       [61, 58, 58, 54,  0,  0,  0],\n",
       "       [77, 81, 80, 80, 75, 72, 48]])"
      ]
     },
     "execution_count": 29,
     "metadata": {},
     "output_type": "execute_result"
    }
   ],
   "source": [
    "GP"
   ]
  },
  {
   "cell_type": "markdown",
   "metadata": {},
   "source": [
    "# np.reshape"
   ]
  },
  {
   "cell_type": "code",
   "execution_count": 30,
   "metadata": {},
   "outputs": [
    {
     "name": "stdout",
     "output_type": "stream",
     "text": [
      "[[[79 62 76 77 69 76 74 82 55 51]\n",
      "  [74 26 78 78 80 79 79 51 69  4]\n",
      "  [78 66 81 81 27 72 62 78 78  0]\n",
      "  [82 66 82 46 67 80 81 80 73 45]\n",
      "  [82 62 78 73 81 82 81 72 78 51]\n",
      "  [80 60 70 62 82 74 61 58 58 54]\n",
      "  [ 0  0  0 77 81 80 80 75 72 48]]]\n",
      "After reshaping\n",
      "[[79 62 76 77 69 76 74]\n",
      " [82 55 51 74 26 78 78]\n",
      " [80 79 79 51 69  4 78]\n",
      " [66 81 81 27 72 62 78]\n",
      " [78  0 82 66 82 46 67]\n",
      " [80 81 80 73 45 82 62]\n",
      " [78 73 81 82 81 72 78]\n",
      " [51 80 60 70 62 82 74]\n",
      " [61 58 58 54  0  0  0]\n",
      " [77 81 80 80 75 72 48]]\n"
     ]
    }
   ],
   "source": [
    "# Also provide reshape function to resize the array\n",
    "\n",
    "import numpy as np \n",
    "a = np.array([[[79,62,76,77,69,76,74,82,55,51],[74,26,78,78,80,79,79,51,69,4],[78,66,81,81,27,72,62,78,78,0],\n",
    "              [82,66,82,46,67,80,81,80,73,45],[82,62,78,73,81,82,81,72,78,51],[80,60,70,62,82,74,61,58,58,54],\n",
    "              [0,0,0,77,81,80,80,75,72,48]]])\n",
    "print(a)\n",
    "\n",
    "print('After reshaping')\n",
    "b = a.reshape(10,7) \n",
    "print (b)"
   ]
  },
  {
   "cell_type": "markdown",
   "metadata": {},
   "source": [
    "# np.empty"
   ]
  },
  {
   "cell_type": "code",
   "execution_count": 31,
   "metadata": {},
   "outputs": [
    {
     "name": "stdout",
     "output_type": "stream",
     "text": [
      "[[0. 0.]\n",
      " [0. 0.]\n",
      " [0. 0.]]\n"
     ]
    }
   ],
   "source": [
    "# empty function-used to create an uninitializd array of specified shape and size\n",
    "# numpy.empty(shape, dtype = float, order = 'C'\n",
    "\n",
    "import numpy as np\n",
    "a=np.empty([3,2])     # where(3,2) defines the shape of array\n",
    "print(a)"
   ]
  },
  {
   "cell_type": "markdown",
   "metadata": {},
   "source": [
    "# np.zero"
   ]
  },
  {
   "cell_type": "code",
   "execution_count": 33,
   "metadata": {},
   "outputs": [
    {
     "name": "stdout",
     "output_type": "stream",
     "text": [
      "[[0. 0.]\n",
      " [0. 0.]\n",
      " [0. 0.]]\n"
     ]
    }
   ],
   "source": [
    "# zeros function-returns an array filled with zero depends on its size\n",
    "# numpy.zeros(shape, dtype = float, order = 'C')\n",
    "\n",
    "import numpy as np\n",
    "a=np.zeros([3,2])\n",
    "print(a)"
   ]
  },
  {
   "cell_type": "code",
   "execution_count": 34,
   "metadata": {},
   "outputs": [
    {
     "name": "stdout",
     "output_type": "stream",
     "text": [
      "[[0 0]\n",
      " [0 0]\n",
      " [0 0]]\n"
     ]
    }
   ],
   "source": [
    "import numpy as np\n",
    "a=np.zeros([3,2],dtype=np.int)\n",
    "print(a)"
   ]
  },
  {
   "cell_type": "code",
   "execution_count": 35,
   "metadata": {},
   "outputs": [
    {
     "name": "stdout",
     "output_type": "stream",
     "text": [
      "[[0. 0.]\n",
      " [0. 0.]\n",
      " [0. 0.]]\n"
     ]
    }
   ],
   "source": [
    "import numpy as np\n",
    "a=np.zeros([3,2],dtype=np.float)\n",
    "print(a)"
   ]
  },
  {
   "cell_type": "markdown",
   "metadata": {},
   "source": [
    "# np.ones"
   ]
  },
  {
   "cell_type": "code",
   "execution_count": 36,
   "metadata": {},
   "outputs": [
    {
     "name": "stdout",
     "output_type": "stream",
     "text": [
      "[[1. 1.]\n",
      " [1. 1.]\n",
      " [1. 1.]]\n"
     ]
    }
   ],
   "source": [
    "# ones function-returns an array filled with one depends on its size and data type\n",
    "# numpy.ones(shape, dtype = None, order = 'C')\n",
    "\n",
    "import numpy as np\n",
    "a=np.ones([3,2])\n",
    "print(a)"
   ]
  },
  {
   "cell_type": "code",
   "execution_count": 37,
   "metadata": {},
   "outputs": [
    {
     "name": "stdout",
     "output_type": "stream",
     "text": [
      "[[1 1 1]\n",
      " [1 1 1]\n",
      " [1 1 1]]\n"
     ]
    }
   ],
   "source": [
    "import numpy as np\n",
    "a=np.ones([3,3],dtype=np.int)\n",
    "print(a)"
   ]
  },
  {
   "cell_type": "markdown",
   "metadata": {},
   "source": [
    "# np.arange"
   ]
  },
  {
   "cell_type": "code",
   "execution_count": 38,
   "metadata": {},
   "outputs": [
    {
     "name": "stdout",
     "output_type": "stream",
     "text": [
      "[0 1 2 3 4]\n"
     ]
    }
   ],
   "source": [
    "# arange function\n",
    "\n",
    "import numpy as np \n",
    "x = np.arange(5) \n",
    "print (x)"
   ]
  },
  {
   "cell_type": "code",
   "execution_count": 39,
   "metadata": {},
   "outputs": [
    {
     "name": "stdout",
     "output_type": "stream",
     "text": [
      "[0. 1. 2. 3. 4.]\n"
     ]
    }
   ],
   "source": [
    "import numpy as np \n",
    "x = np.arange(5,dtype=np.float) \n",
    "print (x)"
   ]
  },
  {
   "cell_type": "code",
   "execution_count": 41,
   "metadata": {},
   "outputs": [
    {
     "name": "stdout",
     "output_type": "stream",
     "text": [
      "[10 15 20]\n"
     ]
    }
   ],
   "source": [
    "# arange function-Creating an array of evenly spaced value(step value)\n",
    "# numpy.arange(start, stop, step, dtype)\n",
    "\n",
    "import numpy as np \n",
    "x = np.arange(10,25,5)    # start=10,stop=25,step=5 \n",
    "print (x)"
   ]
  },
  {
   "cell_type": "code",
   "execution_count": 42,
   "metadata": {},
   "outputs": [
    {
     "name": "stdout",
     "output_type": "stream",
     "text": [
      "[10. 15. 20.]\n"
     ]
    }
   ],
   "source": [
    "import numpy as np \n",
    "x = np.arange(10,25,5,dtype=np.float) \n",
    "print (x)"
   ]
  },
  {
   "cell_type": "markdown",
   "metadata": {},
   "source": [
    "# Indexing and Slicing"
   ]
  },
  {
   "cell_type": "code",
   "execution_count": 43,
   "metadata": {},
   "outputs": [
    {
     "name": "stdout",
     "output_type": "stream",
     "text": [
      "[2 4 6]\n"
     ]
    }
   ],
   "source": [
    "import numpy as np \n",
    "a = np.arange(10) \n",
    "s = slice(2,7,2) \n",
    "print (a[s])"
   ]
  },
  {
   "cell_type": "code",
   "execution_count": 44,
   "metadata": {},
   "outputs": [
    {
     "name": "stdout",
     "output_type": "stream",
     "text": [
      "[2 4 6]\n"
     ]
    }
   ],
   "source": [
    "import numpy as np \n",
    "a = np.arange(10) \n",
    "b = a[2:7:2] \n",
    "print (b)"
   ]
  },
  {
   "cell_type": "code",
   "execution_count": 45,
   "metadata": {},
   "outputs": [
    {
     "name": "stdout",
     "output_type": "stream",
     "text": [
      "5\n"
     ]
    }
   ],
   "source": [
    "# slice single item \n",
    "import numpy as np \n",
    "\n",
    "a = np.arange(10) \n",
    "b = a[5] \n",
    "print (b)"
   ]
  },
  {
   "cell_type": "code",
   "execution_count": 46,
   "metadata": {},
   "outputs": [
    {
     "name": "stdout",
     "output_type": "stream",
     "text": [
      "[2 3 4 5 6 7 8 9]\n"
     ]
    }
   ],
   "source": [
    "# slice items starting from index \n",
    "import numpy as np \n",
    "a = np.arange(10) \n",
    "print (a[2:])"
   ]
  },
  {
   "cell_type": "code",
   "execution_count": 47,
   "metadata": {},
   "outputs": [
    {
     "name": "stdout",
     "output_type": "stream",
     "text": [
      "[2 3 4]\n"
     ]
    }
   ],
   "source": [
    "# slice items between indexes \n",
    "\n",
    "import numpy as np \n",
    "a = np.arange(10) \n",
    "print (a[2:5])"
   ]
  },
  {
   "cell_type": "code",
   "execution_count": 48,
   "metadata": {},
   "outputs": [
    {
     "name": "stdout",
     "output_type": "stream",
     "text": [
      "[77 69 76 74 82]\n"
     ]
    }
   ],
   "source": [
    "# print the elements from index 3 to 7\n",
    "import numpy as np\n",
    "GP=np.array([79,62,76,77,69,76,74,82,55,51])\n",
    "\n",
    "print(GP[3:8])"
   ]
  },
  {
   "cell_type": "code",
   "execution_count": 49,
   "metadata": {},
   "outputs": [],
   "source": [
    "#Basketball Game\n",
    "# Games Played\n",
    "LeBronJames_G = [79,62,76,77,69,76,74,82,55,51]\n",
    "StephenCurry_G = [74,26,78,78,80,79,79,51,69,4]\n",
    "KevinDurant_G = [78,66,81,81,27,72,62,78,78,0]\n",
    "RusselWestBrook_G = [82,66,82,46,67,80,81,80,73,45]\n",
    "JamesHarden_G = [82,62,78,73,81,82,81,72,78,51]\n",
    "ChrisPaul_G = [80,60,70,62,82,74,61,58,58,54]\n",
    "GiannisAntetokounmpo_G = [0,0,0,77,81,80,80,75,72,48]\n",
    "DamianLillard_G = [0,0,82,82,82,75,75,73,80,54]\n",
    "BlakeGriffin_G = [82,66,80,80,67,35,61,85,75,18]\n",
    "PaulGeorgee_G = [61,66,79,80,6,81,75,79,77,34]"
   ]
  },
  {
   "cell_type": "code",
   "execution_count": 50,
   "metadata": {},
   "outputs": [
    {
     "name": "stdout",
     "output_type": "stream",
     "text": [
      "[[79 62 76 77 69 76 74 82 55 51]\n",
      " [74 26 78 78 80 79 79 51 69  4]\n",
      " [78 66 81 81 27 72 62 78 78  0]]\n",
      "\n",
      "Now we will slice the array from the index a[1:]\n",
      "[[74 26 78 78 80 79 79 51 69  4]\n",
      " [78 66 81 81 27 72 62 78 78  0]]\n"
     ]
    }
   ],
   "source": [
    "\n",
    "# If a : is inserted in front of single parameter, all items from that index onwards will be extracted.\n",
    "\n",
    "import numpy as np \n",
    "GP = np.array([[79,62,76,77,69,76,74,82,55,51],[74,26,78,78,80,79,79,51,69,4],[78,66,81,81,27,72,62,78,78,0]]) \n",
    "print (GP)  \n",
    "\n",
    "\n",
    "# slice items starting from index\n",
    "print()\n",
    "print ('Now we will slice the array from the index a[1:]') \n",
    "print (GP[1:])"
   ]
  },
  {
   "cell_type": "code",
   "execution_count": 57,
   "metadata": {},
   "outputs": [
    {
     "name": "stdout",
     "output_type": "stream",
     "text": [
      "[1 3 6]\n"
     ]
    }
   ],
   "source": [
    "#Integer Indexing\n",
    "# Each element of first dimension is paired with the element of the second dimension. \n",
    "# So the index of the elements in this case are (0,0),(1,0),(2,1) and the corresponding elements are selected.\n",
    "\n",
    " \n",
    "import numpy as np \n",
    "  \n",
    "a = np.array([[1 ,2 ],[3 ,4 ],[5 ,6 ]]) \n",
    "print(a[[0 ,1 ,2 ],[0 ,0 ,1]])"
   ]
  },
  {
   "cell_type": "code",
   "execution_count": 52,
   "metadata": {},
   "outputs": [
    {
     "name": "stdout",
     "output_type": "stream",
     "text": [
      "[77 79 78]\n"
     ]
    }
   ],
   "source": [
    "import numpy as np \n",
    "  \n",
    "GP = np.array([[79,62,76,77,69,76,74,82,55,51],[74,26,78,78,80,79,79,51,69,4],[78,66,81,81,27,72,62,78,78,0]]) \n",
    "print(GP[[0 ,1 ,2 ],[3 ,5 ,8]])"
   ]
  },
  {
   "cell_type": "code",
   "execution_count": 53,
   "metadata": {},
   "outputs": [
    {
     "name": "stdout",
     "output_type": "stream",
     "text": [
      "[74 26  0]\n"
     ]
    }
   ],
   "source": [
    "import numpy as np \n",
    "\n",
    "GP = np.array([[79,62,76,77,69,76,74,82,55,51],[74,26,78,78,80,79,79,51,69,4],[78,66,81,81,27,72,62,78,78,0]]) \n",
    "print(GP[[0,1,2], [6,1,9]]) \n"
   ]
  },
  {
   "cell_type": "code",
   "execution_count": 54,
   "metadata": {},
   "outputs": [
    {
     "name": "stdout",
     "output_type": "stream",
     "text": [
      "Our array is:\n",
      "[[79 62 76 77 69 76 74 82 55 51]\n",
      " [74 26 78 78 80 79 79 51 69  4]\n",
      " [78 66 81 81 27 72 62 78 78  0]\n",
      " [82 66 82 46 67 80 81 80 73 45]\n",
      " [82 62 78 73 81 82 81 72 78 51]]\n",
      "\n",
      "\n",
      "The corner elements of this array are:\n",
      "[[79 51]\n",
      " [82 51]]\n"
     ]
    }
   ],
   "source": [
    "\n",
    "import numpy as np \n",
    "GP = np.array([[79,62,76,77,69,76,74,82,55,51],[74,26,78,78,80,79,79,51,69,4],[78,66,81,81,27,72,62,78,78,0]\n",
    "              ,[82,66,82,46,67,80,81,80,73,45],[82,62,78,73,81,82,81,72,78,51]]) \n",
    "   \n",
    "print ('Our array is:' )\n",
    "print (GP) \n",
    "print ('\\n') \n",
    "\n",
    "rows = np.array([[0,0],[4,4]])   # it seems confusing so here take row 0 col 0 =79 , rows 0 cols 9= 82\n",
    "cols = np.array([[0,9],[0,9]])   #  row 4 cols 0 = 51  and  rows 4  cols 9= 51   match them vertically\n",
    " \n",
    "   \n",
    "print ('The corner elements of this array are:') \n",
    "print (GP[rows,cols])"
   ]
  },
  {
   "cell_type": "code",
   "execution_count": 55,
   "metadata": {},
   "outputs": [
    {
     "name": "stdout",
     "output_type": "stream",
     "text": [
      "Our array is:\n",
      "[[79 62 76 77 69 76 74 82 55 51]\n",
      " [74 26 78 78 80 79 79 51 69  4]\n",
      " [78 66 81 81 27 72 62 78 78  0]\n",
      " [82 66 82 46 67 80 81 80 73 45]\n",
      " [82 62 78 73 81 82 81 72 78 51]]\n",
      "\n",
      "\n",
      "After slicing, our array becomes:\n",
      "[[26 78 78]\n",
      " [66 81 81]\n",
      " [66 82 46]\n",
      " [62 78 73]]\n",
      "\n",
      "\n",
      "Slicing using advanced index for column:\n",
      "[[26 78 78]\n",
      " [66 81 81]\n",
      " [66 82 46]\n",
      " [62 78 73]]\n"
     ]
    }
   ],
   "source": [
    "import numpy as np \n",
    "GP = np.array([[79,62,76,77,69,76,74,82,55,51],[74,26,78,78,80,79,79,51,69,4],[78,66,81,81,27,72,62,78,78,0]\n",
    "              ,[82,66,82,46,67,80,81,80,73,45],[82,62,78,73,81,82,81,72,78,51]]) \n",
    "\n",
    "print ('Our array is:') \n",
    "print (GP) \n",
    "print ('\\n' ) \n",
    "\n",
    "# slicing \n",
    "z = GP[1:5,1:4] \n",
    "\n",
    "print ('After slicing, our array becomes:') \n",
    "print (z) \n",
    "print ('\\n')  \n",
    "\n",
    "# using advanced index for column \n",
    "y = GP[1:5,[1,2,3]] \n",
    "\n",
    "print ('Slicing using advanced index for column:') \n",
    "print (y)"
   ]
  },
  {
   "cell_type": "code",
   "execution_count": 56,
   "metadata": {},
   "outputs": [
    {
     "name": "stdout",
     "output_type": "stream",
     "text": [
      "[ 80 100]\n"
     ]
    }
   ],
   "source": [
    "#Boolean Indexing\n",
    "# You may wish to select numbers greater than 50 \n",
    "import numpy as np \n",
    "  \n",
    "a = np.array([10, 40, 80, 50, 100]) \n",
    "print(a[a>50]) "
   ]
  },
  {
   "cell_type": "code",
   "execution_count": 60,
   "metadata": {},
   "outputs": [
    {
     "name": "stdout",
     "output_type": "stream",
     "text": [
      "Our array is:\n",
      "[[79 62 76 77 69 76 74 82 55 51]\n",
      " [74 26 78 78 80 79 79 51 69  4]\n",
      " [78 66 81 81 27 72 62 78 78  0]\n",
      " [82 66 82 46 67 80 81 80 73 45]\n",
      " [82 62 78 73 81 82 81 72 78 51]\n",
      " [80 60 70 62 82 74 61 58 58 54]\n",
      " [ 0  0  0 77 81 80 80 75 72 48]\n",
      " [ 0  0 82 82 82 75 75 73 80 54]\n",
      " [82 66 80 80 67 35 61 85 75 18]\n",
      " [61 66 79 80  6 81 75 79 77 34]]\n",
      "\n",
      "\n",
      "Games played more then 82\n",
      "[85]\n"
     ]
    }
   ],
   "source": [
    "\n",
    "  \n",
    "import numpy as np \n",
    "GP = np.array([[79,62,76,77,69,76,74,82,55,51],[74,26,78,78,80,79,79,51,69,4],[78,66,81,81,27,72,62,78,78,0],\n",
    "              [82,66,82,46,67,80,81,80,73,45],[82,62,78,73,81,82,81,72,78,51],[80,60,70,62,82,74,61,58,58,54],\n",
    "              [0,0,0,77,81,80,80,75,72,48], [0,0,82,82,82,75,75,73,80,54],[82,66,80,80,67,35,61,85,75,18],\n",
    "              [61,66,79,80,6,81,75,79,77,34]]) \n",
    "\n",
    "print ('Our array is:' )\n",
    "print (GP) \n",
    "print ('\\n') \n",
    "\n",
    "print('Games played more then 82')\n",
    "print(GP[GP>82])"
   ]
  },
  {
   "cell_type": "code",
   "execution_count": 61,
   "metadata": {},
   "outputs": [
    {
     "name": "stdout",
     "output_type": "stream",
     "text": [
      "[   0    0    0    0 5625    0    0 5625 5625 5625 5625]\n"
     ]
    }
   ],
   "source": [
    "# You may wish to square the multiples of 40  \n",
    "import numpy as np \n",
    "  \n",
    "GP = np.array([[79,62,76,77,69,76,74,82,55,51],[74,26,78,78,80,79,79,51,69,4],[78,66,81,81,27,72,62,78,78,0],\n",
    "              [82,66,82,46,67,80,81,80,73,45],[82,62,78,73,81,82,81,72,78,51],[80,60,70,62,82,74,61,58,58,54],\n",
    "              [0,0,0,77,81,80,80,75,72,48], [0,0,82,82,82,75,75,73,80,54],[82,66,80,80,67,35,61,85,75,18],\n",
    "              [61,66,79,80,6,81,75,79,77,34]])  \n",
    "print(GP[GP%25==0]**2) "
   ]
  },
  {
   "cell_type": "code",
   "execution_count": 62,
   "metadata": {},
   "outputs": [
    {
     "name": "stdout",
     "output_type": "stream",
     "text": [
      "[ 10  40  90 160]\n"
     ]
    }
   ],
   "source": [
    "#Broadcasting\n",
    "import numpy as np \n",
    "\n",
    "a = np.array([1,2,3,4]) \n",
    "b = np.array([10,20,30,40]) \n",
    "c = a * b \n",
    "print (c)"
   ]
  },
  {
   "cell_type": "code",
   "execution_count": 63,
   "metadata": {},
   "outputs": [
    {
     "name": "stdout",
     "output_type": "stream",
     "text": [
      "First array:\n",
      "[[ 0.  0.  0.]\n",
      " [10. 10. 10.]\n",
      " [20. 20. 20.]\n",
      " [30. 30. 30.]]\n",
      "\n",
      "\n",
      "Second array:\n",
      "[1. 2. 3.]\n",
      "\n",
      "\n",
      "First Array + Second Array\n",
      "[[ 1.  2.  3.]\n",
      " [11. 12. 13.]\n",
      " [21. 22. 23.]\n",
      " [31. 32. 33.]]\n"
     ]
    }
   ],
   "source": [
    "import numpy as np \n",
    "a = np.array([[0.0,0.0,0.0],[10.0,10.0,10.0],[20.0,20.0,20.0],[30.0,30.0,30.0]]) \n",
    "b = np.array([1.0,2.0,3.0])  \n",
    "   \n",
    "print ('First array:') \n",
    "print (a) \n",
    "print ('\\n')  \n",
    "   \n",
    "print ('Second array:') \n",
    "print (b) \n",
    "print ('\\n')  \n",
    "   \n",
    "print ('First Array + Second Array') \n",
    "print (a + b)"
   ]
  },
  {
   "cell_type": "code",
   "execution_count": 64,
   "metadata": {},
   "outputs": [
    {
     "name": "stdout",
     "output_type": "stream",
     "text": [
      "Original array is:\n",
      "[[ 0  5 10 15]\n",
      " [20 25 30 35]\n",
      " [40 45 50 55]]\n",
      "\n",
      "\n",
      "Modified array is:\n",
      "0\n",
      "5\n",
      "10\n",
      "15\n",
      "20\n",
      "25\n",
      "30\n",
      "35\n",
      "40\n",
      "45\n",
      "50\n",
      "55\n"
     ]
    }
   ],
   "source": [
    "#Iteration\n",
    "# numpy.nditer\n",
    "\n",
    "import numpy as np\n",
    "a = np.arange(0,60,5)\n",
    "a = a.reshape(3,4)\n",
    "\n",
    "print ('Original array is:')\n",
    "print (a)\n",
    "print ('\\n')\n",
    "\n",
    "print ('Modified array is:')\n",
    "for x in np.nditer(a):\n",
    "   print (x),"
   ]
  },
  {
   "cell_type": "code",
   "execution_count": 65,
   "metadata": {},
   "outputs": [
    {
     "name": "stdout",
     "output_type": "stream",
     "text": [
      "Original array is:\n",
      "[[79 62 76 77 69 76 74 82 55 51]\n",
      " [74 26 78 78 80 79 79 51 69  4]\n",
      " [78 66 81 81 27 72 62 78 78  0]]\n",
      "\n",
      "\n",
      "Modified array is:\n",
      "79\n",
      "62\n",
      "76\n",
      "77\n",
      "69\n",
      "76\n",
      "74\n",
      "82\n",
      "55\n",
      "51\n",
      "74\n",
      "26\n",
      "78\n",
      "78\n",
      "80\n",
      "79\n",
      "79\n",
      "51\n",
      "69\n",
      "4\n",
      "78\n",
      "66\n",
      "81\n",
      "81\n",
      "27\n",
      "72\n",
      "62\n",
      "78\n",
      "78\n",
      "0\n"
     ]
    }
   ],
   "source": [
    "# numpy.nditer\n",
    "import numpy as np\n",
    "GP = np.array([[79,62,76,77,69,76,74,82,55,51],[74,26,78,78,80,79,79,51,69,4],[78,66,81,81,27,72,62,78,78,0]]) \n",
    "\n",
    "print ('Original array is:')\n",
    "print (GP)\n",
    "print ('\\n')\n",
    "\n",
    "print ('Modified array is:')\n",
    "for x in np.nditer(GP):\n",
    "   print (x),"
   ]
  },
  {
   "cell_type": "code",
   "execution_count": 66,
   "metadata": {},
   "outputs": [
    {
     "name": "stdout",
     "output_type": "stream",
     "text": [
      "Original array is:\n",
      "[[79 62 76 77 69 76 74 82 55 51]\n",
      " [74 26 78 78 80 79 79 51 69  4]\n",
      " [78 66 81 81 27 72 62 78 78  0]]\n",
      "\n",
      "\n",
      "Transpose of the original array is:\n",
      "[[79 74 78]\n",
      " [62 26 66]\n",
      " [76 78 81]\n",
      " [77 78 81]\n",
      " [69 80 27]\n",
      " [76 79 72]\n",
      " [74 79 62]\n",
      " [82 51 78]\n",
      " [55 69 78]\n",
      " [51  4  0]]\n",
      "\n",
      "\n",
      "Modified array is:\n",
      "79\n",
      "62\n",
      "76\n",
      "77\n",
      "69\n",
      "76\n",
      "74\n",
      "82\n",
      "55\n",
      "51\n",
      "74\n",
      "26\n",
      "78\n",
      "78\n",
      "80\n",
      "79\n",
      "79\n",
      "51\n",
      "69\n",
      "4\n",
      "78\n",
      "66\n",
      "81\n",
      "81\n",
      "27\n",
      "72\n",
      "62\n",
      "78\n",
      "78\n",
      "0\n"
     ]
    }
   ],
   "source": [
    "import numpy as np\n",
    "GP = np.array([[79,62,76,77,69,76,74,82,55,51],[74,26,78,78,80,79,79,51,69,4],[78,66,81,81,27,72,62,78,78,0]]) \n",
    "\n",
    "print ('Original array is:')\n",
    "print (GP)\n",
    "print ('\\n')\n",
    "print ('Transpose of the original array is:') \n",
    "b = GP.T \n",
    "print (b) \n",
    "print ('\\n')  \n",
    "   \n",
    "print ('Modified array is:') \n",
    "for x in np.nditer(b): \n",
    "   print (x),"
   ]
  },
  {
   "cell_type": "code",
   "execution_count": 67,
   "metadata": {},
   "outputs": [
    {
     "name": "stdout",
     "output_type": "stream",
     "text": [
      "The original array is:\n",
      "[[79 62 76 77 69 76 74 82 55 51]\n",
      " [74 26 78 78 80 79 79 51 69  4]\n",
      " [78 66 81 81 27 72 62 78 78  0]\n",
      " [82 66 82 46 67 80 81 80 73 45]\n",
      " [82 62 78 73 81 82 81 72 78 51]\n",
      " [80 60 70 62 82 74 61 58 58 54]\n",
      " [ 0  0  0 77 81 80 80 75 72 48]\n",
      " [ 0  0 82 82 82 75 75 73 80 54]\n",
      " [82 66 80 80 67 35 61 85 75 18]\n",
      " [61 66 79 80  6 81 75 79 77 34]]\n",
      "\n",
      "\n",
      "The transposed array is:\n",
      "[[79 74 78 82 82 80  0  0 82 61]\n",
      " [62 26 66 66 62 60  0  0 66 66]\n",
      " [76 78 81 82 78 70  0 82 80 79]\n",
      " [77 78 81 46 73 62 77 82 80 80]\n",
      " [69 80 27 67 81 82 81 82 67  6]\n",
      " [76 79 72 80 82 74 80 75 35 81]\n",
      " [74 79 62 81 81 61 80 75 61 75]\n",
      " [82 51 78 80 72 58 75 73 85 79]\n",
      " [55 69 78 73 78 58 72 80 75 77]\n",
      " [51  4  0 45 51 54 48 54 18 34]]\n"
     ]
    }
   ],
   "source": [
    "# numpy.transpose(arr, axes)\n",
    "\n",
    "\n",
    "import numpy as np \n",
    "GP = np.array([[79,62,76,77,69,76,74,82,55,51],[74,26,78,78,80,79,79,51,69,4],[78,66,81,81,27,72,62,78,78,0],\n",
    "              [82,66,82,46,67,80,81,80,73,45],[82,62,78,73,81,82,81,72,78,51],[80,60,70,62,82,74,61,58,58,54],\n",
    "              [0,0,0,77,81,80,80,75,72,48], [0,0,82,82,82,75,75,73,80,54],[82,66,80,80,67,35,61,85,75,18],\n",
    "              [61,66,79,80,6,81,75,79,77,34]]) \n",
    "\n",
    "print ('The original array is:') \n",
    "print (GP)  \n",
    "print ('\\n') \n",
    "\n",
    "print ('The transposed array is:') \n",
    "print (np.transpose(GP))\n"
   ]
  },
  {
   "cell_type": "code",
   "execution_count": 68,
   "metadata": {},
   "outputs": [
    {
     "name": "stdout",
     "output_type": "stream",
     "text": [
      "The original array is:\n",
      "[[79 62 76 77 69 76 74 82 55 51]\n",
      " [74 26 78 78 80 79 79 51 69  4]\n",
      " [78 66 81 81 27 72 62 78 78  0]\n",
      " [82 66 82 46 67 80 81 80 73 45]\n",
      " [82 62 78 73 81 82 81 72 78 51]\n",
      " [80 60 70 62 82 74 61 58 58 54]\n",
      " [ 0  0  0 77 81 80 80 75 72 48]\n",
      " [ 0  0 82 82 82 75 75 73 80 54]\n",
      " [82 66 80 80 67 35 61 85 75 18]\n",
      " [61 66 79 80  6 81 75 79 77 34]]\n",
      "\n",
      "\n",
      "The transposed array is:\n",
      "[[79 74 78 82 82 80  0  0 82 61]\n",
      " [62 26 66 66 62 60  0  0 66 66]\n",
      " [76 78 81 82 78 70  0 82 80 79]\n",
      " [77 78 81 46 73 62 77 82 80 80]\n",
      " [69 80 27 67 81 82 81 82 67  6]\n",
      " [76 79 72 80 82 74 80 75 35 81]\n",
      " [74 79 62 81 81 61 80 75 61 75]\n",
      " [82 51 78 80 72 58 75 73 85 79]\n",
      " [55 69 78 73 78 58 72 80 75 77]\n",
      " [51  4  0 45 51 54 48 54 18 34]]\n"
     ]
    }
   ],
   "source": [
    "# behave similar to np.transpose\n",
    "\n",
    "\n",
    "import numpy as np \n",
    "GP = np.array([[79,62,76,77,69,76,74,82,55,51],[74,26,78,78,80,79,79,51,69,4],[78,66,81,81,27,72,62,78,78,0],\n",
    "              [82,66,82,46,67,80,81,80,73,45],[82,62,78,73,81,82,81,72,78,51],[80,60,70,62,82,74,61,58,58,54],\n",
    "              [0,0,0,77,81,80,80,75,72,48], [0,0,82,82,82,75,75,73,80,54],[82,66,80,80,67,35,61,85,75,18],\n",
    "              [61,66,79,80,6,81,75,79,77,34]]) \n",
    "\n",
    "print ('The original array is:') \n",
    "print (GP)  \n",
    "print ('\\n') \n",
    "\n",
    "print ('The transposed array is:') \n",
    "print (GP.T)"
   ]
  },
  {
   "cell_type": "code",
   "execution_count": 69,
   "metadata": {},
   "outputs": [
    {
     "name": "stdout",
     "output_type": "stream",
     "text": [
      "First array:\n",
      "[[79 62 76 77 69 76 74 82 55 51]\n",
      " [74 26 78 78 80 79 79 51 69  4]\n",
      " [78 66 81 81 27 72 62 78 78  0]\n",
      " [82 66 82 46 67 80 81 80 73 45]\n",
      " [82 62 78 73 81 82 81 72 78 51]]\n",
      "\n",
      "\n",
      "Second array:\n",
      "[[80 60 70 62 82 74 61 58 58 54]\n",
      " [ 0  0  0 77 81 80 80 75 72 48]\n",
      " [ 0  0 82 82 82 75 75 73 80 54]\n",
      " [82 66 80 80 67 35 61 85 75 18]\n",
      " [61 66 79 80  6 81 75 79 77 34]]\n",
      "\n",
      "\n"
     ]
    }
   ],
   "source": [
    "#Joining Array \n",
    "#Concatenation Function \n",
    "\n",
    "# numpy.concatenate((a1, a2, ...), axis)\n",
    "\n",
    "\n",
    "import numpy as np \n",
    "# First Array\n",
    "GP1 = np.array([[79,62,76,77,69,76,74,82,55,51],[74,26,78,78,80,79,79,51,69,4],[78,66,81,81,27,72,62,78,78,0],\n",
    "              [82,66,82,46,67,80,81,80,73,45],[82,62,78,73,81,82,81,72,78,51]]) \n",
    "print ('First array:') \n",
    "print (GP1) \n",
    "print ('\\n')\n",
    "\n",
    "\n",
    "# Second Array\n",
    "GP2 = np.array([[80,60,70,62,82,74,61,58,58,54],\n",
    "              [0,0,0,77,81,80,80,75,72,48], [0,0,82,82,82,75,75,73,80,54],[82,66,80,80,67,35,61,85,75,18],\n",
    "              [61,66,79,80,6,81,75,79,77,34]]) \n",
    "print ('Second array:') \n",
    "print (GP2) \n",
    "print ('\\n')\n"
   ]
  },
  {
   "cell_type": "code",
   "execution_count": 70,
   "metadata": {},
   "outputs": [
    {
     "name": "stdout",
     "output_type": "stream",
     "text": [
      "Joining the two arrays along axis 0:\n",
      "[[79 62 76 77 69 76 74 82 55 51]\n",
      " [74 26 78 78 80 79 79 51 69  4]\n",
      " [78 66 81 81 27 72 62 78 78  0]\n",
      " [82 66 82 46 67 80 81 80 73 45]\n",
      " [82 62 78 73 81 82 81 72 78 51]\n",
      " [80 60 70 62 82 74 61 58 58 54]\n",
      " [ 0  0  0 77 81 80 80 75 72 48]\n",
      " [ 0  0 82 82 82 75 75 73 80 54]\n",
      " [82 66 80 80 67 35 61 85 75 18]\n",
      " [61 66 79 80  6 81 75 79 77 34]]\n",
      "\n",
      "\n"
     ]
    }
   ],
   "source": [
    "# both the arrays are of same dimensions \n",
    "\n",
    "print ('Joining the two arrays along axis 0:') \n",
    "print (np.concatenate((GP1,GP2))) \n",
    "print ('\\n')  "
   ]
  },
  {
   "cell_type": "code",
   "execution_count": 71,
   "metadata": {},
   "outputs": [
    {
     "name": "stdout",
     "output_type": "stream",
     "text": [
      "Joining the two arrays along axis 1:\n",
      "[[79 62 76 77 69 76 74 82 55 51 80 60 70 62 82 74 61 58 58 54]\n",
      " [74 26 78 78 80 79 79 51 69  4  0  0  0 77 81 80 80 75 72 48]\n",
      " [78 66 81 81 27 72 62 78 78  0  0  0 82 82 82 75 75 73 80 54]\n",
      " [82 66 82 46 67 80 81 80 73 45 82 66 80 80 67 35 61 85 75 18]\n",
      " [82 62 78 73 81 82 81 72 78 51 61 66 79 80  6 81 75 79 77 34]]\n"
     ]
    }
   ],
   "source": [
    "print ('Joining the two arrays along axis 1:') \n",
    "print (np.concatenate((GP1,GP2),axis = 1))"
   ]
  },
  {
   "cell_type": "code",
   "execution_count": 72,
   "metadata": {},
   "outputs": [],
   "source": [
    "#Arithmatic Operations "
   ]
  },
  {
   "cell_type": "code",
   "execution_count": 73,
   "metadata": {},
   "outputs": [
    {
     "name": "stdout",
     "output_type": "stream",
     "text": [
      "First array:\n",
      "[[79 62 76 77 69 76 74 82 55 51]\n",
      " [74 26 78 78 80 79 79 51 69  4]\n",
      " [78 66 81 81 27 72 62 78 78  0]\n",
      " [82 66 82 46 67 80 81 80 73 45]\n",
      " [82 62 78 73 81 82 81 72 78 51]]\n",
      "\n",
      "\n",
      "Second array:\n",
      "[[80 60 70 62 82 74 61 58 58 54]\n",
      " [ 0  0  0 77 81 80 80 75 72 48]\n",
      " [ 0  0 82 82 82 75 75 73 80 54]\n",
      " [82 66 80 80 67 35 61 85 75 18]\n",
      " [61 66 79 80  6 81 75 79 77 34]]\n",
      "\n",
      "\n"
     ]
    }
   ],
   "source": [
    "# Basic Airthmeic Operations\n",
    "\n",
    "import numpy as np \n",
    "GP1 = np.array([[79,62,76,77,69,76,74,82,55,51],[74,26,78,78,80,79,79,51,69,4],[78,66,81,81,27,72,62,78,78,0],\n",
    "              [82,66,82,46,67,80,81,80,73,45],[82,62,78,73,81,82,81,72,78,51]]) \n",
    "print ('First array:') \n",
    "print (GP1) \n",
    "print ('\\n')  \n",
    "\n",
    "print ('Second array:') \n",
    "GP2 = np.array([[80,60,70,62,82,74,61,58,58,54],\n",
    "              [0,0,0,77,81,80,80,75,72,48], [0,0,82,82,82,75,75,73,80,54],[82,66,80,80,67,35,61,85,75,18],\n",
    "              [61,66,79,80,6,81,75,79,77,34]]) \n",
    "print (GP2) \n",
    "print ('\\n')  "
   ]
  },
  {
   "cell_type": "code",
   "execution_count": 74,
   "metadata": {},
   "outputs": [
    {
     "name": "stdout",
     "output_type": "stream",
     "text": [
      "Add the two arrays:\n",
      "[[159 122 146 139 151 150 135 140 113 105]\n",
      " [ 74  26  78 155 161 159 159 126 141  52]\n",
      " [ 78  66 163 163 109 147 137 151 158  54]\n",
      " [164 132 162 126 134 115 142 165 148  63]\n",
      " [143 128 157 153  87 163 156 151 155  85]]\n",
      "\n",
      "\n"
     ]
    }
   ],
   "source": [
    "# add()\n",
    "\n",
    "print ('Add the two arrays:') \n",
    "print (np.add(GP1,GP2)) \n",
    "print ('\\n')"
   ]
  },
  {
   "cell_type": "code",
   "execution_count": 76,
   "metadata": {},
   "outputs": [
    {
     "name": "stdout",
     "output_type": "stream",
     "text": [
      "Subtract the two arrays:\n",
      "[[ -1   2   6  15 -13   2  13  24  -3  -3]\n",
      " [ 74  26  78   1  -1  -1  -1 -24  -3 -44]\n",
      " [ 78  66  -1  -1 -55  -3 -13   5  -2 -54]\n",
      " [  0   0   2 -34   0  45  20  -5  -2  27]\n",
      " [ 21  -4  -1  -7  75   1   6  -7   1  17]]\n",
      "\n",
      "\n"
     ]
    }
   ],
   "source": [
    "# subtract()\n",
    "\n",
    "print ('Subtract the two arrays:') \n",
    "print (np.subtract(GP1,GP2)) \n",
    "print ('\\n')"
   ]
  },
  {
   "cell_type": "code",
   "execution_count": 77,
   "metadata": {},
   "outputs": [
    {
     "name": "stdout",
     "output_type": "stream",
     "text": [
      "Multiply the two arrays:\n",
      "[[6320 3720 5320 4774 5658 5624 4514 4756 3190 2754]\n",
      " [   0    0    0 6006 6480 6320 6320 3825 4968  192]\n",
      " [   0    0 6642 6642 2214 5400 4650 5694 6240    0]\n",
      " [6724 4356 6560 3680 4489 2800 4941 6800 5475  810]\n",
      " [5002 4092 6162 5840  486 6642 6075 5688 6006 1734]]\n",
      "\n",
      "\n"
     ]
    }
   ],
   "source": [
    "# multiply()\n",
    "\n",
    "print ('Multiply the two arrays:') \n",
    "print (np.multiply(GP1,GP2)) \n",
    "print ('\\n')  \n"
   ]
  },
  {
   "cell_type": "code",
   "execution_count": 78,
   "metadata": {},
   "outputs": [
    {
     "name": "stdout",
     "output_type": "stream",
     "text": [
      "Divide the two arrays:\n",
      "[[ 0.9875      1.03333333  1.08571429  1.24193548  0.84146341  1.02702703\n",
      "   1.21311475  1.4137931   0.94827586  0.94444444]\n",
      " [        inf         inf         inf  1.01298701  0.98765432  0.9875\n",
      "   0.9875      0.68        0.95833333  0.08333333]\n",
      " [        inf         inf  0.98780488  0.98780488  0.32926829  0.96\n",
      "   0.82666667  1.06849315  0.975       0.        ]\n",
      " [ 1.          1.          1.025       0.575       1.          2.28571429\n",
      "   1.32786885  0.94117647  0.97333333  2.5       ]\n",
      " [ 1.3442623   0.93939394  0.98734177  0.9125     13.5         1.01234568\n",
      "   1.08        0.91139241  1.01298701  1.5       ]]\n"
     ]
    },
    {
     "name": "stderr",
     "output_type": "stream",
     "text": [
      "C:\\Users\\Admin\\Anaconda3\\lib\\site-packages\\ipykernel_launcher.py:3: RuntimeWarning: divide by zero encountered in true_divide\n",
      "  This is separate from the ipykernel package so we can avoid doing imports until\n"
     ]
    }
   ],
   "source": [
    "# divide()\n",
    "print ('Divide the two arrays:') \n",
    "print (np.divide(GP1,GP2))"
   ]
  },
  {
   "cell_type": "code",
   "execution_count": 79,
   "metadata": {},
   "outputs": [
    {
     "name": "stdout",
     "output_type": "stream",
     "text": [
      "Our array is:\n",
      "[  10  100 1000]\n",
      "\n",
      "\n",
      "Applying power function:\n",
      "[    100   10000 1000000]\n",
      "\n",
      "\n",
      "Second array:\n",
      "[1 2 3]\n",
      "\n",
      "\n",
      "Applying power function again:\n",
      "[        10      10000 1000000000]\n"
     ]
    }
   ],
   "source": [
    "#Power\n",
    "# power()-\n",
    "\n",
    "import numpy as np \n",
    "a = np.array([10,100,1000]) \n",
    "\n",
    "print ('Our array is:') \n",
    "print (a) \n",
    "print ('\\n')  \n",
    "\n",
    "print ('Applying power function:') \n",
    "print (np.power(a,2)) \n",
    "print ('\\n')  \n",
    "\n",
    "print ('Second array:') \n",
    "b = (np.array([1,2,3])) \n",
    "print (b) \n",
    "print ('\\n')  \n",
    "\n",
    "print ('Applying power function again:') \n",
    "print (np.power(a,b))"
   ]
  },
  {
   "cell_type": "code",
   "execution_count": 80,
   "metadata": {},
   "outputs": [
    {
     "name": "stdout",
     "output_type": "stream",
     "text": [
      "Our array is:\n",
      "[79 62 76 77 69 76 74 82 55 51]\n",
      "\n",
      "\n",
      "Applying power function:\n",
      "[493039 238328 438976 456533 328509 438976 405224 551368 166375 132651]\n",
      "\n",
      "\n"
     ]
    }
   ],
   "source": [
    "import numpy as np \n",
    "GP = np.array([79,62,76,77,69,76,74,82,55,51]) \n",
    "\n",
    "print ('Our array is:') \n",
    "print (GP) \n",
    "print ('\\n')  \n",
    "\n",
    "print ('Applying power function:') \n",
    "print (np.power(GP,3)) \n",
    "print ('\\n')  \n",
    "\n"
   ]
  },
  {
   "cell_type": "code",
   "execution_count": 81,
   "metadata": {},
   "outputs": [
    {
     "name": "stdout",
     "output_type": "stream",
     "text": [
      "First array:\n",
      "[10 20 30]\n",
      "\n",
      "\n",
      "Second array:\n",
      "[3 5 7]\n",
      "\n",
      "\n",
      "Applying mod() function:\n",
      "[1 0 2]\n",
      "\n",
      "\n",
      "Applying remainder() function:\n",
      "[1 0 2]\n"
     ]
    }
   ],
   "source": [
    "#Mod function\n",
    "# mod()\n",
    "\n",
    "import numpy as np \n",
    "a = np.array([10,20,30]) \n",
    "b = np.array([3,5,7]) \n",
    "\n",
    "print ('First array:') \n",
    "print (a) \n",
    "print ('\\n')  \n",
    "\n",
    "print ('Second array:') \n",
    "print (b) \n",
    "print ('\\n')  \n",
    "\n",
    "print ('Applying mod() function:') \n",
    "print (np.mod(a,b)) \n",
    "print ('\\n')  \n",
    "\n",
    "print ('Applying remainder() function:') \n",
    "print (np.remainder(a,b)) "
   ]
  },
  {
   "cell_type": "code",
   "execution_count": 82,
   "metadata": {},
   "outputs": [
    {
     "name": "stdout",
     "output_type": "stream",
     "text": [
      "Our array is:\n",
      "[[79 62 76 77 69 76 74 82 55 51]\n",
      " [74 26 78 78 80 79 79 51 69  4]\n",
      " [78 66 81 81 27 72 62 78 78  0]]\n",
      "\n",
      "\n",
      "Using amin() function:\n",
      "[51  4  0]\n",
      "\n",
      "\n",
      "Using amin() function again:\n",
      "[74 26 76 77 27 72 62 51 55  0]\n",
      "\n",
      "\n"
     ]
    }
   ],
   "source": [
    "#Statistical function \n",
    "# These functions return the minimum and the maximum from the elements in the given array along the specified axis.\n",
    "\n",
    "import numpy as np \n",
    "GP = np.array([[79,62,76,77,69,76,74,82,55,51],[74,26,78,78,80,79,79,51,69,4],[78,66,81,81,27,72,62,78,78,0]]) \n",
    "\n",
    "print ('Our array is:') \n",
    "print (GP)  \n",
    "print ('\\n')  \n",
    "\n",
    "print ('Using amin() function:') \n",
    "print (np.amin(GP,1)) \n",
    "print ('\\n')  \n",
    "\n",
    "print ('Using amin() function again:') \n",
    "print (np.amin(GP,0)) \n",
    "print ('\\n')  \n"
   ]
  },
  {
   "cell_type": "code",
   "execution_count": 83,
   "metadata": {},
   "outputs": [
    {
     "name": "stdout",
     "output_type": "stream",
     "text": [
      "Using amax() function:\n",
      "82\n",
      "\n",
      "\n",
      "Using amax() function again:\n",
      "[79 66 81 81 80 79 79 82 78 51]\n"
     ]
    }
   ],
   "source": [
    "\n",
    "print ('Using amax() function:') \n",
    "print (np.amax(GP)) \n",
    "print ('\\n')  \n",
    "\n",
    "print ('Using amax() function again:') \n",
    "print (np.amax(GP, axis = 0))"
   ]
  },
  {
   "cell_type": "code",
   "execution_count": 84,
   "metadata": {},
   "outputs": [
    {
     "name": "stdout",
     "output_type": "stream",
     "text": [
      "Our array is:\n",
      "[[30 40 70]\n",
      " [80 20 10]\n",
      " [50 90 60]]\n",
      "\n",
      "\n",
      "Applying percentile() function:\n",
      "50.0\n",
      "\n",
      "\n",
      "Applying percentile() function along axis 1:\n",
      "[40. 20. 60.]\n",
      "\n",
      "\n",
      "Applying percentile() function along axis 0:\n",
      "[50. 40. 60.]\n"
     ]
    }
   ],
   "source": [
    "#Percentile\n",
    "# numpy.percentile(a, q, axis) q-The percentile to compute must be between 0-100\n",
    "#  It is a measure used in statistics indicating the value below which a given percentage of observations in a group of \n",
    "# observations fall.\n",
    "\n",
    "import numpy as np \n",
    "a = np.array([[30,40,70],[80,20,10],[50,90,60]]) \n",
    "\n",
    "print ('Our array is:') \n",
    "print (a) \n",
    "print ('\\n')  \n",
    "\n",
    "print ('Applying percentile() function:') \n",
    "print (np.percentile(a,50)) \n",
    "print ('\\n')  \n",
    "\n",
    "print ('Applying percentile() function along axis 1:') \n",
    "print (np.percentile(a,50, axis = 1)) \n",
    "print ('\\n')  \n",
    "\n",
    "print ('Applying percentile() function along axis 0:') \n",
    "print (np.percentile(a,50, axis = 0))"
   ]
  },
  {
   "cell_type": "code",
   "execution_count": 85,
   "metadata": {},
   "outputs": [
    {
     "name": "stdout",
     "output_type": "stream",
     "text": [
      "Our array is:\n",
      "[[30 65 70]\n",
      " [80 95 10]\n",
      " [50 90 60]]\n",
      "\n",
      "\n",
      "Applying median() function:\n",
      "65.0\n",
      "\n",
      "\n",
      "Applying median() function along axis 0:\n",
      "[50. 90. 60.]\n",
      "\n",
      "\n",
      "Applying median() function along axis 1:\n",
      "[65. 80. 60.]\n"
     ]
    }
   ],
   "source": [
    "# Median is defined as the value separating the higher half of a data sample from the lower half. \n",
    "\n",
    "\n",
    "import numpy as np \n",
    "a = np.array([[30,65,70],[80,95,10],[50,90,60]]) \n",
    "\n",
    "print ('Our array is:') \n",
    "print (a) \n",
    "print ('\\n')  \n",
    "\n",
    "print ('Applying median() function:') \n",
    "print (np.median(a)) \n",
    "print ('\\n')  \n",
    "\n",
    "print ('Applying median() function along axis 0:') \n",
    "print (np.median(a, axis = 0)) \n",
    "print ('\\n')  \n",
    " \n",
    "print ('Applying median() function along axis 1:') \n",
    "print (np.median(a, axis = 1))"
   ]
  },
  {
   "cell_type": "code",
   "execution_count": 87,
   "metadata": {},
   "outputs": [
    {
     "name": "stdout",
     "output_type": "stream",
     "text": [
      "Our array is:\n",
      "[[1 2 3]\n",
      " [3 4 5]\n",
      " [4 5 6]]\n",
      "\n",
      "\n",
      "Applying mean() function:\n",
      "3.6666666666666665\n",
      "\n",
      "\n",
      "Applying mean() function along axis 0:\n",
      "[2.66666667 3.66666667 4.66666667]\n",
      "\n",
      "\n",
      "Applying mean() function along axis 1:\n",
      "[2. 4. 5.]\n"
     ]
    }
   ],
   "source": [
    "# Arithmetic mean is the sum of elements along an axis divided by the number of elements. \n",
    "# The numpy.mean() function returns the arithmetic mean of elements in the array.\n",
    "# If the axis is mentioned, it is calculated along it.\n",
    "\n",
    "\n",
    "\n",
    "import numpy as np \n",
    "a = np.array([[1,2,3],[3,4,5],[4,5,6]]) \n",
    "print ('Our array is:') \n",
    "print (a) \n",
    "print ('\\n')  \n",
    "\n",
    "print ('Applying mean() function:') \n",
    "print (np.mean(a)) \n",
    "print ('\\n')  \n",
    "\n",
    "print ('Applying mean() function along axis 0:') \n",
    "print (np.mean(a, axis = 0)) \n",
    "print ('\\n')  \n",
    "\n",
    "print ('Applying mean() function along axis 1:')\n",
    "print (np.mean(a, axis = 1)) "
   ]
  },
  {
   "cell_type": "code",
   "execution_count": 88,
   "metadata": {},
   "outputs": [
    {
     "name": "stdout",
     "output_type": "stream",
     "text": [
      "10.06429331846007\n"
     ]
    }
   ],
   "source": [
    "# is the square root of the average of squared deviations from mean.\n",
    "# std = sqrt(mean(abs(x - x.mean())**2))\n",
    "\n",
    "import numpy as np \n",
    "print (np.std([79,62,76,77,69,76,74,82,55,51]))"
   ]
  },
  {
   "cell_type": "code",
   "execution_count": 89,
   "metadata": {},
   "outputs": [
    {
     "name": "stdout",
     "output_type": "stream",
     "text": [
      "101.28999999999999\n"
     ]
    }
   ],
   "source": [
    "#  is the average of squared deviations, i.e., mean(abs(x - x.mean())**2).\n",
    "\n",
    "import numpy as np \n",
    "print (np.var([79,62,76,77,69,76,74,82,55,51]))"
   ]
  },
  {
   "cell_type": "code",
   "execution_count": 90,
   "metadata": {},
   "outputs": [
    {
     "name": "stdout",
     "output_type": "stream",
     "text": [
      "Our array is:\n",
      "[[79 62 76 77 69 76 74 82 55 51]\n",
      " [74 26 78 78 80 79 79 51 69  4]\n",
      " [78 66 81 81 27 72 62 78 78  0]\n",
      " [82 66 82 46 67 80 81 80 73 45]\n",
      " [82 62 78 73 81 82 81 72 78 51]]\n",
      "\n",
      "\n",
      "Applying sort() function:\n",
      "[[51 55 62 69 74 76 76 77 79 82]\n",
      " [ 4 26 51 69 74 78 78 79 79 80]\n",
      " [ 0 27 62 66 72 78 78 78 81 81]\n",
      " [45 46 66 67 73 80 80 81 82 82]\n",
      " [51 62 72 73 78 78 81 81 82 82]]\n",
      "\n",
      "\n",
      "Sort along axis 0:\n",
      "[[74 26 76 46 27 72 62 51 55  0]\n",
      " [78 62 78 73 67 76 74 72 69  4]\n",
      " [79 62 78 77 69 79 79 78 73 45]\n",
      " [82 66 81 78 80 80 81 80 78 51]\n",
      " [82 66 82 81 81 82 81 82 78 51]]\n",
      "\n",
      "\n"
     ]
    }
   ],
   "source": [
    "# numpy.sort(a, axis, kind, order)\n",
    "# The sort() function returns a sorted copy of the input array.\n",
    "\n",
    "import numpy as np  \n",
    "GP = np.array([[79,62,76,77,69,76,74,82,55,51],[74,26,78,78,80,79,79,51,69,4],[78,66,81,81,27,72,62,78,78,0],\n",
    "              [82,66,82,46,67,80,81,80,73,45],[82,62,78,73,81,82,81,72,78,51]]) \n",
    "\n",
    "print ('Our array is:') \n",
    "print (GP) \n",
    "print ('\\n')\n",
    "\n",
    "print ('Applying sort() function:') \n",
    "print (np.sort(GP)) \n",
    "print ('\\n') \n",
    "  \n",
    "print ('Sort along axis 0:') \n",
    "print (np.sort(GP, axis = 0)) \n",
    "print ('\\n')  \n",
    "\n"
   ]
  },
  {
   "cell_type": "code",
   "execution_count": 91,
   "metadata": {},
   "outputs": [
    {
     "name": "stdout",
     "output_type": "stream",
     "text": [
      "Our array is:\n",
      "[[0. 1. 2.]\n",
      " [3. 4. 5.]\n",
      " [6. 7. 8.]]\n",
      "Indices of elements > 3\n",
      "(array([1, 1, 2, 2, 2], dtype=int64), array([1, 2, 0, 1, 2], dtype=int64))\n",
      "Use these indices to get elements satisfying the condition\n",
      "[4. 5. 6. 7. 8.]\n"
     ]
    }
   ],
   "source": [
    "#Where function \n",
    "# The where() function returns the indices of elements in an input array where the given condition is satisfied.\n",
    "\n",
    "import numpy as np \n",
    "x = np.arange(9.).reshape(3, 3) \n",
    "\n",
    "print ('Our array is:') \n",
    "print (x)  \n",
    "\n",
    "print ('Indices of elements > 3') \n",
    "y = np.where(x > 3) \n",
    "print (y)  \n",
    "\n",
    "print ('Use these indices to get elements satisfying the condition') \n",
    "print (x[y])"
   ]
  },
  {
   "cell_type": "code",
   "execution_count": 92,
   "metadata": {},
   "outputs": [
    {
     "name": "stdout",
     "output_type": "stream",
     "text": [
      "Our array is:\n",
      "[[79 62 76 77 69 76 74 82 55 51]\n",
      " [74 26 78 78 80 79 79 51 69  4]\n",
      " [78 66 81 81 27 72 62 78 78  0]]\n",
      "Indices of elements > 75\n",
      "(array([0, 0, 0, 0, 0, 1, 1, 1, 1, 1, 2, 2, 2, 2, 2], dtype=int64), array([0, 2, 3, 5, 7, 2, 3, 4, 5, 6, 0, 2, 3, 7, 8], dtype=int64))\n",
      "Use these indices to get elements satisfying the condition\n",
      "[79 76 77 76 82 78 78 80 79 79 78 81 81 78 78]\n"
     ]
    }
   ],
   "source": [
    "\n",
    "import numpy as np \n",
    "x = np.array([[79,62,76,77,69,76,74,82,55,51],[74,26,78,78,80,79,79,51,69,4],[78,66,81,81,27,72,62,78,78,0]])\n",
    "\n",
    "print ('Our array is:') \n",
    "print (x)  \n",
    "\n",
    "print ('Indices of elements > 75') \n",
    "y = np.where(x > 75) \n",
    "print (y)  \n",
    "\n",
    "print ('Use these indices to get elements satisfying the condition') \n",
    "print (x[y])"
   ]
  },
  {
   "cell_type": "code",
   "execution_count": 93,
   "metadata": {},
   "outputs": [
    {
     "name": "stdout",
     "output_type": "stream",
     "text": [
      "Our array is:\n",
      "[[0. 1. 2.]\n",
      " [3. 4. 5.]\n",
      " [6. 7. 8.]]\n",
      "Element-wise value of condition\n",
      "[[ True False  True]\n",
      " [False  True False]\n",
      " [ True False  True]]\n",
      "Extract elements using condition\n",
      "[0. 2. 4. 6. 8.]\n"
     ]
    }
   ],
   "source": [
    "# The extract() function returns the elements satisfying any condition.\n",
    "\n",
    "import numpy as np \n",
    "x = np.arange(9.).reshape(3, 3) \n",
    "\n",
    "print ('Our array is:') \n",
    "print (x)  \n",
    "\n",
    "# define a condition \n",
    "condition = np.mod(x,2) == 0 \n",
    "\n",
    "print ('Element-wise value of condition') \n",
    "print (condition)  \n",
    "\n",
    "print ('Extract elements using condition') \n",
    "print (np.extract(condition, x))"
   ]
  },
  {
   "cell_type": "code",
   "execution_count": null,
   "metadata": {},
   "outputs": [],
   "source": []
  },
  {
   "cell_type": "code",
   "execution_count": null,
   "metadata": {},
   "outputs": [],
   "source": []
  }
 ],
 "metadata": {
  "kernelspec": {
   "display_name": "Python 3",
   "language": "python",
   "name": "python3"
  },
  "language_info": {
   "codemirror_mode": {
    "name": "ipython",
    "version": 3
   },
   "file_extension": ".py",
   "mimetype": "text/x-python",
   "name": "python",
   "nbconvert_exporter": "python",
   "pygments_lexer": "ipython3",
   "version": "3.7.4"
  }
 },
 "nbformat": 4,
 "nbformat_minor": 2
}
