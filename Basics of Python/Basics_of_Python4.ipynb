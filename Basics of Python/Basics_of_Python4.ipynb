{
 "cells": [
  {
   "cell_type": "code",
   "execution_count": null,
   "metadata": {},
   "outputs": [],
   "source": [
    "#String Operation - 45mins\n",
    "#Regular expressions - 45 mins\n",
    "#Exceptional Handling - 30mins \n",
    "#File Handling - 30 mins "
   ]
  },
  {
   "cell_type": "code",
   "execution_count": 4,
   "metadata": {},
   "outputs": [
    {
     "name": "stdout",
     "output_type": "stream",
     "text": [
      "Enter the city name Mumbai\n",
      "Your city  Mumbai is not available\n"
     ]
    }
   ],
   "source": [
    "city = input('Enter the city name')\n",
    "list1 = ['Mumbai', 'Delhi', 'Chennai', 'Bengaluru']\n",
    "if city in list1:\n",
    "    print('Your city is available')\n",
    "else:\n",
    "    print('Your city', city, 'is not available')"
   ]
  },
  {
   "cell_type": "code",
   "execution_count": 13,
   "metadata": {},
   "outputs": [
    {
     "name": "stdout",
     "output_type": "stream",
     "text": [
      "Enter the city name Mumbai\n",
      "Your city is available\n"
     ]
    }
   ],
   "source": [
    "city = input('Enter the city name')\n",
    "list1 = ['Mumbai', 'Delhi', 'Chennai', 'Bengaluru']\n",
    "if city.lstrip() in list1:\n",
    "    print('Your city is available')\n",
    "else:\n",
    "    print('Your city', city, 'is not available')"
   ]
  },
  {
   "cell_type": "code",
   "execution_count": 14,
   "metadata": {},
   "outputs": [
    {
     "name": "stdout",
     "output_type": "stream",
     "text": [
      "Enter the city nameMumbai \n",
      "Your city is available\n"
     ]
    }
   ],
   "source": [
    "city = input('Enter the city name')\n",
    "list1 = ['Mumbai', 'Delhi', 'Chennai', 'Bengaluru']\n",
    "if city.rstrip() in list1:\n",
    "    print('Your city is available')\n",
    "else:\n",
    "    print('Your city', city, 'is not available')"
   ]
  },
  {
   "cell_type": "code",
   "execution_count": 8,
   "metadata": {},
   "outputs": [
    {
     "name": "stdout",
     "output_type": "stream",
     "text": [
      "Enter the city name Mumbai \n",
      "Your city is available\n"
     ]
    }
   ],
   "source": [
    "city = input('Enter the city name')\n",
    "list1 = ['Mumbai', 'Delhi', 'Chennai', 'Bengaluru']\n",
    "if city.strip() in list1:\n",
    "    print('Your city is available')\n",
    "else:\n",
    "    print('Your city', city, 'is not available')"
   ]
  },
  {
   "cell_type": "code",
   "execution_count": 12,
   "metadata": {},
   "outputs": [
    {
     "name": "stdout",
     "output_type": "stream",
     "text": [
      "-1\n",
      "5\n"
     ]
    }
   ],
   "source": [
    "s = 'RahulTiwariRahulTiwari'\n",
    "print(s.find('Saira'))\n",
    "print(s.find('Tiwari'))\n",
    "#find()\n",
    "#It returns the index of 1st match only (From left to right)\n",
    "#If the value is not present the it will return -1 (It is not reverse index)"
   ]
  },
  {
   "cell_type": "code",
   "execution_count": 16,
   "metadata": {},
   "outputs": [
    {
     "name": "stdout",
     "output_type": "stream",
     "text": [
      "16\n"
     ]
    }
   ],
   "source": [
    "s = 'RahulTiwariRahulTiwari'\n",
    "print(s.rfind('Tiwari'))\n",
    "#rfind - Reverse direction "
   ]
  },
  {
   "cell_type": "code",
   "execution_count": 18,
   "metadata": {},
   "outputs": [
    {
     "name": "stdout",
     "output_type": "stream",
     "text": [
      "16\n"
     ]
    }
   ],
   "source": [
    "s = 'RahulTiwariRahulTiwari'\n",
    "print(s.index('T',7,21))"
   ]
  },
  {
   "cell_type": "code",
   "execution_count": 19,
   "metadata": {},
   "outputs": [
    {
     "name": "stdout",
     "output_type": "stream",
     "text": [
      "21\n"
     ]
    }
   ],
   "source": [
    "s = 'RahulTiwariRahulTiwari'\n",
    "print(s.rindex('i'))"
   ]
  },
  {
   "cell_type": "code",
   "execution_count": 22,
   "metadata": {},
   "outputs": [
    {
     "name": "stdout",
     "output_type": "stream",
     "text": [
      "Enter the main stringRAHULLRL\n",
      "Enter the string you looking forLRL\n",
      "Found at index: 5\n"
     ]
    }
   ],
   "source": [
    "#Rahulllllllllllrallll\n",
    "\n",
    "s = input('Enter the main string')\n",
    "sub = input('Enter the string you looking for')\n",
    "flag = False \n",
    "pos = -1 \n",
    "n = len(s)\n",
    "while True:\n",
    "    pos = s.find(sub, pos+1, n)\n",
    "    if pos==-1:\n",
    "        break\n",
    "    print('Found at index:', pos)\n",
    "    flag = True\n",
    "    \n",
    "if flag ==False:\n",
    "    print('Not Found')\n",
    "\n",
    "#At the end you will get the count of Ls as well "
   ]
  },
  {
   "cell_type": "code",
   "execution_count": 23,
   "metadata": {},
   "outputs": [
    {
     "data": {
      "text/plain": [
       "'ATHARVTIWARIATHARVTIWARI'"
      ]
     },
     "execution_count": 23,
     "metadata": {},
     "output_type": "execute_result"
    }
   ],
   "source": [
    "s = 'RAHULTIWARIRAHULTIWARI'\n",
    "s.replace('RAHUL','ATHARV')"
   ]
  },
  {
   "cell_type": "code",
   "execution_count": 24,
   "metadata": {},
   "outputs": [
    {
     "name": "stdout",
     "output_type": "stream",
     "text": [
      "2267103609392\n",
      "2267112491248\n"
     ]
    }
   ],
   "source": [
    "s = 'RahulTiwari'\n",
    "print(id(s))\n",
    "s=s.replace('Rahul','Atharv')\n",
    "print(id(s))"
   ]
  },
  {
   "cell_type": "code",
   "execution_count": 26,
   "metadata": {},
   "outputs": [
    {
     "data": {
      "text/plain": [
       "['Rahul', 'Tiwari', 'Atharv']"
      ]
     },
     "execution_count": 26,
     "metadata": {},
     "output_type": "execute_result"
    }
   ],
   "source": [
    "s = 'Rahul-Tiwari-Atharv'\n",
    "list = s.split('-')\n",
    "list"
   ]
  },
  {
   "cell_type": "code",
   "execution_count": 32,
   "metadata": {},
   "outputs": [
    {
     "data": {
      "text/plain": [
       "['Rahul',\n",
       " 'Gurgaon',\n",
       " 'Shermila',\n",
       " 'Rajbir',\n",
       " 'Prateek',\n",
       " 'Praveen',\n",
       " 'Sneha',\n",
       " 'Saira',\n",
       " 'Roli',\n",
       " 'Shilpi']"
      ]
     },
     "execution_count": 32,
     "metadata": {},
     "output_type": "execute_result"
    }
   ],
   "source": [
    "s = 'Rahul-Gurgaon-Shermila-Rajbir-Prateek-Praveen-Sneha-Saira-Roli-Shilpi'\n",
    "list1 = s.split('-',5)\n",
    "list1"
   ]
  },
  {
   "cell_type": "code",
   "execution_count": 35,
   "metadata": {},
   "outputs": [
    {
     "data": {
      "text/plain": [
       "'Rahul-Tiwari-Atharv'"
      ]
     },
     "execution_count": 35,
     "metadata": {},
     "output_type": "execute_result"
    }
   ],
   "source": [
    "l = ['Rahul','Tiwari','Atharv']\n",
    "#Rahul-Tiwari-Atharv\n",
    "s = '-'.join(l)\n",
    "s"
   ]
  },
  {
   "cell_type": "code",
   "execution_count": 37,
   "metadata": {},
   "outputs": [
    {
     "name": "stdout",
     "output_type": "stream",
     "text": [
      "RAHUL TIWARI IS A DATA SCIENTIST\n",
      "rahul tiwari is a data scientist\n",
      "rAHUL tIWARI IS A DATA SCIENTIST\n",
      "Rahul Tiwari Is A Data Scientist\n",
      "Rahul tiwari is a data scientist\n"
     ]
    }
   ],
   "source": [
    "s = 'Rahul Tiwari is a data scientist'\n",
    "print(s.upper()) #All caps\n",
    "print(s.lower()) #all lower\n",
    "print(s.swapcase()) #Upper becomes lower and vice versa\n",
    "print(s.title()) #First character of all the words will be caps\n",
    "print(s.capitalize()) #Only 1st character of the 1st word will be caps rest all lower"
   ]
  },
  {
   "cell_type": "code",
   "execution_count": 38,
   "metadata": {},
   "outputs": [
    {
     "name": "stdout",
     "output_type": "stream",
     "text": [
      "True\n",
      "False\n"
     ]
    }
   ],
   "source": [
    "#Check starting and ending part of the string \n",
    "s = 'Learning Python is very simple'\n",
    "print(s.startswith('Learning'))\n",
    "print(s.endswith('Learning'))"
   ]
  },
  {
   "cell_type": "code",
   "execution_count": null,
   "metadata": {},
   "outputs": [],
   "source": [
    "#Type of character in the string \n",
    "isalnum()\n",
    "isalpha()\n",
    "isdigit()\n",
    "islower()\n",
    "isupper()\n",
    "istitle()\n",
    "isspace()\n",
    "\n",
    "\n"
   ]
  },
  {
   "cell_type": "code",
   "execution_count": 63,
   "metadata": {},
   "outputs": [
    {
     "name": "stdout",
     "output_type": "stream",
     "text": [
      "False\n",
      "False\n",
      "False\n",
      "True\n",
      "False\n"
     ]
    }
   ],
   "source": [
    "print('$'.isalnum())\n",
    "print('$'.isalpha())\n",
    "print('$'.isdigit())\n",
    "print(' '.isspace())\n",
    "print('Rahul'.islower())"
   ]
  },
  {
   "cell_type": "code",
   "execution_count": 66,
   "metadata": {},
   "outputs": [
    {
     "name": "stdout",
     "output_type": "stream",
     "text": [
      "Enter any string      \n",
      "It is a space\n"
     ]
    }
   ],
   "source": [
    "s = input('Enter any string')\n",
    "if s.isalnum():\n",
    "    print('Alpha Numeric String')\n",
    "    if s.isalpha():\n",
    "        print('Alphabet string')\n",
    "        if s.islower():\n",
    "            print('Lower Case Alphabet string')\n",
    "        else:\n",
    "            print('Upper case alphabet string')\n",
    "    else:\n",
    "        print('It is a digit')\n",
    "elif s.isspace():\n",
    "    print('It is a space')\n",
    "else:\n",
    "    print('No space there is a special character')\n",
    "        "
   ]
  },
  {
   "cell_type": "code",
   "execution_count": 69,
   "metadata": {},
   "outputs": [
    {
     "data": {
      "text/plain": [
       "'luhar'"
      ]
     },
     "execution_count": 69,
     "metadata": {},
     "output_type": "execute_result"
    }
   ],
   "source": [
    "s = 'rahul'\n",
    "#luhar\n",
    "s[::-1]"
   ]
  },
  {
   "cell_type": "code",
   "execution_count": 74,
   "metadata": {},
   "outputs": [
    {
     "name": "stdout",
     "output_type": "stream",
     "text": [
      "luhar"
     ]
    }
   ],
   "source": [
    "reversed(s)\n",
    "for x in reversed(s):\n",
    "    print(x,end='')"
   ]
  },
  {
   "cell_type": "code",
   "execution_count": 71,
   "metadata": {},
   "outputs": [
    {
     "name": "stdout",
     "output_type": "stream",
     "text": [
      "luhar\n"
     ]
    }
   ],
   "source": [
    "print(''.join(reversed(s)))"
   ]
  },
  {
   "cell_type": "code",
   "execution_count": 77,
   "metadata": {},
   "outputs": [
    {
     "name": "stdout",
     "output_type": "stream",
     "text": [
      "Enter the stringrahul\n",
      "4\n",
      "luhar\n"
     ]
    },
    {
     "data": {
      "text/plain": [
       "'l'"
      ]
     },
     "execution_count": 77,
     "metadata": {},
     "output_type": "execute_result"
    }
   ],
   "source": [
    "s = input('Enter the string')\n",
    "i = len(s)-1\n",
    "print(i)\n",
    "output=''\n",
    "while i>=0:\n",
    "    output=output + s[i]\n",
    "    i = i-1\n",
    "print(output)\n",
    "s[4]"
   ]
  },
  {
   "cell_type": "code",
   "execution_count": 83,
   "metadata": {},
   "outputs": [
    {
     "name": "stdout",
     "output_type": "stream",
     "text": [
      "Enter some stringRahul Tiwari D S\n",
      "['Rahul', 'Tiwari', 'D', 'S']\n",
      "['S', 'D', 'Tiwari', 'Rahul']\n",
      "<class 'str'>\n"
     ]
    }
   ],
   "source": [
    "s = input('Enter some string')\n",
    "list = s.split()\n",
    "print(list)\n",
    "l1 = []\n",
    "i = len(list) - 1\n",
    "while i>=0:\n",
    "    l1.append(list[i])\n",
    "    i = i-1\n",
    "print(l1)\n",
    "output=' '.join(l1)\n",
    "print(type(output))"
   ]
  },
  {
   "cell_type": "code",
   "execution_count": 82,
   "metadata": {},
   "outputs": [
    {
     "name": "stdout",
     "output_type": "stream",
     "text": [
      "\n"
     ]
    }
   ],
   "source": [
    "output = ''\n",
    "type(output)\n",
    "print(output)"
   ]
  },
  {
   "cell_type": "code",
   "execution_count": 87,
   "metadata": {},
   "outputs": [
    {
     "name": "stdout",
     "output_type": "stream",
     "text": [
      "Enter the stringrahul tiwari\n",
      "['luhar', 'irawit']\n",
      "luhar irawit\n"
     ]
    }
   ],
   "source": [
    "s = input('Enter the string')\n",
    "l = s.split()\n",
    "l1 = []\n",
    "for x in l:\n",
    "    l1.append(x[::-1])\n",
    "print(l1)\n",
    "output = ' '.join(l1)\n",
    "print(output)"
   ]
  },
  {
   "cell_type": "code",
   "execution_count": null,
   "metadata": {},
   "outputs": [],
   "source": [
    "#rahul\n",
    " 01234\n",
    "rhl\n",
    "au\n",
    "\n",
    "#s1 = 'John'\n",
    "#s2 = 'Jame'\n",
    "JJoahmne\n",
    "\n",
    "#B4A1D3\n",
    "#Output: ABD134\n",
    "\n",
    "#input: a4b3c2\n",
    "#Output: aaaabbbcc"
   ]
  },
  {
   "cell_type": "code",
   "execution_count": 89,
   "metadata": {},
   "outputs": [
    {
     "name": "stdout",
     "output_type": "stream",
     "text": [
      "Match is avaialble at the start index 0\n",
      "Match is avaialble at the start index 2\n",
      "Match is avaialble at the start index 4\n",
      "Match is avaialble at the start index 10\n",
      "Match is avaialble at the start index 12\n",
      "Match is avaialble at the start index 14\n",
      "Match is avaialble at the start index 20\n",
      "Match is avaialble at the start index 22\n"
     ]
    }
   ],
   "source": [
    "#Regular Expressions \n",
    "#Pattern matching\n",
    "    #Phone no: 6,7,8,9\n",
    "    #Email \n",
    "    \n",
    "import re\n",
    "pattern = re.compile('cd')\n",
    "matcher = pattern.finditer('cdcdcdddddcdcdcdddddcdcdd')\n",
    "for match in matcher:\n",
    "    print('Match is avaialble at the start index', match.start())"
   ]
  },
  {
   "cell_type": "code",
   "execution_count": 92,
   "metadata": {},
   "outputs": [
    {
     "name": "stdout",
     "output_type": "stream",
     "text": [
      "<callable_iterator object at 0x0000020FDA7D6B08>\n"
     ]
    }
   ],
   "source": [
    "print(matcher)"
   ]
  },
  {
   "cell_type": "code",
   "execution_count": 96,
   "metadata": {},
   "outputs": [
    {
     "name": "stdout",
     "output_type": "stream",
     "text": [
      "Match is avaialble at the start index 0\n",
      "Match is avaialble at the start index 2\n",
      "Match is avaialble at the start index 4\n",
      "Match is avaialble at the start index 10\n",
      "Match is avaialble at the start index 12\n",
      "Match is avaialble at the start index 14\n",
      "Match is avaialble at the start index 20\n",
      "Match is avaialble at the start index 22\n",
      "8\n"
     ]
    }
   ],
   "source": [
    "#Regular Expressions \n",
    "#Pattern matching\n",
    "    #Phone no: 6,7,8,9\n",
    "    #Email \n",
    "    \n",
    "import re\n",
    "count = 0\n",
    "pattern = re.compile('cd')\n",
    "matcher = pattern.finditer('cdcdcdddddcdcdcdddddcdcdd')\n",
    "for match in matcher:\n",
    "    \n",
    "    print('Match is avaialble at the start index', match.start())\n",
    "    count=count + 1\n",
    "    \n",
    "print(count)"
   ]
  },
  {
   "cell_type": "code",
   "execution_count": 101,
   "metadata": {},
   "outputs": [
    {
     "name": "stdout",
     "output_type": "stream",
     "text": [
      "0 ... a\n"
     ]
    }
   ],
   "source": [
    "import re\n",
    "matcher = re.finditer('[acx]', 'a7b@k')\n",
    "for m in matcher: \n",
    "    print(m.start(), '...', m.group())"
   ]
  },
  {
   "cell_type": "code",
   "execution_count": null,
   "metadata": {},
   "outputs": [],
   "source": [
    "[abc] -> either a or b or c \n",
    "abcdefg\n",
    "[^abc] -> Except abc\n",
    "\n",
    "[a-z] -> All lower case alphabets \n",
    "[A-Z] -> All upper case alphabets \n",
    "[a-zA-Z] -> all alphabets \n",
    "[0-9] -> Any digit\n",
    "[a-zA-Z0-9] -> All alphabets numbers\n",
    "[^a-zA-Z0-9] -> Except"
   ]
  },
  {
   "cell_type": "code",
   "execution_count": null,
   "metadata": {},
   "outputs": [],
   "source": [
    "[RT]ahul"
   ]
  },
  {
   "cell_type": "code",
   "execution_count": null,
   "metadata": {},
   "outputs": [],
   "source": [
    "Tahul\n",
    "Rahul"
   ]
  },
  {
   "cell_type": "code",
   "execution_count": 102,
   "metadata": {},
   "outputs": [
    {
     "name": "stdout",
     "output_type": "stream",
     "text": [
      "1 ... 7\n",
      "2 ... b\n",
      "3 ... @\n",
      "4 ... k\n"
     ]
    }
   ],
   "source": [
    "import re\n",
    "matcher = re.finditer('[^acx]', 'a7b@k')\n",
    "for m in matcher: \n",
    "    print(m.start(), '...', m.group())"
   ]
  },
  {
   "cell_type": "code",
   "execution_count": 103,
   "metadata": {},
   "outputs": [
    {
     "name": "stdout",
     "output_type": "stream",
     "text": [
      "1 ... 7\n"
     ]
    }
   ],
   "source": [
    "import re\n",
    "matcher = re.finditer('[0-9]', 'a7b@k')\n",
    "for m in matcher: \n",
    "    print(m.start(), '...', m.group())"
   ]
  },
  {
   "cell_type": "code",
   "execution_count": null,
   "metadata": {},
   "outputs": [],
   "source": [
    "#Predefined Characters \n",
    "\\s - Seach for space character\n",
    "\\S - Except space character\n",
    "\\d - Any digits \n",
    "\\D - Except digits \n",
    "\\w - Any word charactr (Alpha Numeric)\n",
    "\\W - Any special character"
   ]
  },
  {
   "cell_type": "code",
   "execution_count": 104,
   "metadata": {},
   "outputs": [
    {
     "name": "stdout",
     "output_type": "stream",
     "text": [
      "3 ...  \n"
     ]
    }
   ],
   "source": [
    "import re\n",
    "matcher = re.finditer('\\s', 'ab7 @k9z')\n",
    "for m in matcher:\n",
    "    print(m.start(), '...', m.group())"
   ]
  },
  {
   "cell_type": "code",
   "execution_count": 105,
   "metadata": {},
   "outputs": [
    {
     "name": "stdout",
     "output_type": "stream",
     "text": [
      "0 ... a\n",
      "1 ... b\n",
      "2 ... 7\n",
      "4 ... @\n",
      "5 ... k\n",
      "6 ... 9\n",
      "7 ... z\n"
     ]
    }
   ],
   "source": [
    "import re\n",
    "matcher = re.finditer('\\S', 'ab7 @k9z')\n",
    "for m in matcher:\n",
    "    print(m.start(), '...', m.group())"
   ]
  },
  {
   "cell_type": "code",
   "execution_count": 106,
   "metadata": {},
   "outputs": [
    {
     "name": "stdout",
     "output_type": "stream",
     "text": [
      "0 ... a\n",
      "1 ... b\n",
      "2 ... 7\n",
      "5 ... k\n",
      "6 ... 9\n",
      "7 ... z\n"
     ]
    }
   ],
   "source": [
    "import re\n",
    "matcher = re.finditer('\\w', 'ab7 @k9z')\n",
    "for m in matcher:\n",
    "    print(m.start(), '...', m.group())"
   ]
  },
  {
   "cell_type": "code",
   "execution_count": 107,
   "metadata": {},
   "outputs": [
    {
     "name": "stdout",
     "output_type": "stream",
     "text": [
      "3 ...  \n",
      "4 ... @\n"
     ]
    }
   ],
   "source": [
    "import re\n",
    "matcher = re.finditer('\\W', 'ab7 @k9z')\n",
    "for m in matcher:\n",
    "    print(m.start(), '...', m.group())"
   ]
  },
  {
   "cell_type": "code",
   "execution_count": 108,
   "metadata": {},
   "outputs": [
    {
     "name": "stdout",
     "output_type": "stream",
     "text": [
      "2 ... 7\n",
      "6 ... 9\n"
     ]
    }
   ],
   "source": [
    "import re\n",
    "matcher = re.finditer('\\d', 'ab7 @k9z')\n",
    "for m in matcher:\n",
    "    print(m.start(), '...', m.group())"
   ]
  },
  {
   "cell_type": "code",
   "execution_count": 109,
   "metadata": {},
   "outputs": [
    {
     "name": "stdout",
     "output_type": "stream",
     "text": [
      "0 ... a\n",
      "1 ... b\n",
      "3 ...  \n",
      "4 ... @\n",
      "5 ... k\n",
      "7 ... z\n"
     ]
    }
   ],
   "source": [
    "import re\n",
    "matcher = re.finditer('\\D', 'ab7 @k9z')\n",
    "for m in matcher:\n",
    "    print(m.start(), '...', m.group())"
   ]
  },
  {
   "cell_type": "code",
   "execution_count": 111,
   "metadata": {},
   "outputs": [
    {
     "name": "stdout",
     "output_type": "stream",
     "text": [
      "0 ... c\n",
      "2 ... cc\n",
      "5 ... ccc\n",
      "9 ... cccc\n"
     ]
    }
   ],
   "source": [
    "import re \n",
    "matcher = re.finditer('c+', 'cdccdcccdccccd')\n",
    "for m in matcher:\n",
    "    print(m.start(), '...', m.group())\n",
    "    #c+ - atleast 1 c and then any number of c's"
   ]
  },
  {
   "cell_type": "code",
   "execution_count": 112,
   "metadata": {},
   "outputs": [
    {
     "name": "stdout",
     "output_type": "stream",
     "text": [
      "0 ... c\n",
      "1 ... \n",
      "2 ... cc\n",
      "4 ... \n",
      "5 ... ccc\n",
      "8 ... \n",
      "9 ... cccc\n",
      "13 ... \n",
      "14 ... \n"
     ]
    }
   ],
   "source": [
    "import re \n",
    "matcher = re.finditer('c*', 'cdccdcccdccccd')\n",
    "for m in matcher:\n",
    "    print(m.start(), '...', m.group())\n",
    "    #c* any number of c including 0"
   ]
  },
  {
   "cell_type": "code",
   "execution_count": 114,
   "metadata": {},
   "outputs": [
    {
     "name": "stdout",
     "output_type": "stream",
     "text": [
      "0 ... c\n",
      "1 ... \n",
      "2 ... c\n",
      "3 ... c\n",
      "4 ... \n",
      "5 ... c\n",
      "6 ... c\n",
      "7 ... c\n",
      "8 ... \n",
      "9 ... c\n",
      "10 ... c\n",
      "11 ... c\n",
      "12 ... c\n",
      "13 ... \n",
      "14 ... \n"
     ]
    }
   ],
   "source": [
    "import re \n",
    "matcher = re.finditer('c?', 'cdccdcccdccccd')\n",
    "for m in matcher:\n",
    "    print(m.start(), '...', m.group())\n",
    "    #c? - atmost 1 c"
   ]
  },
  {
   "cell_type": "code",
   "execution_count": 120,
   "metadata": {},
   "outputs": [
    {
     "name": "stdout",
     "output_type": "stream",
     "text": [
      "5 ... ccc\n",
      "9 ... ccc\n"
     ]
    }
   ],
   "source": [
    "import re \n",
    "matcher = re.finditer('c{3}', 'cdccdcccdccccd')\n",
    "for m in matcher:\n",
    "    print(m.start(), '...', m.group())\n",
    "    #Excatly 3 c's"
   ]
  },
  {
   "cell_type": "code",
   "execution_count": 118,
   "metadata": {},
   "outputs": [
    {
     "name": "stdout",
     "output_type": "stream",
     "text": [
      "2 ... cc\n",
      "5 ... ccc\n",
      "9 ... ccc\n"
     ]
    }
   ],
   "source": [
    "import re \n",
    "matcher = re.finditer('c{2,3}', 'cdccdcccdccccd')\n",
    "for m in matcher:\n",
    "    print(m.start(), '...', m.group())\n",
    "    #Min 2 c's max 3 c's"
   ]
  },
  {
   "cell_type": "code",
   "execution_count": 125,
   "metadata": {},
   "outputs": [
    {
     "name": "stdout",
     "output_type": "stream",
     "text": [
      "0 ... c\n"
     ]
    }
   ],
   "source": [
    "import re \n",
    "matcher = re.finditer('^c', 'cdccdcccdccccd')\n",
    "for m in matcher:\n",
    "    print(m.start(), '...', m.group())\n",
    "    #Is my string starting with c or not"
   ]
  },
  {
   "cell_type": "code",
   "execution_count": 122,
   "metadata": {},
   "outputs": [
    {
     "name": "stdout",
     "output_type": "stream",
     "text": [
      "1 ... d\n",
      "4 ... d\n",
      "8 ... d\n",
      "13 ... d\n"
     ]
    }
   ],
   "source": [
    "import re \n",
    "matcher = re.finditer('[^c]', 'cdccdcccdccccd')\n",
    "for m in matcher:\n",
    "    print(m.start(), '...', m.group())\n",
    "    #Except c"
   ]
  },
  {
   "cell_type": "code",
   "execution_count": 128,
   "metadata": {},
   "outputs": [
    {
     "name": "stdout",
     "output_type": "stream",
     "text": [
      "13 ... d\n"
     ]
    }
   ],
   "source": [
    "import re \n",
    "matcher = re.finditer('d$', 'cdccdcccdccccd')\n",
    "for m in matcher:\n",
    "    print(m.start(), '...', m.group())\n",
    "    #Is my string ending with d or not"
   ]
  },
  {
   "cell_type": "code",
   "execution_count": null,
   "metadata": {},
   "outputs": [],
   "source": [
    "#RE module \n",
    "fullmatch()\n",
    "search()\n",
    "findall()\n",
    "finditer()\n",
    "sub()\n",
    "subn()\n",
    "split()\n",
    "compile()\n"
   ]
  },
  {
   "cell_type": "code",
   "execution_count": 162,
   "metadata": {},
   "outputs": [
    {
     "name": "stdout",
     "output_type": "stream",
     "text": [
      "Enter the stringab\n",
      "Match is available at the beginning of the string\n",
      "Start index:0 and end index:2\n"
     ]
    }
   ],
   "source": [
    "import re\n",
    "s = input('Enter the string')\n",
    "m = re.match(s, 'abc')\n",
    "if m !=None:\n",
    "    print('Match is available at the beginning of the string')\n",
    "    print('Start index:{} and end index:{}'.format(m.start(), m.end()))\n",
    "else:\n",
    "    print('Match is not available')"
   ]
  },
  {
   "cell_type": "code",
   "execution_count": 160,
   "metadata": {},
   "outputs": [
    {
     "name": "stdout",
     "output_type": "stream",
     "text": [
      "Enter the stringabcdefdsfs\n",
      "Match is available at the beginning of the string\n",
      "Start index:0 and end index:10\n"
     ]
    }
   ],
   "source": [
    "import re\n",
    "s = input('Enter the string')\n",
    "m = re.fullmatch(s, 'abcdefdsfs')\n",
    "if m !=None:\n",
    "    print('Match is available at the beginning of the string')\n",
    "    print('Start index:{} and end index:{}'.format(m.start(), m.end()))\n",
    "else:\n",
    "    print('Match is not available')"
   ]
  },
  {
   "cell_type": "code",
   "execution_count": 164,
   "metadata": {},
   "outputs": [
    {
     "name": "stdout",
     "output_type": "stream",
     "text": [
      "Enter the patternddd\n",
      "Full string match\n",
      "Start index:2 and end index:5\n"
     ]
    }
   ],
   "source": [
    "import re\n",
    "s = input('Enter the pattern')\n",
    "m = re.search(s, 'ccdddcccddddcdcccd')\n",
    "if m!=None:\n",
    "    print('Full string match')\n",
    "    print('Start index:{} and end index:{}'.format(m.start(), m.end()))\n",
    "else:\n",
    "    print('Full string not matched')"
   ]
  },
  {
   "cell_type": "code",
   "execution_count": 168,
   "metadata": {},
   "outputs": [
    {
     "name": "stdout",
     "output_type": "stream",
     "text": [
      "Enter the patternddd\n",
      "2\n"
     ]
    }
   ],
   "source": [
    "import re\n",
    "count=0\n",
    "s = input('Enter the pattern')\n",
    "m = re.findall(s, 'ccdddcccddddcdcccd')\n",
    "for i in m:\n",
    "    count=count+1\n",
    "print(count)"
   ]
  },
  {
   "cell_type": "code",
   "execution_count": 169,
   "metadata": {},
   "outputs": [
    {
     "name": "stdout",
     "output_type": "stream",
     "text": [
      "['7', '5', '6', '0', '4']\n"
     ]
    }
   ],
   "source": [
    "import re \n",
    "m = re.findall('[0-9]', 'a7t56m0t4')\n",
    "print(m)"
   ]
  },
  {
   "cell_type": "code",
   "execution_count": 170,
   "metadata": {},
   "outputs": [
    {
     "name": "stdout",
     "output_type": "stream",
     "text": [
      "['#', '@', '$']\n"
     ]
    }
   ],
   "source": [
    "import re \n",
    "m = re.findall('\\W', 'a#@$7t56m0t4')\n",
    "print(m)"
   ]
  },
  {
   "cell_type": "code",
   "execution_count": 171,
   "metadata": {},
   "outputs": [
    {
     "name": "stdout",
     "output_type": "stream",
     "text": [
      "['a', '7', 't', '5', '6', 'm', '0', 't', '4']\n"
     ]
    }
   ],
   "source": [
    "import re \n",
    "m = re.findall('\\w', 'a#@$7t56m0t4')\n",
    "print(m)"
   ]
  },
  {
   "cell_type": "code",
   "execution_count": 172,
   "metadata": {},
   "outputs": [
    {
     "name": "stdout",
     "output_type": "stream",
     "text": [
      "['7', '5', '6', '0', '4']\n"
     ]
    }
   ],
   "source": [
    "import re \n",
    "m = re.findall('\\d', 'a#@$7t56m0t4')\n",
    "print(m)"
   ]
  },
  {
   "cell_type": "code",
   "execution_count": 173,
   "metadata": {},
   "outputs": [
    {
     "name": "stdout",
     "output_type": "stream",
     "text": [
      "['a', '#', '@', '$', 't', 'm', 't']\n"
     ]
    }
   ],
   "source": [
    "import re \n",
    "m = re.findall('\\D', 'a#@$7t56m0t4')\n",
    "print(m)"
   ]
  },
  {
   "cell_type": "code",
   "execution_count": 174,
   "metadata": {},
   "outputs": [
    {
     "name": "stdout",
     "output_type": "stream",
     "text": [
      "a##tr###tyt##\n"
     ]
    }
   ],
   "source": [
    "import re \n",
    "s = re.sub('\\d', '#', 'a56tr543tyt54')\n",
    "print(s)"
   ]
  },
  {
   "cell_type": "code",
   "execution_count": 176,
   "metadata": {},
   "outputs": [
    {
     "name": "stdout",
     "output_type": "stream",
     "text": [
      "('a##tr###tyt##', 7)\n",
      "a##tr###tyt##\n",
      "7\n"
     ]
    }
   ],
   "source": [
    "import re \n",
    "s = re.subn('\\d', '#', 'a56tr543tyt54')\n",
    "print(s)\n",
    "print(s[0])\n",
    "print(s[1])"
   ]
  },
  {
   "cell_type": "code",
   "execution_count": 177,
   "metadata": {},
   "outputs": [
    {
     "name": "stdout",
     "output_type": "stream",
     "text": [
      "['10', '20', '30', '40', '50']\n"
     ]
    }
   ],
   "source": [
    "import re \n",
    "l = re.split('-', '10-20-30-40-50')\n",
    "print(l)"
   ]
  },
  {
   "cell_type": "code",
   "execution_count": 179,
   "metadata": {},
   "outputs": [
    {
     "name": "stdout",
     "output_type": "stream",
     "text": [
      "['www', 'rahultiwari', 'in']\n"
     ]
    }
   ],
   "source": [
    "import re \n",
    "l = re.split('\\.', 'www.rahultiwari.in')\n",
    "print(l)"
   ]
  },
  {
   "cell_type": "code",
   "execution_count": 180,
   "metadata": {},
   "outputs": [
    {
     "name": "stdout",
     "output_type": "stream",
     "text": [
      "['www', 'rahultiwari', 'in']\n"
     ]
    }
   ],
   "source": [
    "import re \n",
    "l = re.split('[.]', 'www.rahultiwari.in')\n",
    "print(l)"
   ]
  },
  {
   "cell_type": "code",
   "execution_count": 181,
   "metadata": {},
   "outputs": [
    {
     "name": "stdout",
     "output_type": "stream",
     "text": [
      "['', '', '', '', '', '', '', '', '', '', '', '', '', '', '', '', '', '', '']\n"
     ]
    }
   ],
   "source": [
    "import re \n",
    "l = re.split('.', 'www.rahultiwari.in')\n",
    "print(l)"
   ]
  },
  {
   "cell_type": "code",
   "execution_count": 182,
   "metadata": {},
   "outputs": [
    {
     "name": "stdout",
     "output_type": "stream",
     "text": [
      "Target string starts with learn\n"
     ]
    }
   ],
   "source": [
    "import re\n",
    "s = 'Learning Python is very easy'\n",
    "res = re.search('^Learn', s)\n",
    "if res !=None:\n",
    "    print('Target string starts with learn')\n",
    "else:\n",
    "    print('Not starts with learn')"
   ]
  },
  {
   "cell_type": "code",
   "execution_count": 187,
   "metadata": {},
   "outputs": [
    {
     "name": "stdout",
     "output_type": "stream",
     "text": [
      "Not ends with easy\n"
     ]
    }
   ],
   "source": [
    "import re\n",
    "s = 'Learning Python is very tough'\n",
    "res = re.search('easy$', s)\n",
    "if res !=None:\n",
    "    print('Target string ends with easy')\n",
    "else:\n",
    "    print('Not ends with easy')"
   ]
  },
  {
   "cell_type": "code",
   "execution_count": 190,
   "metadata": {},
   "outputs": [
    {
     "name": "stdout",
     "output_type": "stream",
     "text": [
      "Target string ends with easy\n"
     ]
    }
   ],
   "source": [
    "import re\n",
    "s = 'Learning Python is very Easy'\n",
    "res = re.search('easy$', s, re.IGNORECASE)\n",
    "if res !=None:\n",
    "    print('Target string ends with easy')\n",
    "else:\n",
    "    print('Not ends with easy')"
   ]
  },
  {
   "cell_type": "code",
   "execution_count": 191,
   "metadata": {},
   "outputs": [],
   "source": [
    "#New programming lag Rava - Identifiers \n",
    "#1. The allowed characters are:\n",
    "    #Alphabets \n",
    "    #Digits \n",
    "    ##\n",
    "#2. First character should be lower case alphabet symbol from a to k\n",
    "#3. The second character should be an digit division by 3\n",
    "#4. The length of identifier should be atleast 2\n",
    "[a-k][0369][a-zA-Z0-9#]"
   ]
  },
  {
   "cell_type": "code",
   "execution_count": 197,
   "metadata": {},
   "outputs": [
    {
     "name": "stdout",
     "output_type": "stream",
     "text": [
      "Enter the identifier to validatea4\n",
      "a4 is not valid Rava identifier\n"
     ]
    }
   ],
   "source": [
    "import re \n",
    "s = input('Enter the identifier to validate')\n",
    "m = re.fullmatch('[a-k][0369][a-zA-Z0-9#]*', s)\n",
    "if m!=None:\n",
    "    print(s, 'is valid Rava Identifier')\n",
    "else:\n",
    "    print(s,'is not valid Rava identifier')"
   ]
  },
  {
   "cell_type": "code",
   "execution_count": null,
   "metadata": {},
   "outputs": [],
   "source": [
    "#10 digit phone number\n",
    "[6789][0-9]*\n",
    "[6-9]\\d{9}"
   ]
  },
  {
   "cell_type": "code",
   "execution_count": 199,
   "metadata": {},
   "outputs": [
    {
     "name": "stdout",
     "output_type": "stream",
     "text": [
      "Enter the mobile number6123456789\n",
      "6123456789 is valid phone number\n"
     ]
    }
   ],
   "source": [
    "import re \n",
    "s = input('Enter the mobile number')\n",
    "m = re.fullmatch('[6-9]\\d{9}',s)\n",
    "if m!=None:\n",
    "    print(s, 'is valid phone number')\n",
    "else:\n",
    "    print(s, 'is invalid phone number')"
   ]
  },
  {
   "cell_type": "code",
   "execution_count": 204,
   "metadata": {},
   "outputs": [
    {
     "name": "stdout",
     "output_type": "stream",
     "text": [
      "Enter the phone number0012345678\n",
      "Invalid no\n"
     ]
    }
   ],
   "source": [
    "#10 digit , 11 digit, 12 digit, 13 \n",
    "#10: 6 to 9 first digit and after it can be any number 0-9\n",
    "#11 - starts with 0\n",
    "#12: 91\n",
    "#13: +91\n",
    "import re\n",
    "s = input('Enter the phone number')\n",
    "m = re.fullmatch('(0|91|\\+91)?[6789]\\d{9}', s)\n",
    "if m!=None:\n",
    "    print('Valid no')\n",
    "else:\n",
    "    print('Invalid no')"
   ]
  },
  {
   "cell_type": "code",
   "execution_count": 208,
   "metadata": {},
   "outputs": [
    {
     "name": "stdout",
     "output_type": "stream",
     "text": [
      "Searching..... http://google.com\n",
      "<title>Google</title>\n",
      "Searching..... http://rediff.com\n",
      "<title>Rediff.com: News | Rediffmail | Stock Quotes | Shopping</title>\n"
     ]
    }
   ],
   "source": [
    "import re, urllib\n",
    "import urllib.request\n",
    "sites = ['http://google.com', 'http://rediff.com']\n",
    "for s in sites:\n",
    "    print('Searching.....', s)\n",
    "    u = urllib.request.urlopen(s)\n",
    "    text = u.read()\n",
    "    title = re.findall('<title>.*</title>', str(text), re.IGNORECASE)\n",
    "    print(title[0])\n",
    "    "
   ]
  },
  {
   "cell_type": "code",
   "execution_count": 207,
   "metadata": {},
   "outputs": [
    {
     "name": "stdout",
     "output_type": "stream",
     "text": [
      "['<title>Rediff.com: News | Rediffmail | Stock Quotes | Shopping</title>']\n"
     ]
    }
   ],
   "source": [
    "print(title)"
   ]
  },
  {
   "cell_type": "code",
   "execution_count": 210,
   "metadata": {},
   "outputs": [
    {
     "name": "stdout",
     "output_type": "stream",
     "text": [
      "(257) 563-7401\n",
      "(372) 587-2335\n",
      "(786) 713-8616\n",
      "(793) 151-6230\n",
      "(492) 709-6392\n",
      "(654) 393-5734\n",
      "(404) 960-3807\n",
      "(314) 244-6306\n",
      "(947) 278-5929\n",
      "(684) 579-1879\n",
      "(389) 737-2852\n",
      "(660) 663-4518\n",
      "(608) 265-2215\n",
      "(959) 119-8364\n",
      "(468) 353-2641\n",
      "(248) 675-4007\n",
      "(939) 353-1107\n",
      "(570) 873-7090\n",
      "(302) 259-2375\n",
      "(717) 450-4729\n",
      "(453) 391-4650\n",
      "(559) 104-5475\n",
      "(387) 142-9434\n",
      "(516) 745-4496\n",
      "(326) 677-3419\n",
      "(746) 679-2470\n",
      "(455) 430-0989\n",
      "(490) 936-4694\n",
      "(985) 834-8285\n",
      "(662) 661-1446\n",
      "(802) 668-8240\n",
      "(477) 768-9247\n",
      "(791) 239-9057\n",
      "(832) 109-0213\n",
      "(837) 196-3274\n",
      "(268) 442-2428\n",
      "(850) 676-5117\n",
      "(861) 546-5032\n",
      "(176) 805-4108\n",
      "(715) 912-6931\n",
      "(993) 554-0563\n",
      "(357) 616-5411\n",
      "(121) 347-0086\n",
      "(304) 506-6314\n",
      "(425) 288-2332\n",
      "(145) 987-4962\n",
      "(187) 582-9707\n",
      "(750) 558-3965\n",
      "(492) 467-3131\n",
      "(774) 914-2510\n",
      "(888) 106-8550\n",
      "(539) 567-3573\n",
      "(693) 337-2849\n",
      "(545) 604-9386\n",
      "(221) 156-5026\n",
      "(414) 876-0865\n",
      "(932) 726-8645\n",
      "(726) 710-9826\n",
      "(622) 594-1662\n",
      "(948) 600-8503\n",
      "(605) 900-7508\n",
      "(716) 977-5775\n",
      "(368) 239-8275\n",
      "(725) 342-0650\n",
      "(711) 993-5187\n",
      "(882) 399-5084\n",
      "(287) 755-9948\n",
      "(659) 551-3389\n",
      "(275) 730-6868\n",
      "(725) 757-4047\n",
      "(314) 882-1496\n",
      "(639) 360-7590\n",
      "(168) 222-1592\n",
      "(896) 303-1164\n",
      "(203) 982-6130\n",
      "(906) 217-1470\n",
      "(614) 514-1269\n",
      "(763) 409-5446\n",
      "(836) 292-5324\n",
      "(926) 709-3295\n",
      "(963) 356-9268\n",
      "(736) 522-8584\n",
      "(410) 483-0352\n",
      "(252) 204-1434\n",
      "(874) 886-4174\n",
      "(581) 379-7573\n",
      "(983) 632-8597\n",
      "(295) 983-3476\n",
      "(873) 392-8802\n",
      "(360) 669-3923\n",
      "(840) 987-9449\n",
      "(422) 517-6053\n",
      "(126) 940-2753\n",
      "(427) 930-5255\n",
      "(689) 721-5145\n",
      "(676) 334-2174\n",
      "(437) 994-5270\n",
      "(564) 908-6970\n",
      "(577) 333-6244\n",
      "(655) 840-6139\n"
     ]
    }
   ],
   "source": [
    "import re \n",
    "url = 'http://www.summet.com/dmsi/html/codesamples/addresses.html'\n",
    "response = urllib.request.urlopen(url)\n",
    "html = response.read()\n",
    "htmlstr = html.decode()\n",
    "pdata = re.findall('\\(\\d{3}\\) \\d{3}-\\d{4}', htmlstr)\n",
    "for i in pdata:\n",
    "    print(i)"
   ]
  },
  {
   "cell_type": "code",
   "execution_count": 213,
   "metadata": {},
   "outputs": [
    {
     "name": "stdout",
     "output_type": "stream",
     "text": [
      "Enter the email idrahul@gmail.com\n",
      "Valid\n"
     ]
    }
   ],
   "source": [
    "import re \n",
    "s = input('Enter the email id')\n",
    "m = re.fullmatch('[a-zA-Z0-9_.]*@gmail[.]com', s)\n",
    "if m!=None:\n",
    "    print('Valid')\n",
    "else:\n",
    "    print('Invalid')"
   ]
  },
  {
   "cell_type": "code",
   "execution_count": 216,
   "metadata": {},
   "outputs": [
    {
     "name": "stdout",
     "output_type": "stream",
     "text": [
      "Enter the email idrahul@yahoo.com\n",
      "Invalid\n"
     ]
    }
   ],
   "source": [
    "import re \n",
    "s = input('Enter the email id')\n",
    "m = re.fullmatch('[a-zA-Z0-9_.]*@(gmail|rediffmail)[.]com', s)\n",
    "if m!=None:\n",
    "    print('Valid')\n",
    "else:\n",
    "    print('Invalid')"
   ]
  },
  {
   "cell_type": "code",
   "execution_count": null,
   "metadata": {},
   "outputs": [],
   "source": [
    "rahul@edureka.co"
   ]
  },
  {
   "cell_type": "code",
   "execution_count": 221,
   "metadata": {},
   "outputs": [
    {
     "name": "stdout",
     "output_type": "stream",
     "text": [
      "Enter the email idrahul@gmail.com\n",
      "Valid\n"
     ]
    }
   ],
   "source": [
    "import re \n",
    "s = input('Enter the email id')\n",
    "m = re.fullmatch('[a-zA-Z0-9_.]*@[a-z0-9]*[.]+[a-z]*', s)\n",
    "if m!=None:\n",
    "    print('Valid')\n",
    "else:\n",
    "    print('Invalid')"
   ]
  },
  {
   "cell_type": "code",
   "execution_count": null,
   "metadata": {},
   "outputs": [],
   "source": [
    "#Car registration number \n",
    "#MH14DT8745\n",
    "MH1324433\n",
    "[A-Z][A-Z][0-9][0-9][A-Z][A-Z][0-9][0-9][0-9][0-9]"
   ]
  }
 ],
 "metadata": {
  "kernelspec": {
   "display_name": "Python 3",
   "language": "python",
   "name": "python3"
  },
  "language_info": {
   "codemirror_mode": {
    "name": "ipython",
    "version": 3
   },
   "file_extension": ".py",
   "mimetype": "text/x-python",
   "name": "python",
   "nbconvert_exporter": "python",
   "pygments_lexer": "ipython3",
   "version": "3.7.4"
  }
 },
 "nbformat": 4,
 "nbformat_minor": 2
}
