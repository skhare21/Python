{
 "cells": [
  {
   "cell_type": "code",
   "execution_count": 1,
   "metadata": {},
   "outputs": [],
   "source": [
    "def ctof(c):\n",
    "    f = (c*9/5) + 32\n",
    "    return f"
   ]
  },
  {
   "cell_type": "code",
   "execution_count": 3,
   "metadata": {},
   "outputs": [
    {
     "data": {
      "text/plain": [
       "50.0"
      ]
     },
     "execution_count": 3,
     "metadata": {},
     "output_type": "execute_result"
    }
   ],
   "source": [
    "a = ctof(10)\n",
    "a"
   ]
  },
  {
   "cell_type": "code",
   "execution_count": 9,
   "metadata": {},
   "outputs": [
    {
     "name": "stdout",
     "output_type": "stream",
     "text": [
      "50.0\n",
      "68.0\n"
     ]
    }
   ],
   "source": [
    "class CtoF:\n",
    "    def __init__(self,c):\n",
    "        self.c = c \n",
    "    def ctof(self):\n",
    "        f = (self.c * 9/5) + 32\n",
    "        print(f)\n",
    "        \n",
    "c1 = CtoF(10)\n",
    "c2 = CtoF(20)\n",
    "c1.ctof()\n",
    "c2.ctof()"
   ]
  },
  {
   "cell_type": "code",
   "execution_count": 16,
   "metadata": {},
   "outputs": [
    {
     "name": "stdout",
     "output_type": "stream",
     "text": [
      "Hello my name is: Rahul\n",
      "Hello my Empid is: 1234\n",
      "Hello my salary is: 10000\n"
     ]
    }
   ],
   "source": [
    "class Employee: \n",
    "    def __init__(self, name, employeeid, salary):\n",
    "        self.name = 'Rahul'\n",
    "        self.employeeid = 1234\n",
    "        self.salary = 10000\n",
    "    \n",
    "    def talk(self):\n",
    "        print('Hello my name is:', self.name)\n",
    "        print('Hello my Empid is:', self.employeeid)\n",
    "        print('Hello my salary is:', self.salary)\n",
    "        \n",
    "emp = Employee('Mohit', 12, 12000)\n",
    "emp.talk()"
   ]
  },
  {
   "cell_type": "code",
   "execution_count": 17,
   "metadata": {},
   "outputs": [
    {
     "name": "stdout",
     "output_type": "stream",
     "text": [
      "Hello my name is: Mohit\n",
      "Hello my Empid is: 12\n",
      "Hello my salary is: 12000\n"
     ]
    }
   ],
   "source": [
    "class Employee: \n",
    "    def __init__(self, name, employeeid, salary):\n",
    "        self.name = name\n",
    "        self.employeeid = employeeid\n",
    "        self.salary = salary\n",
    "    \n",
    "    def talk(self):\n",
    "        print('Hello my name is:', self.name)\n",
    "        print('Hello my Empid is:', self.employeeid)\n",
    "        print('Hello my salary is:', self.salary)\n",
    "        \n",
    "emp = Employee('Mohit', 12, 12000)\n",
    "emp.talk()"
   ]
  },
  {
   "cell_type": "code",
   "execution_count": 19,
   "metadata": {},
   "outputs": [
    {
     "ename": "NameError",
     "evalue": "name 'edureka' is not defined",
     "output_type": "error",
     "traceback": [
      "\u001b[1;31m---------------------------------------------------------------------------\u001b[0m",
      "\u001b[1;31mNameError\u001b[0m                                 Traceback (most recent call last)",
      "\u001b[1;32m<ipython-input-19-bacb1240757c>\u001b[0m in \u001b[0;36m<module>\u001b[1;34m\u001b[0m\n\u001b[0;32m     11\u001b[0m \u001b[1;33m\u001b[0m\u001b[0m\n\u001b[0;32m     12\u001b[0m \u001b[0memp\u001b[0m \u001b[1;33m=\u001b[0m \u001b[0mEmployee\u001b[0m\u001b[1;33m(\u001b[0m\u001b[1;34m'Mohit'\u001b[0m\u001b[1;33m,\u001b[0m \u001b[1;36m12\u001b[0m\u001b[1;33m,\u001b[0m \u001b[1;36m12000\u001b[0m\u001b[1;33m)\u001b[0m\u001b[1;33m\u001b[0m\u001b[1;33m\u001b[0m\u001b[0m\n\u001b[1;32m---> 13\u001b[1;33m \u001b[0memp\u001b[0m\u001b[1;33m.\u001b[0m\u001b[0mtalk\u001b[0m\u001b[1;33m(\u001b[0m\u001b[1;33m)\u001b[0m\u001b[1;33m\u001b[0m\u001b[1;33m\u001b[0m\u001b[0m\n\u001b[0m",
      "\u001b[1;32m<ipython-input-19-bacb1240757c>\u001b[0m in \u001b[0;36mtalk\u001b[1;34m(aaa)\u001b[0m\n\u001b[0;32m      6\u001b[0m \u001b[1;33m\u001b[0m\u001b[0m\n\u001b[0;32m      7\u001b[0m     \u001b[1;32mdef\u001b[0m \u001b[0mtalk\u001b[0m\u001b[1;33m(\u001b[0m\u001b[0maaa\u001b[0m\u001b[1;33m)\u001b[0m\u001b[1;33m:\u001b[0m\u001b[1;33m\u001b[0m\u001b[1;33m\u001b[0m\u001b[0m\n\u001b[1;32m----> 8\u001b[1;33m         \u001b[0mprint\u001b[0m\u001b[1;33m(\u001b[0m\u001b[1;34m'Hello my name is:'\u001b[0m\u001b[1;33m,\u001b[0m \u001b[0medureka\u001b[0m\u001b[1;33m.\u001b[0m\u001b[0mname\u001b[0m\u001b[1;33m)\u001b[0m\u001b[1;33m\u001b[0m\u001b[1;33m\u001b[0m\u001b[0m\n\u001b[0m\u001b[0;32m      9\u001b[0m         \u001b[0mprint\u001b[0m\u001b[1;33m(\u001b[0m\u001b[1;34m'Hello my Empid is:'\u001b[0m\u001b[1;33m,\u001b[0m \u001b[0medureka\u001b[0m\u001b[1;33m.\u001b[0m\u001b[0memployeeid\u001b[0m\u001b[1;33m)\u001b[0m\u001b[1;33m\u001b[0m\u001b[1;33m\u001b[0m\u001b[0m\n\u001b[0;32m     10\u001b[0m         \u001b[0mprint\u001b[0m\u001b[1;33m(\u001b[0m\u001b[1;34m'Hello my salary is:'\u001b[0m\u001b[1;33m,\u001b[0m \u001b[0medureka\u001b[0m\u001b[1;33m.\u001b[0m\u001b[0msalary\u001b[0m\u001b[1;33m)\u001b[0m\u001b[1;33m\u001b[0m\u001b[1;33m\u001b[0m\u001b[0m\n",
      "\u001b[1;31mNameError\u001b[0m: name 'edureka' is not defined"
     ]
    }
   ],
   "source": [
    "class Employee: \n",
    "    def __init__(edureka, name, employeeid, salary):\n",
    "        edureka.name = name\n",
    "        edureka.employeeid = employeeid\n",
    "        edureka.salary = salary\n",
    "    \n",
    "    def talk(aaa):\n",
    "        print('Hello my name is:', edureka.name)\n",
    "        print('Hello my Empid is:', edureka.employeeid)\n",
    "        print('Hello my salary is:', edureka.salary)\n",
    "        \n",
    "emp = Employee('Mohit', 12, 12000)\n",
    "emp.talk()"
   ]
  },
  {
   "cell_type": "code",
   "execution_count": 23,
   "metadata": {},
   "outputs": [
    {
     "name": "stdout",
     "output_type": "stream",
     "text": [
      "Hello my name is: Mohit\n",
      "Hello my Empid is: 12\n",
      "Hello my salary is: 12000\n"
     ]
    }
   ],
   "source": [
    "class Employee: \n",
    "    def __init__(self, name, employeeid, salary):\n",
    "        self.name = name\n",
    "        self.employeeid = employeeid\n",
    "        self.salary = salary\n",
    "    \n",
    "    def talk(self):\n",
    "        print('Hello my name is:', self.name)\n",
    "        print('Hello my Empid is:', self.employeeid)\n",
    "        print('Hello my salary is:', self.salary)\n",
    "        \n",
    "emp = Employee('Mohit', 12, 12000)\n",
    "emp.talk()"
   ]
  },
  {
   "cell_type": "code",
   "execution_count": 26,
   "metadata": {},
   "outputs": [
    {
     "name": "stdout",
     "output_type": "stream",
     "text": [
      "One arg constructor executing\n"
     ]
    }
   ],
   "source": [
    "class Test:\n",
    "    def __init__(self):\n",
    "        print('Constructor Executing')\n",
    "    def __init__(self,x):\n",
    "        print('One arg constructor executing')\n",
    "        \n",
    "#t1 = Test()\n",
    "t2 = Test(10)"
   ]
  },
  {
   "cell_type": "code",
   "execution_count": 28,
   "metadata": {},
   "outputs": [
    {
     "name": "stdout",
     "output_type": "stream",
     "text": [
      "Constructor Executing\n"
     ]
    }
   ],
   "source": [
    "class Test:\n",
    "    def __init__(self,x):\n",
    "        print('One arg constructor executing')\n",
    "    def __init__(self):\n",
    "        print('Constructor Executing')\n",
    "    \n",
    "        \n",
    "t1 = Test()\n",
    "#t2 = Test(10)"
   ]
  },
  {
   "cell_type": "code",
   "execution_count": 31,
   "metadata": {},
   "outputs": [
    {
     "name": "stdout",
     "output_type": "stream",
     "text": [
      "Movie name: PK\n",
      "Movie hero: AK\n",
      "Movie heroine: AS\n",
      "Movie rating: 9\n",
      "Movie name: DS\n",
      "Movie hero: RE\n",
      "Movie heroine: RT\n",
      "Movie rating: 9\n",
      "Movie name: TY\n",
      "Movie hero: EW\n",
      "Movie heroine: RE\n",
      "Movie rating: 8\n"
     ]
    }
   ],
   "source": [
    "class Movie:\n",
    "    def __init__(self,name,hero,heroine, rating):\n",
    "        self.name = name\n",
    "        self.hero = hero\n",
    "        self.heroine = heroine\n",
    "        self.rating = rating\n",
    "    def info(self):\n",
    "        print('Movie name:', self.name)\n",
    "        print('Movie hero:', self.hero)\n",
    "        print('Movie heroine:', self.heroine)\n",
    "        print('Movie rating:', self.rating)\n",
    "        \n",
    "movies = [Movie('PK','AK','AS',9), Movie('DS','RE','RT',9), Movie('TY','EW','RE',8)]\n",
    "\n",
    "for m in movies:\n",
    "    m.info()"
   ]
  },
  {
   "cell_type": "code",
   "execution_count": 32,
   "metadata": {},
   "outputs": [],
   "source": [
    "#Three types of variables \n",
    "    #Instance variables (Objet level)\n",
    "    #Static variable (Class level)\n",
    "    #Local Variable (Method level)"
   ]
  },
  {
   "cell_type": "code",
   "execution_count": null,
   "metadata": {},
   "outputs": [],
   "source": [
    "class Employee: \n",
    "    def __init__(self, name, employeeid, salary):\n",
    "        self.name = 'Rahul'\n",
    "        self.employeeid = 1234\n",
    "        self.salary = 10000\n",
    "    \n",
    "    def talk(self):\n",
    "        print('Hello my name is:', self.name)\n",
    "        print('Hello my Empid is:', self.employeeid)\n",
    "        print('Hello my salary is:', self.salary)\n",
    "        \n",
    "emp = Employee('Mohit', 12, 12000)\n",
    "emp.talk()"
   ]
  },
  {
   "cell_type": "code",
   "execution_count": null,
   "metadata": {},
   "outputs": [],
   "source": [
    "class Employee: \n",
    "    def __init__(self, name, employeeid, salary):\n",
    "        self.name = name\n",
    "        self.employeeid = employeeid\n",
    "        self.salary = salary\n",
    "    \n",
    "    def talk(self):\n",
    "        print('Hello my name is:', self.name)\n",
    "        print('Hello my Empid is:', self.employeeid)\n",
    "        print('Hello my salary is:', self.salary)\n",
    "        \n",
    "emp = Employee('Mohit', 12, 12000)\n",
    "emp.talk()"
   ]
  },
  {
   "cell_type": "code",
   "execution_count": 36,
   "metadata": {},
   "outputs": [
    {
     "name": "stdout",
     "output_type": "stream",
     "text": [
      "20\n"
     ]
    }
   ],
   "source": [
    "class Employee:\n",
    "    def __init__(self):\n",
    "        pass\n",
    "    \n",
    "    def m1(self):\n",
    "        self.b = 20\n",
    "        print(self.b)\n",
    "emp1 = Employee()\n",
    "emp1.m1()"
   ]
  },
  {
   "cell_type": "code",
   "execution_count": 42,
   "metadata": {},
   "outputs": [
    {
     "name": "stdout",
     "output_type": "stream",
     "text": [
      "20\n",
      "{'b': 20, 'd': 100, 'c': 30}\n",
      "30\n"
     ]
    }
   ],
   "source": [
    "class Employee:\n",
    "    def __init__(self):\n",
    "        pass\n",
    "    def m1(self):\n",
    "        self.b = 20\n",
    "        self.d=100\n",
    "        print(self.b)\n",
    "        \n",
    "emp1 = Employee()\n",
    "emp1.m1()\n",
    "emp1.c = 30\n",
    "print(emp1.__dict__)\n",
    "print(emp1.c)"
   ]
  },
  {
   "cell_type": "code",
   "execution_count": 46,
   "metadata": {},
   "outputs": [
    {
     "name": "stdout",
     "output_type": "stream",
     "text": [
      "{'b': 20, 'd': 100}\n",
      "{'d': 100}\n",
      "{}\n"
     ]
    }
   ],
   "source": [
    "class Employee:\n",
    "    def __init__(self):\n",
    "        self.b = 20\n",
    "        self.d=100\n",
    "    \n",
    "    def m1(self):\n",
    "        del self.b\n",
    "        \n",
    "emp1 = Employee()\n",
    "print(emp1.__dict__)\n",
    "emp1.m1()\n",
    "print(emp1.__dict__)\n",
    "del emp1.d\n",
    "print(emp1.__dict__)"
   ]
  },
  {
   "cell_type": "code",
   "execution_count": 50,
   "metadata": {},
   "outputs": [
    {
     "name": "stdout",
     "output_type": "stream",
     "text": [
      "{'a': 10}\n",
      "{'a': 777, 'b': 888}\n",
      "{'a': 777, 'b': 999}\n",
      "{'a': 777, 'b': 999, 'c': 1000}\n"
     ]
    }
   ],
   "source": [
    "class Test:\n",
    "    def __init__(self):\n",
    "        self.a = 10\n",
    "        \n",
    "    def m1(self):\n",
    "        self.a=777\n",
    "        self.b=888\n",
    "        \n",
    "t=Test()\n",
    "print(t.__dict__)\n",
    "t.m1()\n",
    "print(t.__dict__)\n",
    "t.b = 999\n",
    "print(t.__dict__)\n",
    "t.c=1000\n",
    "print(t.__dict__)"
   ]
  },
  {
   "cell_type": "code",
   "execution_count": 57,
   "metadata": {},
   "outputs": [
    {
     "name": "stdout",
     "output_type": "stream",
     "text": [
      "{'__module__': '__main__', 'a': 10, '__init__': <function Test.__init__ at 0x0000016AE847A9D8>, 'm1': <function Test.m1 at 0x0000016AE847A4C8>, 'm2': <classmethod object at 0x0000016AE888B688>, 'm3': <staticmethod object at 0x0000016AE88CFB88>, '__dict__': <attribute '__dict__' of 'Test' objects>, '__weakref__': <attribute '__weakref__' of 'Test' objects>, '__doc__': None, 'b': 20, 'c': 30, 'd': 40, 'e': 50, 'f': 60}\n",
      "{'__module__': '__main__', 'a': 10, '__init__': <function Test.__init__ at 0x0000016AE847A9D8>, 'm1': <function Test.m1 at 0x0000016AE847A4C8>, 'm2': <classmethod object at 0x0000016AE888B688>, 'm3': <staticmethod object at 0x0000016AE88CFB88>, '__dict__': <attribute '__dict__' of 'Test' objects>, '__weakref__': <attribute '__weakref__' of 'Test' objects>, '__doc__': None, 'b': 20, 'c': 30, 'd': 40, 'e': 50, 'f': 60, 'g': 100}\n"
     ]
    }
   ],
   "source": [
    "#Static variables\n",
    "class Test:\n",
    "    a = 10\n",
    "    def __init__(self):\n",
    "        Test.b = 20\n",
    "        \n",
    "    def m1(self):\n",
    "        Test.c = 30\n",
    "        \n",
    "    @classmethod\n",
    "    def m2(cls):\n",
    "        cls.d = 40\n",
    "        Test.e = 50\n",
    "        \n",
    "    @staticmethod\n",
    "    def m3():\n",
    "        Test.f = 60\n",
    "        \n",
    "t = Test()\n",
    "#print(Test.__dict__)\n",
    "t.m1()\n",
    "#print(Test.__dict__)\n",
    "t.m2()\n",
    "#print(Test.__dict__)\n",
    "t.m3()\n",
    "print(Test.__dict__)\n",
    "Test.g = 100\n",
    "print(Test.__dict__)\n",
    "        "
   ]
  },
  {
   "cell_type": "code",
   "execution_count": 66,
   "metadata": {},
   "outputs": [
    {
     "name": "stdout",
     "output_type": "stream",
     "text": [
      "888 20\n",
      "100 1000\n",
      "200\n"
     ]
    }
   ],
   "source": [
    "class Test:\n",
    "    x = 10\n",
    "    def __init__(self):\n",
    "        self.x=100\n",
    "        self.y = 20\n",
    "        \n",
    "t1= Test()\n",
    "t2 = Test()\n",
    "t3=Test()\n",
    "Test.x\n",
    "\n",
    "t1.x = 888\n",
    "t2.y=1000\n",
    "\n",
    "print(t1.x, t1.y)\n",
    "print(t2.x, t2.y)\n",
    "Test.x=200\n",
    "print(Test.x)"
   ]
  },
  {
   "cell_type": "code",
   "execution_count": 63,
   "metadata": {},
   "outputs": [
    {
     "name": "stdout",
     "output_type": "stream",
     "text": [
      "{'__module__': '__main__', '__init__': <function Test.__init__ at 0x0000016AE84500D8>, 'm1': <function Test.m1 at 0x0000016AE8450708>, 'm2': <classmethod object at 0x0000016AE8AB4348>, 'm3': <staticmethod object at 0x0000016AE8394788>, '__dict__': <attribute '__dict__' of 'Test' objects>, '__weakref__': <attribute '__weakref__' of 'Test' objects>, '__doc__': None, 'b': 20}\n",
      "{'__module__': '__main__', '__init__': <function Test.__init__ at 0x0000016AE84500D8>, 'm1': <function Test.m1 at 0x0000016AE8450708>, 'm2': <classmethod object at 0x0000016AE8AB4348>, 'm3': <staticmethod object at 0x0000016AE8394788>, '__dict__': <attribute '__dict__' of 'Test' objects>, '__weakref__': <attribute '__weakref__' of 'Test' objects>, '__doc__': None, 'c': 30}\n"
     ]
    }
   ],
   "source": [
    "class Test:\n",
    "    a = 10\n",
    "    def __init__(self):\n",
    "        Test.b = 20\n",
    "        del Test.a\n",
    "        \n",
    "    def m1(self):\n",
    "        Test.c = 30\n",
    "        del Test.b\n",
    "        \n",
    "    @classmethod    \n",
    "    def m2(cls):\n",
    "        cls.d = 40\n",
    "        del Test.c\n",
    "        \n",
    "    @staticmethod\n",
    "    def m3():\n",
    "        Test.e = 5\n",
    "        del Test.d\n",
    "        \n",
    "t = Test()\n",
    "print(Test.__dict__)\n",
    "t.m1()\n",
    "print(Test.__dict__)\n",
    "        "
   ]
  },
  {
   "cell_type": "code",
   "execution_count": 71,
   "metadata": {},
   "outputs": [
    {
     "ename": "NameError",
     "evalue": "name 'aa' is not defined",
     "output_type": "error",
     "traceback": [
      "\u001b[1;31m---------------------------------------------------------------------------\u001b[0m",
      "\u001b[1;31mNameError\u001b[0m                                 Traceback (most recent call last)",
      "\u001b[1;32m<ipython-input-71-baf8d482f7df>\u001b[0m in \u001b[0;36m<module>\u001b[1;34m\u001b[0m\n\u001b[0;32m     11\u001b[0m \u001b[0mt\u001b[0m \u001b[1;33m=\u001b[0m \u001b[0mTest\u001b[0m\u001b[1;33m(\u001b[0m\u001b[1;33m)\u001b[0m\u001b[1;33m\u001b[0m\u001b[1;33m\u001b[0m\u001b[0m\n\u001b[0;32m     12\u001b[0m \u001b[1;31m#t.m1()\u001b[0m\u001b[1;33m\u001b[0m\u001b[1;33m\u001b[0m\u001b[1;33m\u001b[0m\u001b[0m\n\u001b[1;32m---> 13\u001b[1;33m \u001b[0mt\u001b[0m\u001b[1;33m.\u001b[0m\u001b[0mm2\u001b[0m\u001b[1;33m(\u001b[0m\u001b[1;33m)\u001b[0m\u001b[1;33m\u001b[0m\u001b[1;33m\u001b[0m\u001b[0m\n\u001b[0m",
      "\u001b[1;32m<ipython-input-71-baf8d482f7df>\u001b[0m in \u001b[0;36mm2\u001b[1;34m(self)\u001b[0m\n\u001b[0;32m      7\u001b[0m     \u001b[1;32mdef\u001b[0m \u001b[0mm2\u001b[0m\u001b[1;33m(\u001b[0m\u001b[0mself\u001b[0m\u001b[1;33m)\u001b[0m\u001b[1;33m:\u001b[0m\u001b[1;33m\u001b[0m\u001b[1;33m\u001b[0m\u001b[0m\n\u001b[0;32m      8\u001b[0m         \u001b[0mb\u001b[0m \u001b[1;33m=\u001b[0m\u001b[1;36m2000\u001b[0m\u001b[1;33m\u001b[0m\u001b[1;33m\u001b[0m\u001b[0m\n\u001b[1;32m----> 9\u001b[1;33m         \u001b[0mprint\u001b[0m\u001b[1;33m(\u001b[0m\u001b[0maa\u001b[0m\u001b[1;33m)\u001b[0m\u001b[1;33m\u001b[0m\u001b[1;33m\u001b[0m\u001b[0m\n\u001b[0m\u001b[0;32m     10\u001b[0m \u001b[1;33m\u001b[0m\u001b[0m\n\u001b[0;32m     11\u001b[0m \u001b[0mt\u001b[0m \u001b[1;33m=\u001b[0m \u001b[0mTest\u001b[0m\u001b[1;33m(\u001b[0m\u001b[1;33m)\u001b[0m\u001b[1;33m\u001b[0m\u001b[1;33m\u001b[0m\u001b[0m\n",
      "\u001b[1;31mNameError\u001b[0m: name 'aa' is not defined"
     ]
    }
   ],
   "source": [
    "#Local Variables\n",
    "class Test:\n",
    "    def m1(self):\n",
    "        aa = 1000\n",
    "        print(b)\n",
    "        \n",
    "    def m2(self):\n",
    "        b =2000\n",
    "        print(aa)\n",
    "        \n",
    "t = Test()\n",
    "#t.m1()\n",
    "t.m2()"
   ]
  },
  {
   "cell_type": "code",
   "execution_count": 73,
   "metadata": {},
   "outputs": [],
   "source": [
    "#Types of methods\n",
    "    #Instance method\n",
    "    #Static method\n",
    "    #Class method"
   ]
  },
  {
   "cell_type": "code",
   "execution_count": 76,
   "metadata": {},
   "outputs": [
    {
     "name": "stdout",
     "output_type": "stream",
     "text": [
      "95\n",
      "A\n",
      "You got 1st grade\n"
     ]
    }
   ],
   "source": [
    "class Student:\n",
    "    def __init__(self,name,marks):\n",
    "        self.name = name\n",
    "        self.marks = marks\n",
    "    \n",
    "    def display(self):\n",
    "        print(self.marks)\n",
    "        print(self.name)\n",
    "        \n",
    "    def grade(self):\n",
    "        if self.marks>=60:\n",
    "            print('You got 1st grade')\n",
    "        elif self.marks>=50:\n",
    "            print('You got 2nd grade')\n",
    "        elif self.marks>=35:\n",
    "            print('You got 3rd grade')\n",
    "        else:\n",
    "            print('You did not pass')\n",
    "            \n",
    "s1 = Student('A',95)\n",
    "s1.display()\n",
    "s1.grade()"
   ]
  },
  {
   "cell_type": "code",
   "execution_count": 78,
   "metadata": {},
   "outputs": [
    {
     "name": "stdout",
     "output_type": "stream",
     "text": [
      "30\n"
     ]
    }
   ],
   "source": [
    "class Test:\n",
    "    count = 0\n",
    "    def __init__(self):\n",
    "        Test.count = Test.count + 1\n",
    "    \n",
    "    @staticmethod    \n",
    "    def noofobj(x,y):\n",
    "        print(x+y)\n",
    "        \n",
    "t = Test()\n",
    "Test.noofobj(10,20)"
   ]
  },
  {
   "cell_type": "code",
   "execution_count": 81,
   "metadata": {},
   "outputs": [
    {
     "name": "stdout",
     "output_type": "stream",
     "text": [
      "30\n",
      "200\n"
     ]
    }
   ],
   "source": [
    "class calc:\n",
    "    def add(x,y):\n",
    "        print(x+y)\n",
    "        \n",
    "    def prod(x,y):\n",
    "        print(x*y)\n",
    "    def avg(x,y):\n",
    "        print((x+y)/2)\n",
    "        \n",
    "calc.add(10,20)\n",
    "calc.prod(10,20)"
   ]
  },
  {
   "cell_type": "code",
   "execution_count": 84,
   "metadata": {},
   "outputs": [
    {
     "name": "stdout",
     "output_type": "stream",
     "text": [
      "3\n"
     ]
    }
   ],
   "source": [
    "class Test:\n",
    "    count = 0\n",
    "    def __init__(self):\n",
    "        Test.count = Test.count + 1\n",
    "        \n",
    "    @classmethod\n",
    "    def noofobj(cls):\n",
    "        print(cls.count)\n",
    "        \n",
    "t1=Test()\n",
    "t2=Test()\n",
    "t3=Test()\n",
    "Test.noofobj()"
   ]
  },
  {
   "cell_type": "code",
   "execution_count": 87,
   "metadata": {},
   "outputs": [
    {
     "name": "stdout",
     "output_type": "stream",
     "text": [
      "Outer class object\n",
      "Inner class object\n",
      "Inner class method\n"
     ]
    },
    {
     "ename": "AttributeError",
     "evalue": "'NoneType' object has no attribute 'Test'",
     "output_type": "error",
     "traceback": [
      "\u001b[1;31m---------------------------------------------------------------------------\u001b[0m",
      "\u001b[1;31mAttributeError\u001b[0m                            Traceback (most recent call last)",
      "\u001b[1;32m<ipython-input-87-8239e4c31c3b>\u001b[0m in \u001b[0;36m<module>\u001b[1;34m\u001b[0m\n\u001b[0;32m     16\u001b[0m \u001b[0mo\u001b[0m \u001b[1;33m=\u001b[0m \u001b[0mOuter\u001b[0m\u001b[1;33m(\u001b[0m\u001b[1;33m)\u001b[0m\u001b[1;33m\u001b[0m\u001b[1;33m\u001b[0m\u001b[0m\n\u001b[0;32m     17\u001b[0m \u001b[0mi\u001b[0m \u001b[1;33m=\u001b[0m \u001b[0mo\u001b[0m\u001b[1;33m.\u001b[0m\u001b[0mInner\u001b[0m\u001b[1;33m(\u001b[0m\u001b[1;33m)\u001b[0m\u001b[1;33m\u001b[0m\u001b[1;33m\u001b[0m\u001b[0m\n\u001b[1;32m---> 18\u001b[1;33m \u001b[0mi\u001b[0m\u001b[1;33m.\u001b[0m\u001b[0mm1\u001b[0m\u001b[1;33m(\u001b[0m\u001b[1;33m)\u001b[0m\u001b[1;33m.\u001b[0m\u001b[0mTest\u001b[0m\u001b[1;33m(\u001b[0m\u001b[1;33m)\u001b[0m\u001b[1;33m\u001b[0m\u001b[1;33m\u001b[0m\u001b[0m\n\u001b[0m",
      "\u001b[1;31mAttributeError\u001b[0m: 'NoneType' object has no attribute 'Test'"
     ]
    }
   ],
   "source": [
    "class Outer:\n",
    "    def __init__(self):\n",
    "        print('Outer class object')\n",
    "        \n",
    "    class Inner:\n",
    "        def __init__(self):\n",
    "            print('Inner class object')\n",
    "            \n",
    "        def m1(self):\n",
    "            print('Inner class method')\n",
    "            \n",
    "            class Test:\n",
    "                def __init__(self):\n",
    "                    pass\n",
    "            \n",
    "o = Outer()\n",
    "i = o.Inner()\n",
    "i.m1().Test()"
   ]
  },
  {
   "cell_type": "code",
   "execution_count": 92,
   "metadata": {},
   "outputs": [
    {
     "name": "stdout",
     "output_type": "stream",
     "text": [
      "Hello Rahul\n",
      "Talking\n",
      "Thinking\n"
     ]
    }
   ],
   "source": [
    "class Human:\n",
    "    def __init__(self):\n",
    "        self.name = 'Rahul'\n",
    "        self.head = self.Head()\n",
    "        self.brain = self.head.Brain()\n",
    "        \n",
    "        \n",
    "    def display(self):\n",
    "        print('Hello',self.name)\n",
    "        self.head.talk()\n",
    "        self.brain.think()\n",
    "        \n",
    "        \n",
    "    class Head:\n",
    "        def talk(self):\n",
    "            print('Talking')\n",
    "            \n",
    "            \n",
    "        class Brain:\n",
    "            def think(self):\n",
    "                print('Thinking')\n",
    "\n",
    "h = Human()\n",
    "h.display()"
   ]
  },
  {
   "cell_type": "code",
   "execution_count": 94,
   "metadata": {},
   "outputs": [],
   "source": [
    "#Inheritance \n",
    "class P:\n",
    "    a = 10\n",
    "    def __init__(self):\n",
    "        self.b = 20\n",
    "        \n",
    "    def m1(self):\n",
    "        print('Parent class instance method')\n",
    "        \n",
    "    @classmethod\n",
    "    def m2(cls):\n",
    "        print('Parent class method')\n",
    "        \n",
    "    @staticmethod\n",
    "    def m3():\n",
    "        print('Parent class static method')\n",
    "        \n",
    "class C(P):\n",
    "    pass"
   ]
  },
  {
   "cell_type": "code",
   "execution_count": 100,
   "metadata": {},
   "outputs": [
    {
     "name": "stdout",
     "output_type": "stream",
     "text": [
      "Parent class instance method\n",
      "Parent class method\n",
      "Parent class static method\n"
     ]
    }
   ],
   "source": [
    "c= C()\n",
    "c.a\n",
    "c.b\n",
    "c.m1()\n",
    "c.m2()\n",
    "c.m3()"
   ]
  },
  {
   "cell_type": "code",
   "execution_count": 101,
   "metadata": {},
   "outputs": [
    {
     "name": "stdout",
     "output_type": "stream",
     "text": [
      "Parent method\n",
      "Child method\n"
     ]
    }
   ],
   "source": [
    "#Single Inheritance \n",
    "class P:\n",
    "    def m1(self):\n",
    "        print('Parent method')\n",
    "        \n",
    "class C(P):\n",
    "    def m2(self):\n",
    "        print('Child method')\n",
    "        \n",
    "c= C()\n",
    "c.m1()\n",
    "c.m2()"
   ]
  },
  {
   "cell_type": "code",
   "execution_count": 103,
   "metadata": {},
   "outputs": [
    {
     "name": "stdout",
     "output_type": "stream",
     "text": [
      "Parent method\n",
      "Child method\n",
      "Sub Child method\n"
     ]
    }
   ],
   "source": [
    "#Multilevel Inheritance \n",
    "class P:\n",
    "    def m1(self):\n",
    "        print('Parent method')\n",
    "        \n",
    "class C(P):\n",
    "    def m2(self):\n",
    "        print('Child method')\n",
    "        \n",
    "class CC(C):\n",
    "    def m3(self):\n",
    "        print('Sub Child method')\n",
    "        \n",
    "cc= CC()\n",
    "cc.m1()\n",
    "cc.m2()\n",
    "cc.m3()"
   ]
  },
  {
   "cell_type": "code",
   "execution_count": 111,
   "metadata": {},
   "outputs": [
    {
     "name": "stdout",
     "output_type": "stream",
     "text": [
      "Parent method\n",
      "Child method\n",
      "Sub Child method\n",
      "Parent method\n"
     ]
    }
   ],
   "source": [
    "#Hierarchical Inheritance \n",
    "class P:\n",
    "    def m1(self):\n",
    "        print('Parent method')\n",
    "        \n",
    "class C1(P):\n",
    "    def m2(self):\n",
    "        print('Child method')\n",
    "        \n",
    "class C2(P):\n",
    "    def m3(self):\n",
    "        print('Sub Child method')\n",
    "        \n",
    "c1= C1()\n",
    "c1.m1()\n",
    "c1.m2()\n",
    "#c1.m3()\n",
    "c2 = C2()\n",
    "c2.m3()\n",
    "c2.m1()\n",
    "#c2.m2()"
   ]
  },
  {
   "cell_type": "code",
   "execution_count": 114,
   "metadata": {},
   "outputs": [
    {
     "name": "stdout",
     "output_type": "stream",
     "text": [
      "Child method\n",
      "Parent 2 Method\n",
      "Parent 1 Method\n"
     ]
    }
   ],
   "source": [
    "#Multiple Inheritance \n",
    "class P1:\n",
    "    def m1(self):\n",
    "        print('Parent 1 Method')\n",
    "        \n",
    "class P2:\n",
    "    def m2(self):\n",
    "        print('Parent 2 Method')\n",
    "        \n",
    "class C(P1,P2):\n",
    "    def m3(self):\n",
    "        print('Child method')\n",
    "        \n",
    "c = C()\n",
    "c.m3()\n",
    "c.m2()\n",
    "c.m1()"
   ]
  },
  {
   "cell_type": "code",
   "execution_count": 115,
   "metadata": {},
   "outputs": [
    {
     "name": "stdout",
     "output_type": "stream",
     "text": [
      "Child method\n",
      "Parent 1 Method\n"
     ]
    }
   ],
   "source": [
    "#Multiple Inheritance \n",
    "class P1:\n",
    "    def m1(self):\n",
    "        print('Parent 1 Method')\n",
    "        \n",
    "class P2:\n",
    "    def m1(self):\n",
    "        print('Parent 2 Method')\n",
    "        \n",
    "class C(P1,P2):\n",
    "    def m3(self):\n",
    "        print('Child method')\n",
    "        \n",
    "c = C()\n",
    "c.m3()\n",
    "#c.m2()\n",
    "c.m1()"
   ]
  },
  {
   "cell_type": "code",
   "execution_count": 116,
   "metadata": {},
   "outputs": [
    {
     "name": "stdout",
     "output_type": "stream",
     "text": [
      "Child method\n",
      "Parent 2 Method\n"
     ]
    }
   ],
   "source": [
    "#Multiple Inheritance \n",
    "class P1:\n",
    "    def m1(self):\n",
    "        print('Parent 1 Method')\n",
    "        \n",
    "class P2:\n",
    "    def m1(self):\n",
    "        print('Parent 2 Method')\n",
    "        \n",
    "class C(P2,P1):\n",
    "    def m3(self):\n",
    "        print('Child method')\n",
    "        \n",
    "c = C()\n",
    "c.m3()\n",
    "#c.m2()\n",
    "c.m1()"
   ]
  },
  {
   "cell_type": "code",
   "execution_count": 123,
   "metadata": {},
   "outputs": [
    {
     "name": "stdout",
     "output_type": "stream",
     "text": [
      "100\n",
      "Parent\n",
      "Class method\n",
      "Static\n"
     ]
    },
    {
     "ename": "AttributeError",
     "evalue": "'super' object has no attribute 'b'",
     "output_type": "error",
     "traceback": [
      "\u001b[1;31m---------------------------------------------------------------------------\u001b[0m",
      "\u001b[1;31mAttributeError\u001b[0m                            Traceback (most recent call last)",
      "\u001b[1;32m<ipython-input-123-5e8d5e1a5a79>\u001b[0m in \u001b[0;36m<module>\u001b[1;34m\u001b[0m\n\u001b[0;32m     26\u001b[0m         \u001b[0msuper\u001b[0m\u001b[1;33m(\u001b[0m\u001b[1;33m)\u001b[0m\u001b[1;33m.\u001b[0m\u001b[0mb\u001b[0m\u001b[1;33m\u001b[0m\u001b[1;33m\u001b[0m\u001b[0m\n\u001b[0;32m     27\u001b[0m \u001b[1;33m\u001b[0m\u001b[0m\n\u001b[1;32m---> 28\u001b[1;33m \u001b[0mc\u001b[0m \u001b[1;33m=\u001b[0m\u001b[0mC\u001b[0m\u001b[1;33m(\u001b[0m\u001b[1;33m)\u001b[0m\u001b[1;33m\u001b[0m\u001b[1;33m\u001b[0m\u001b[0m\n\u001b[0m\u001b[0;32m     29\u001b[0m \u001b[0mc\u001b[0m\u001b[1;33m.\u001b[0m\u001b[0mm2\u001b[0m\u001b[1;33m(\u001b[0m\u001b[1;33m)\u001b[0m\u001b[1;33m\u001b[0m\u001b[1;33m\u001b[0m\u001b[0m\n\u001b[0;32m     30\u001b[0m \u001b[1;33m\u001b[0m\u001b[0m\n",
      "\u001b[1;32m<ipython-input-123-5e8d5e1a5a79>\u001b[0m in \u001b[0;36m__init__\u001b[1;34m(self)\u001b[0m\n\u001b[0;32m     24\u001b[0m         \u001b[0msuper\u001b[0m\u001b[1;33m(\u001b[0m\u001b[1;33m)\u001b[0m\u001b[1;33m.\u001b[0m\u001b[0mm2\u001b[0m\u001b[1;33m(\u001b[0m\u001b[1;33m)\u001b[0m\u001b[1;33m\u001b[0m\u001b[1;33m\u001b[0m\u001b[0m\n\u001b[0;32m     25\u001b[0m         \u001b[0msuper\u001b[0m\u001b[1;33m(\u001b[0m\u001b[1;33m)\u001b[0m\u001b[1;33m.\u001b[0m\u001b[0mm3\u001b[0m\u001b[1;33m(\u001b[0m\u001b[1;33m)\u001b[0m\u001b[1;33m\u001b[0m\u001b[1;33m\u001b[0m\u001b[0m\n\u001b[1;32m---> 26\u001b[1;33m         \u001b[0msuper\u001b[0m\u001b[1;33m(\u001b[0m\u001b[1;33m)\u001b[0m\u001b[1;33m.\u001b[0m\u001b[0mb\u001b[0m\u001b[1;33m\u001b[0m\u001b[1;33m\u001b[0m\u001b[0m\n\u001b[0m\u001b[0;32m     27\u001b[0m \u001b[1;33m\u001b[0m\u001b[0m\n\u001b[0;32m     28\u001b[0m \u001b[0mc\u001b[0m \u001b[1;33m=\u001b[0m\u001b[0mC\u001b[0m\u001b[1;33m(\u001b[0m\u001b[1;33m)\u001b[0m\u001b[1;33m\u001b[0m\u001b[1;33m\u001b[0m\u001b[0m\n",
      "\u001b[1;31mAttributeError\u001b[0m: 'super' object has no attribute 'b'"
     ]
    }
   ],
   "source": [
    "class P:\n",
    "    a = 100\n",
    "    def __init__(self):\n",
    "        self.b = 200\n",
    "        \n",
    "    def m1(self):\n",
    "        print('Parent')\n",
    "        \n",
    "    @classmethod\n",
    "    def m2(cls):\n",
    "        print('Class method')\n",
    "        \n",
    "    @staticmethod\n",
    "    def m3():\n",
    "        print('Static')\n",
    "        \n",
    "class C(P):\n",
    "    a =10000\n",
    "    def __init__(self):\n",
    "        self.b = 9090909\n",
    "        super().__init__()\n",
    "        print(super().a)\n",
    "        super().m1()\n",
    "        super().m2()\n",
    "        super().m3()\n",
    "        super().b\n",
    "        \n",
    "c =C()\n",
    "c.m2()\n",
    "        "
   ]
  },
  {
   "cell_type": "code",
   "execution_count": 130,
   "metadata": {},
   "outputs": [
    {
     "name": "stdout",
     "output_type": "stream",
     "text": [
      "B class method\n"
     ]
    }
   ],
   "source": [
    "class A:\n",
    "    def m1(self):\n",
    "        print('A class method')\n",
    "        \n",
    "class B(A):\n",
    "    def m1(self):\n",
    "        print('B class method')\n",
    "        \n",
    "class C(B):\n",
    "    def m1(self):\n",
    "        print('C class method')\n",
    "        \n",
    "class D(C):\n",
    "    def m1(self):\n",
    "        print('D class method')\n",
    "        \n",
    "class E(D):\n",
    "    def m1(self):\n",
    "        #print('E class method')\n",
    "        #super().m1()\n",
    "        #super().super().m1()\n",
    "        super(C,self).m1()\n",
    "        \n",
    "e = E()\n",
    "e.m1()\n",
    "        "
   ]
  },
  {
   "cell_type": "code",
   "execution_count": 134,
   "metadata": {},
   "outputs": [
    {
     "name": "stdout",
     "output_type": "stream",
     "text": [
      "3\n",
      "ab\n"
     ]
    }
   ],
   "source": [
    "#Polymorphism\n",
    "print(1 + 2)\n",
    "print('a' + 'b')"
   ]
  },
  {
   "cell_type": "code",
   "execution_count": 135,
   "metadata": {},
   "outputs": [
    {
     "ename": "TypeError",
     "evalue": "unsupported operand type(s) for +: 'Book' and 'Book'",
     "output_type": "error",
     "traceback": [
      "\u001b[1;31m---------------------------------------------------------------------------\u001b[0m",
      "\u001b[1;31mTypeError\u001b[0m                                 Traceback (most recent call last)",
      "\u001b[1;32m<ipython-input-135-3c96c29bef9a>\u001b[0m in \u001b[0;36m<module>\u001b[1;34m\u001b[0m\n\u001b[0;32m      5\u001b[0m \u001b[0mb1\u001b[0m \u001b[1;33m=\u001b[0m \u001b[0mBook\u001b[0m\u001b[1;33m(\u001b[0m\u001b[1;36m100\u001b[0m\u001b[1;33m)\u001b[0m\u001b[1;33m\u001b[0m\u001b[1;33m\u001b[0m\u001b[0m\n\u001b[0;32m      6\u001b[0m \u001b[0mb2\u001b[0m \u001b[1;33m=\u001b[0m \u001b[0mBook\u001b[0m\u001b[1;33m(\u001b[0m\u001b[1;36m200\u001b[0m\u001b[1;33m)\u001b[0m\u001b[1;33m\u001b[0m\u001b[1;33m\u001b[0m\u001b[0m\n\u001b[1;32m----> 7\u001b[1;33m \u001b[0mprint\u001b[0m\u001b[1;33m(\u001b[0m\u001b[0mb1\u001b[0m \u001b[1;33m+\u001b[0m \u001b[0mb2\u001b[0m\u001b[1;33m)\u001b[0m\u001b[1;33m\u001b[0m\u001b[1;33m\u001b[0m\u001b[0m\n\u001b[0m",
      "\u001b[1;31mTypeError\u001b[0m: unsupported operand type(s) for +: 'Book' and 'Book'"
     ]
    }
   ],
   "source": [
    "class Book:\n",
    "    def __init__(self,pages):\n",
    "        self.pages = pages\n",
    "        \n",
    "b1 = Book(100)\n",
    "b2 = Book(200)\n",
    "print(b1 + b2)"
   ]
  },
  {
   "cell_type": "code",
   "execution_count": 136,
   "metadata": {},
   "outputs": [
    {
     "data": {
      "text/plain": [
       "['__abs__',\n",
       " '__add__',\n",
       " '__and__',\n",
       " '__bool__',\n",
       " '__ceil__',\n",
       " '__class__',\n",
       " '__delattr__',\n",
       " '__dir__',\n",
       " '__divmod__',\n",
       " '__doc__',\n",
       " '__eq__',\n",
       " '__float__',\n",
       " '__floor__',\n",
       " '__floordiv__',\n",
       " '__format__',\n",
       " '__ge__',\n",
       " '__getattribute__',\n",
       " '__getnewargs__',\n",
       " '__gt__',\n",
       " '__hash__',\n",
       " '__index__',\n",
       " '__init__',\n",
       " '__init_subclass__',\n",
       " '__int__',\n",
       " '__invert__',\n",
       " '__le__',\n",
       " '__lshift__',\n",
       " '__lt__',\n",
       " '__mod__',\n",
       " '__mul__',\n",
       " '__ne__',\n",
       " '__neg__',\n",
       " '__new__',\n",
       " '__or__',\n",
       " '__pos__',\n",
       " '__pow__',\n",
       " '__radd__',\n",
       " '__rand__',\n",
       " '__rdivmod__',\n",
       " '__reduce__',\n",
       " '__reduce_ex__',\n",
       " '__repr__',\n",
       " '__rfloordiv__',\n",
       " '__rlshift__',\n",
       " '__rmod__',\n",
       " '__rmul__',\n",
       " '__ror__',\n",
       " '__round__',\n",
       " '__rpow__',\n",
       " '__rrshift__',\n",
       " '__rshift__',\n",
       " '__rsub__',\n",
       " '__rtruediv__',\n",
       " '__rxor__',\n",
       " '__setattr__',\n",
       " '__sizeof__',\n",
       " '__str__',\n",
       " '__sub__',\n",
       " '__subclasshook__',\n",
       " '__truediv__',\n",
       " '__trunc__',\n",
       " '__xor__',\n",
       " 'bit_length',\n",
       " 'conjugate',\n",
       " 'denominator',\n",
       " 'from_bytes',\n",
       " 'imag',\n",
       " 'numerator',\n",
       " 'real',\n",
       " 'to_bytes']"
      ]
     },
     "execution_count": 136,
     "metadata": {},
     "output_type": "execute_result"
    }
   ],
   "source": [
    "dir(int)"
   ]
  },
  {
   "cell_type": "code",
   "execution_count": 139,
   "metadata": {},
   "outputs": [
    {
     "ename": "TypeError",
     "evalue": "__add__() missing 1 required positional argument: 'other1'",
     "output_type": "error",
     "traceback": [
      "\u001b[1;31m---------------------------------------------------------------------------\u001b[0m",
      "\u001b[1;31mTypeError\u001b[0m                                 Traceback (most recent call last)",
      "\u001b[1;32m<ipython-input-139-500361ace9db>\u001b[0m in \u001b[0;36m<module>\u001b[1;34m\u001b[0m\n\u001b[0;32m      9\u001b[0m \u001b[0mb2\u001b[0m \u001b[1;33m=\u001b[0m \u001b[0mBook\u001b[0m\u001b[1;33m(\u001b[0m\u001b[1;36m200\u001b[0m\u001b[1;33m)\u001b[0m\u001b[1;33m\u001b[0m\u001b[1;33m\u001b[0m\u001b[0m\n\u001b[0;32m     10\u001b[0m \u001b[0mb3\u001b[0m \u001b[1;33m=\u001b[0m \u001b[0mBook\u001b[0m\u001b[1;33m(\u001b[0m\u001b[1;36m50\u001b[0m\u001b[1;33m)\u001b[0m\u001b[1;33m\u001b[0m\u001b[1;33m\u001b[0m\u001b[0m\n\u001b[1;32m---> 11\u001b[1;33m \u001b[0mprint\u001b[0m\u001b[1;33m(\u001b[0m\u001b[0mb1\u001b[0m \u001b[1;33m+\u001b[0m \u001b[0mb2\u001b[0m \u001b[1;33m+\u001b[0m \u001b[0mb3\u001b[0m\u001b[1;33m)\u001b[0m\u001b[1;33m\u001b[0m\u001b[1;33m\u001b[0m\u001b[0m\n\u001b[0m",
      "\u001b[1;31mTypeError\u001b[0m: __add__() missing 1 required positional argument: 'other1'"
     ]
    }
   ],
   "source": [
    "class Book:\n",
    "    def __init__(self,pages):\n",
    "        self.pages = pages\n",
    "        \n",
    "    def __add__(self,other, other1):\n",
    "        return self.pages + other.pages + other1.pages\n",
    "        \n",
    "b1 = Book(100)\n",
    "b2 = Book(200)\n",
    "b3 = Book(50)\n",
    "print(b1 + b2 + b3)"
   ]
  },
  {
   "cell_type": "code",
   "execution_count": 144,
   "metadata": {},
   "outputs": [
    {
     "name": "stdout",
     "output_type": "stream",
     "text": [
      "350\n"
     ]
    }
   ],
   "source": [
    "class Book:\n",
    "    def __init__(self,pages):\n",
    "        self.pages = pages\n",
    "        \n",
    "    def __add__(self,other):\n",
    "        total = self.pages + other.pages\n",
    "        return Book(total)\n",
    "    \n",
    "    def __str__(self):\n",
    "        return str(self.pages)\n",
    "        \n",
    "b1 = Book(100)\n",
    "b2 = Book(200)\n",
    "b3 = Book(50)\n",
    "print(b1 + b2 + b3)"
   ]
  },
  {
   "cell_type": "code",
   "execution_count": 148,
   "metadata": {},
   "outputs": [
    {
     "data": {
      "text/plain": [
       "12500"
      ]
     },
     "execution_count": 148,
     "metadata": {},
     "output_type": "execute_result"
    }
   ],
   "source": [
    "class Employee: \n",
    "    def __init__(self,name,salary):\n",
    "        self.name = name\n",
    "        self.salary = salary\n",
    "        \n",
    "    def __mul__(self,other):\n",
    "        return self.salary * other.days\n",
    "    \n",
    "class Timesheet:\n",
    "    def __init__(self,name,days):\n",
    "        self.name = name\n",
    "        self.days = days\n",
    "        \n",
    "    def __mul__(self,other):\n",
    "        return self.days * other.salary\n",
    "    \n",
    "e = Employee('A',500)\n",
    "t = Timesheet('A',25)\n",
    "e*t\n",
    "t*e"
   ]
  },
  {
   "cell_type": "code",
   "execution_count": 150,
   "metadata": {},
   "outputs": [
    {
     "name": "stdout",
     "output_type": "stream",
     "text": [
      "3rd M1\n"
     ]
    }
   ],
   "source": [
    "#Method overloading\n",
    "class Test:\n",
    "    def m1(self):\n",
    "        print('1st M1')\n",
    "        \n",
    "    def m1(self, a):\n",
    "        print('2nd M1')\n",
    "        \n",
    "    def m1(self,a,b):\n",
    "        print('3rd M1')\n",
    "        \n",
    "t=Test()\n",
    "t.m1(10,2)"
   ]
  },
  {
   "cell_type": "code",
   "execution_count": 154,
   "metadata": {},
   "outputs": [
    {
     "name": "stdout",
     "output_type": "stream",
     "text": [
      "0\n",
      "10\n",
      "30\n",
      "60\n"
     ]
    }
   ],
   "source": [
    "class Test:\n",
    "    def sum(self,*a):\n",
    "        total = 0 \n",
    "        for x in a:\n",
    "            total =total + x\n",
    "        print(total)\n",
    "        \n",
    "t=Test()\n",
    "t.sum()\n",
    "t.sum(10)\n",
    "t.sum(10,20)\n",
    "t.sum(10,20,30)"
   ]
  },
  {
   "cell_type": "code",
   "execution_count": 157,
   "metadata": {},
   "outputs": [
    {
     "name": "stdout",
     "output_type": "stream",
     "text": [
      "1st constructor\n"
     ]
    }
   ],
   "source": [
    "class Test:\n",
    "    def __init__(self):\n",
    "        print('1st constructor')\n",
    "        \n",
    "    \n",
    "    def __init__(self,a):\n",
    "        print('1st constructor')\n",
    "        \n",
    "    def __init__(self,a,b):\n",
    "        print('1st constructor')\n",
    "        \n",
    "t = Test(10,20)"
   ]
  },
  {
   "cell_type": "code",
   "execution_count": 161,
   "metadata": {},
   "outputs": [
    {
     "name": "stdout",
     "output_type": "stream",
     "text": [
      "1st constructor\n",
      "1st constructor\n",
      "1st constructor\n"
     ]
    }
   ],
   "source": [
    "class Test:\n",
    "    def __init__(self,*a):\n",
    "        print('1st constructor')\n",
    "        \n",
    "t = Test()\n",
    "t = Test(10)\n",
    "t = Test(10,20)"
   ]
  },
  {
   "cell_type": "code",
   "execution_count": 165,
   "metadata": {},
   "outputs": [
    {
     "name": "stdout",
     "output_type": "stream",
     "text": [
      "Cash+gold+houses+cars\n",
      "A|B|C\n"
     ]
    }
   ],
   "source": [
    "#Method overriding \n",
    "class P:\n",
    "    def property(self):\n",
    "        print('Cash+gold+houses+cars')\n",
    "        \n",
    "    def marriage(self):\n",
    "        print('X|Y|Z')\n",
    "        \n",
    "class C(P):\n",
    "    def marriage(self):\n",
    "        print('A|B|C')\n",
    "c = C()\n",
    "c.property()\n",
    "c.marriage()"
   ]
  },
  {
   "cell_type": "code",
   "execution_count": 166,
   "metadata": {},
   "outputs": [
    {
     "name": "stdout",
     "output_type": "stream",
     "text": [
      "Cash+gold+houses+cars\n",
      "X|Y|Z\n",
      "A|B|C\n"
     ]
    }
   ],
   "source": [
    "#Method overriding \n",
    "class P:\n",
    "    def property(self):\n",
    "        print('Cash+gold+houses+cars')\n",
    "        \n",
    "    def marriage(self):\n",
    "        print('X|Y|Z')\n",
    "        \n",
    "class C(P):\n",
    "    def marriage(self):\n",
    "        super().marriage()\n",
    "        print('A|B|C')\n",
    "c = C()\n",
    "c.property()\n",
    "c.marriage()"
   ]
  },
  {
   "cell_type": "code",
   "execution_count": 175,
   "metadata": {},
   "outputs": [
    {
     "data": {
      "text/plain": [
       "10"
      ]
     },
     "execution_count": 175,
     "metadata": {},
     "output_type": "execute_result"
    }
   ],
   "source": [
    "#Abstract method and classes \n",
    "from abc import *\n",
    "class Vehicle(ABC):\n",
    "    @abstractmethod\n",
    "    def get_no_wheels(self):\n",
    "        pass\n",
    "    \n",
    "class Bus(Vehicle):\n",
    "    def get_no_wheels(self):\n",
    "        return 10\n",
    "b = Bus()\n",
    "b.get_no_wheels()"
   ]
  },
  {
   "cell_type": "code",
   "execution_count": 180,
   "metadata": {},
   "outputs": [
    {
     "name": "stdout",
     "output_type": "stream",
     "text": [
      "Implement M1\n",
      "Implement M2\n"
     ]
    }
   ],
   "source": [
    "class P(ABC):\n",
    "    @abstractmethod\n",
    "    def m1(self):\n",
    "        pass\n",
    "    @abstractmethod\n",
    "    def m2(self):\n",
    "        pass\n",
    "    \n",
    "class C(P):\n",
    "    def m1(self):\n",
    "        print('Implement M1')\n",
    "\n",
    "class CC(C):\n",
    "    def m2(self):\n",
    "        print('Implement M2')\n",
    "        \n",
    "c=CC()\n",
    "c.m1()\n",
    "c.m2()"
   ]
  },
  {
   "cell_type": "code",
   "execution_count": 183,
   "metadata": {},
   "outputs": [
    {
     "ename": "AttributeError",
     "evalue": "'Test' object has no attribute '__x'",
     "output_type": "error",
     "traceback": [
      "\u001b[1;31m---------------------------------------------------------------------------\u001b[0m",
      "\u001b[1;31mAttributeError\u001b[0m                            Traceback (most recent call last)",
      "\u001b[1;32m<ipython-input-183-58bb15b31d30>\u001b[0m in \u001b[0;36m<module>\u001b[1;34m\u001b[0m\n\u001b[0;32m      5\u001b[0m \u001b[1;33m\u001b[0m\u001b[0m\n\u001b[0;32m      6\u001b[0m \u001b[0mt\u001b[0m \u001b[1;33m=\u001b[0m \u001b[0mTest\u001b[0m\u001b[1;33m(\u001b[0m\u001b[1;33m)\u001b[0m\u001b[1;33m\u001b[0m\u001b[1;33m\u001b[0m\u001b[0m\n\u001b[1;32m----> 7\u001b[1;33m \u001b[0mprint\u001b[0m\u001b[1;33m(\u001b[0m\u001b[0mt\u001b[0m\u001b[1;33m.\u001b[0m\u001b[0m__x\u001b[0m\u001b[1;33m)\u001b[0m\u001b[1;33m\u001b[0m\u001b[1;33m\u001b[0m\u001b[0m\n\u001b[0m\u001b[0;32m      8\u001b[0m \u001b[0mprint\u001b[0m\u001b[1;33m(\u001b[0m\u001b[0mt\u001b[0m\u001b[1;33m.\u001b[0m\u001b[0m__y\u001b[0m\u001b[1;33m)\u001b[0m\u001b[1;33m\u001b[0m\u001b[1;33m\u001b[0m\u001b[0m\n",
      "\u001b[1;31mAttributeError\u001b[0m: 'Test' object has no attribute '__x'"
     ]
    }
   ],
   "source": [
    "class Test:\n",
    "    __x = 10\n",
    "    def __init__(self):\n",
    "        self.__y = 20\n",
    "        \n",
    "t = Test()\n",
    "print(t.__x)\n",
    "print(t.__y)"
   ]
  },
  {
   "cell_type": "code",
   "execution_count": 185,
   "metadata": {},
   "outputs": [
    {
     "data": {
      "text/plain": [
       "20"
      ]
     },
     "execution_count": 185,
     "metadata": {},
     "output_type": "execute_result"
    }
   ],
   "source": [
    "t._Test__y"
   ]
  },
  {
   "cell_type": "code",
   "execution_count": 187,
   "metadata": {},
   "outputs": [
    {
     "data": {
      "text/plain": [
       "{'_Test__y': 20}"
      ]
     },
     "execution_count": 187,
     "metadata": {},
     "output_type": "execute_result"
    }
   ],
   "source": [
    "t.__dict__"
   ]
  },
  {
   "cell_type": "code",
   "execution_count": 186,
   "metadata": {},
   "outputs": [
    {
     "data": {
      "text/plain": [
       "10"
      ]
     },
     "execution_count": 186,
     "metadata": {},
     "output_type": "execute_result"
    }
   ],
   "source": [
    "Test._Test__x"
   ]
  },
  {
   "cell_type": "code",
   "execution_count": 190,
   "metadata": {},
   "outputs": [
    {
     "ename": "TypeError",
     "evalue": "m1() takes 1 positional argument but 2 were given",
     "output_type": "error",
     "traceback": [
      "\u001b[1;31m---------------------------------------------------------------------------\u001b[0m",
      "\u001b[1;31mTypeError\u001b[0m                                 Traceback (most recent call last)",
      "\u001b[1;32m<ipython-input-190-5c3627e97140>\u001b[0m in \u001b[0;36m<module>\u001b[1;34m\u001b[0m\n\u001b[0;32m      8\u001b[0m \u001b[1;33m\u001b[0m\u001b[0m\n\u001b[0;32m      9\u001b[0m \u001b[0mc\u001b[0m\u001b[1;33m=\u001b[0m \u001b[0mC\u001b[0m\u001b[1;33m(\u001b[0m\u001b[1;33m)\u001b[0m\u001b[1;33m\u001b[0m\u001b[1;33m\u001b[0m\u001b[0m\n\u001b[1;32m---> 10\u001b[1;33m \u001b[0mc\u001b[0m\u001b[1;33m.\u001b[0m\u001b[0mm1\u001b[0m\u001b[1;33m(\u001b[0m\u001b[1;36m10\u001b[0m\u001b[1;33m)\u001b[0m\u001b[1;33m\u001b[0m\u001b[1;33m\u001b[0m\u001b[0m\n\u001b[0m",
      "\u001b[1;31mTypeError\u001b[0m: m1() takes 1 positional argument but 2 were given"
     ]
    }
   ],
   "source": [
    "class P:\n",
    "    def m1():\n",
    "        print(p.m1)\n",
    "        \n",
    "class C(P):\n",
    "    def m1(a):\n",
    "        print('Hi')\n",
    "        \n",
    "c= C()\n",
    "c.m1(10)"
   ]
  },
  {
   "cell_type": "code",
   "execution_count": null,
   "metadata": {},
   "outputs": [],
   "source": []
  },
  {
   "cell_type": "code",
   "execution_count": null,
   "metadata": {},
   "outputs": [],
   "source": []
  }
 ],
 "metadata": {
  "kernelspec": {
   "display_name": "Python 3",
   "language": "python",
   "name": "python3"
  },
  "language_info": {
   "codemirror_mode": {
    "name": "ipython",
    "version": 3
   },
   "file_extension": ".py",
   "mimetype": "text/x-python",
   "name": "python",
   "nbconvert_exporter": "python",
   "pygments_lexer": "ipython3",
   "version": "3.7.4"
  }
 },
 "nbformat": 4,
 "nbformat_minor": 2
}
