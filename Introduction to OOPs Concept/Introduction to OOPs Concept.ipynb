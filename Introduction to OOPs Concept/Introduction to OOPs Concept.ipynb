{
 "cells": [
  {
   "cell_type": "markdown",
   "metadata": {},
   "source": [
    "# OOPs Concept"
   ]
  },
  {
   "cell_type": "code",
   "execution_count": 1,
   "metadata": {},
   "outputs": [],
   "source": [
    "def ctof(c):\n",
    "    f = (c*9/5) + 32\n",
    "    return f"
   ]
  },
  {
   "cell_type": "code",
   "execution_count": 3,
   "metadata": {},
   "outputs": [
    {
     "data": {
      "text/plain": [
       "50.0"
      ]
     },
     "execution_count": 3,
     "metadata": {},
     "output_type": "execute_result"
    }
   ],
   "source": [
    "a = ctof(10)\n",
    "a"
   ]
  },
  {
   "cell_type": "code",
   "execution_count": 4,
   "metadata": {},
   "outputs": [
    {
     "name": "stdout",
     "output_type": "stream",
     "text": [
      "50.0\n",
      "212.0\n",
      "69.8\n",
      "109.4\n"
     ]
    }
   ],
   "source": [
    "class Ctof:\n",
    "    def __init__(self,c):\n",
    "        self.c = c\n",
    "    def ctof(self):\n",
    "        f = (self.c * 9/5) + 32\n",
    "        print(f)\n",
    "c1 = Ctof(10)\n",
    "c2 = Ctof(100)\n",
    "c3 = Ctof(21)\n",
    "c4 = Ctof(43)\n",
    "c1.ctof()\n",
    "c2.ctof()\n",
    "c3.ctof()\n",
    "c4.ctof()"
   ]
  },
  {
   "cell_type": "code",
   "execution_count": 5,
   "metadata": {},
   "outputs": [
    {
     "name": "stdout",
     "output_type": "stream",
     "text": [
      "This is a class which will calculate the salary of an employee\n"
     ]
    }
   ],
   "source": [
    "class Employee: \n",
    "    '''This is a class which will calculate the salary of an employee'''\n",
    "    \n",
    "print(Employee.__doc__)"
   ]
  },
  {
   "cell_type": "code",
   "execution_count": 6,
   "metadata": {},
   "outputs": [
    {
     "name": "stdout",
     "output_type": "stream",
     "text": [
      "Help on class Employee in module __main__:\n",
      "\n",
      "class Employee(builtins.object)\n",
      " |  This is a class which will calculate the salary of an employee\n",
      " |  \n",
      " |  Data descriptors defined here:\n",
      " |  \n",
      " |  __dict__\n",
      " |      dictionary for instance variables (if defined)\n",
      " |  \n",
      " |  __weakref__\n",
      " |      list of weak references to the object (if defined)\n",
      "\n"
     ]
    }
   ],
   "source": [
    "help(Employee)"
   ]
  },
  {
   "cell_type": "code",
   "execution_count": 7,
   "metadata": {},
   "outputs": [
    {
     "name": "stdout",
     "output_type": "stream",
     "text": [
      "Hello my name is: Rahul\n",
      "Hello my emp id is: 1234\n",
      "Hello my salary is: 123456\n"
     ]
    }
   ],
   "source": [
    "class Employee: \n",
    "    def __init__(self, name, employeeid, salary):\n",
    "        self.name = 'Rahul'\n",
    "        self.employeeid = 1234\n",
    "        self.salary = 123456\n",
    "#__init__ Constructor         \n",
    "    def talk(self):\n",
    "        print('Hello my name is:', self.name)\n",
    "        print('Hello my emp id is:', self.employeeid)\n",
    "        print('Hello my salary is:', self.salary)\n",
    "        \n",
    "emp = Employee('Swadesh', 2212, 324356)\n",
    "emp.talk()"
   ]
  },
  {
   "cell_type": "code",
   "execution_count": 8,
   "metadata": {},
   "outputs": [],
   "source": [
    "class Employee:\n",
    "    def __init__(self):\n",
    "        pass\n",
    "e=Employee()"
   ]
  },
  {
   "cell_type": "code",
   "execution_count": 9,
   "metadata": {},
   "outputs": [
    {
     "name": "stdout",
     "output_type": "stream",
     "text": [
      "Hello my name is: Swadesh\n",
      "Hello my emp id is: 2212\n",
      "Hello my salary is: 324356\n",
      "Hello my name is: Khushal\n",
      "Hello my emp id is: 2222\n",
      "Hello my salary is: 324343\n"
     ]
    }
   ],
   "source": [
    "class Employee: \n",
    "    def __init__(self, name, employeeid, salary):\n",
    "        self.name = name\n",
    "        self.employeeid = employeeid\n",
    "        self.salary = salary\n",
    "#__init__ Constructor         \n",
    "    def talk(self):\n",
    "        print('Hello my name is:', self.name)\n",
    "        print('Hello my emp id is:', self.employeeid)\n",
    "        print('Hello my salary is:', self.salary)\n",
    "        \n",
    "emp1 = Employee('Swadesh', 2212, 324356)\n",
    "emp1.talk()\n",
    "emp2 = Employee('Khushal', 2222, 324343)\n",
    "emp2.talk()"
   ]
  },
  {
   "cell_type": "code",
   "execution_count": 10,
   "metadata": {},
   "outputs": [
    {
     "name": "stdout",
     "output_type": "stream",
     "text": [
      "Hello my name is: Swadesh\n",
      "Hello my emp id is: 2212\n",
      "Hello my salary is: 324356\n",
      "Hello my name is: Khushal\n",
      "Hello my emp id is: 2222\n",
      "Hello my salary is: 324343\n"
     ]
    }
   ],
   "source": [
    "class Employee: \n",
    "    def __init__(self, n, e, s):\n",
    "        self.n = n\n",
    "        self.e = e\n",
    "        self.s = s\n",
    "#__init__ Constructor         \n",
    "    def talk(self):\n",
    "        print('Hello my name is:', self.n)\n",
    "        print('Hello my emp id is:', self.e)\n",
    "        print('Hello my salary is:', self.s)\n",
    "        \n",
    "emp1 = Employee('Swadesh', 2212, 324356)\n",
    "emp1.talk()\n",
    "emp2 = Employee('Khushal', 2222, 324343)\n",
    "emp2.talk()"
   ]
  },
  {
   "cell_type": "code",
   "execution_count": 13,
   "metadata": {},
   "outputs": [
    {
     "name": "stdout",
     "output_type": "stream",
     "text": [
      "Hello my name is: Swadesh\n",
      "Hello my emp id is: 2212\n",
      "Hello my salary is: 324356\n",
      "Hello my name is: Khushal\n",
      "Hello my emp id is: 2222\n",
      "Hello my salary is: 324343\n"
     ]
    }
   ],
   "source": [
    "#Only Tell in the class that I can have any name with self, i.e. self.name or self.n\n",
    "class Employee: \n",
    "    def __init__(self, n, e, s):\n",
    "        self.name = n\n",
    "        self.employeeid = e\n",
    "        self.salary = s\n",
    "#__init__ Constructor         \n",
    "    def talk(self):\n",
    "        print('Hello my name is:', self.name)\n",
    "        print('Hello my emp id is:', self.employeeid)\n",
    "        print('Hello my salary is:', self.salary)\n",
    "        \n",
    "emp1 = Employee('Swadesh', 2212, 324356)\n",
    "emp1.talk()\n",
    "emp2 = Employee('Khushal', 2222, 324343)\n",
    "emp2.talk()"
   ]
  },
  {
   "cell_type": "code",
   "execution_count": 12,
   "metadata": {},
   "outputs": [],
   "source": [
    "#__init__\n",
    "#Constructor \n",
    "    #1. Is a special Method in Python \n",
    "    #2. The name of the constructor should be __init__\n",
    "    #3. Constructor will be executed automatically whenever we are creating an object\n",
    "    #4. The main objective is to declare object related variables and perform initialzation \n",
    "    #5. Constructor will execute only once per object \n",
    "    #6. Constructor should take atleast one arguement that is self\n",
    "    #7. Constructor is optional and if we are not providing python internally provide \n",
    "        #default constructor"
   ]
  },
  {
   "cell_type": "code",
   "execution_count": 14,
   "metadata": {},
   "outputs": [
    {
     "name": "stdout",
     "output_type": "stream",
     "text": [
      "Constructor Executing\n",
      "2825081409480\n",
      "Constructor Executing\n",
      "2825081406152\n"
     ]
    }
   ],
   "source": [
    "class Test: \n",
    "    def __init__(self):\n",
    "        print('Constructor Executing')\n",
    "        print(id(self))\n",
    "        \n",
    "t1 = Test()\n",
    "t2 = Test()"
   ]
  },
  {
   "cell_type": "code",
   "execution_count": 15,
   "metadata": {},
   "outputs": [
    {
     "name": "stdout",
     "output_type": "stream",
     "text": [
      "One arg constructor executing\n"
     ]
    }
   ],
   "source": [
    "class Test:\n",
    "    def __init__(self):\n",
    "        print('Constructor Executing')\n",
    "    def __init__(self, x):\n",
    "        print('One arg constructor executing')\n",
    "\n",
    "#t1 = Test()\n",
    "t2 = Test(10)"
   ]
  },
  {
   "cell_type": "code",
   "execution_count": 16,
   "metadata": {},
   "outputs": [
    {
     "name": "stdout",
     "output_type": "stream",
     "text": [
      "0 arg constructor executing\n"
     ]
    }
   ],
   "source": [
    "class Test:\n",
    "    def __init__(self,x):\n",
    "        print('One arg Constructor Executing')\n",
    "    def __init__(self):\n",
    "        print('0 arg constructor executing')\n",
    "\n",
    "t1 = Test()\n",
    "#t2 = Test(10)"
   ]
  },
  {
   "cell_type": "code",
   "execution_count": 17,
   "metadata": {},
   "outputs": [],
   "source": [
    "#Self\n",
    "    #Self is a python provided implict default \n",
    "    variable which is always pointing to current object\n",
    "    #By using self we can acccess variables,  methods of corresponding object\n",
    "    #In constructor self should be the first arg\n",
    "    ###Self is the 1st arguement in the instance method as well"
   ]
  },
  {
   "cell_type": "code",
   "execution_count": 20,
   "metadata": {},
   "outputs": [
    {
     "name": "stdout",
     "output_type": "stream",
     "text": [
      "Movie name: PK\n",
      "Hero name: AK\n",
      "Heroine Name: AS\n",
      "Movie Rating: 10\n",
      "Movie name: PK\n",
      "Hero name: AK\n",
      "Heroine Name: AS\n",
      "Movie Rating: 10\n",
      "Movie name: XYz\n",
      "Hero name: rt\n",
      "Heroine Name: tt\n",
      "Movie Rating: 8\n",
      "Movie name: uyt\n",
      "Hero name: ee\n",
      "Heroine Name: uy\n",
      "Movie Rating: 0\n"
     ]
    }
   ],
   "source": [
    "class Movie: \n",
    "    def __init__(self, name, hero, heroine, rating):\n",
    "        self.name = name\n",
    "        self.hero = hero\n",
    "        self.heroine = heroine\n",
    "        self.rating = rating\n",
    "        #Instance variables\n",
    "    def info(self):\n",
    "        print('Movie name:', self.name)\n",
    "        print('Hero name:', self.hero)\n",
    "        print('Heroine Name:', self.heroine)\n",
    "        print('Movie Rating:', self.rating)\n",
    "movies = [Movie('PK', 'AK','AS',10), Movie('PK', 'AK','AS',10), \n",
    " Movie('XYz', 'rt','tt',8), Movie('uyt', 'ee','uy',0)]  \n",
    "for mov in movies:\n",
    "    mov.info()"
   ]
  },
  {
   "cell_type": "code",
   "execution_count": 21,
   "metadata": {},
   "outputs": [],
   "source": [
    "#Different types of variables\n",
    "\n",
    "###Instance variables (Object level)\n",
    "#Static variable (Class level)\n",
    "#Local variable (Method level)"
   ]
  },
  {
   "cell_type": "code",
   "execution_count": 22,
   "metadata": {},
   "outputs": [],
   "source": [
    "#Instance Variables \n",
    "    #If the value of the variable is varying from object to object - Instance variables\n",
    "    #A seperate copy of instance variable is created for every object\n",
    "    \n",
    "#Where can we declare instance variables : \n",
    "    #1. Inside constructor by using self variable\n",
    "    #2. Inside instance method by using self variable \n",
    "    #3. Outside of the class by using object reference variables "
   ]
  },
  {
   "cell_type": "code",
   "execution_count": 23,
   "metadata": {},
   "outputs": [
    {
     "name": "stdout",
     "output_type": "stream",
     "text": [
      "{'eno': 1000, 'ename': 'Rahul', 'sal': 10000}\n"
     ]
    }
   ],
   "source": [
    "#1. Inside constructor by using self variable\n",
    "class Employee:\n",
    "    '''Instance variables declared inside constructor'''\n",
    "    def __init__(self):\n",
    "        self.eno = 1000\n",
    "        self.ename = 'Rahul'\n",
    "        self.sal = 10000\n",
    "emp = Employee()\n",
    "print(emp.__dict__)"
   ]
  },
  {
   "cell_type": "code",
   "execution_count": 24,
   "metadata": {},
   "outputs": [
    {
     "name": "stdout",
     "output_type": "stream",
     "text": [
      "{'eno': 1, 'ename': 'Rakshit', 'sal': 10000}\n",
      "\n",
      "{'eno': 2, 'ename': 'Milind', 'sal': 20000}\n"
     ]
    }
   ],
   "source": [
    "#2. User passing the variables\n",
    "class Employee:\n",
    "    '''Instance variables declared inside constructor'''\n",
    "    def __init__(self, eno, ename, sal):\n",
    "        self.eno = eno\n",
    "        self.ename = ename\n",
    "        self.sal = sal\n",
    "emp1 = Employee(1,'Rakshit', 10000)\n",
    "emp2 = Employee(2, 'Milind', 20000)\n",
    "print(emp1.__dict__)\n",
    "print()\n",
    "print(emp2.__dict__)"
   ]
  },
  {
   "cell_type": "code",
   "execution_count": 34,
   "metadata": {},
   "outputs": [
    {
     "name": "stdout",
     "output_type": "stream",
     "text": [
      "{'b': 20}\n"
     ]
    }
   ],
   "source": [
    "#3. Inside instance method by using self variable \n",
    "class Employee:\n",
    "    def __init__(self):\n",
    "        pass\n",
    "    def m1(self):\n",
    "        '''Inside the method'''\n",
    "        self.b = 20\n",
    "emp1 = Employee()\n",
    "emp1.m1()\n",
    "print(emp1.__dict__)"
   ]
  },
  {
   "cell_type": "code",
   "execution_count": 35,
   "metadata": {},
   "outputs": [
    {
     "name": "stdout",
     "output_type": "stream",
     "text": [
      "{'b': 20}\n",
      "{'b': 20, 'c': 30}\n"
     ]
    }
   ],
   "source": [
    "#4. Outside of the class by using object reference variables \n",
    "class Employee:\n",
    "    def __init__(self):\n",
    "        pass\n",
    "    def m1(self):\n",
    "        '''Inside the method'''\n",
    "        self.b = 20\n",
    "emp1 = Employee()\n",
    "emp1.m1()\n",
    "print(emp1.__dict__)\n",
    "emp1.c=30\n",
    "print(emp1.__dict__)"
   ]
  },
  {
   "cell_type": "code",
   "execution_count": 28,
   "metadata": {},
   "outputs": [
    {
     "name": "stdout",
     "output_type": "stream",
     "text": [
      "20\n",
      "30\n",
      "20\n",
      "30\n"
     ]
    }
   ],
   "source": [
    "#How to access the Instance variables\n",
    "#Within the class by using self\n",
    "class Test:\n",
    "    def __init__(self):\n",
    "        self.a = 20\n",
    "        self.b = 30\n",
    "    def m1(self):\n",
    "        print(self.a)\n",
    "        print(self.b)\n",
    "t= Test()\n",
    "t.m1()\n",
    "#Outside the class by using object reference \n",
    "print(t.a)\n",
    "print(t.b)"
   ]
  },
  {
   "cell_type": "code",
   "execution_count": 29,
   "metadata": {},
   "outputs": [
    {
     "name": "stdout",
     "output_type": "stream",
     "text": [
      "{'a': 10, 'b': 20, 'c': 30, 'd': 40}\n",
      "{'a': 10, 'c': 30, 'd': 40}\n"
     ]
    }
   ],
   "source": [
    "#How to delete the instance variables\n",
    "#del self.variablename - within the class\n",
    "class Test:\n",
    "    def __init__(self):\n",
    "        self.a = 10\n",
    "        self.b = 20\n",
    "        self.c = 30\n",
    "        self.d = 40\n",
    "    def m1(self):\n",
    "        del self.b\n",
    "t = Test()\n",
    "print(t.__dict__)\n",
    "t.m1()\n",
    "print(t.__dict__)"
   ]
  },
  {
   "cell_type": "code",
   "execution_count": 30,
   "metadata": {},
   "outputs": [
    {
     "name": "stdout",
     "output_type": "stream",
     "text": [
      "{'c': 30, 'd': 40}\n"
     ]
    }
   ],
   "source": [
    "#Outside the class - del obj.val\n",
    "del t.a\n",
    "print(t.__dict__)"
   ]
  },
  {
   "cell_type": "code",
   "execution_count": 31,
   "metadata": {},
   "outputs": [
    {
     "name": "stdout",
     "output_type": "stream",
     "text": [
      "{'a': 10}\n",
      "{'a': 777, 'b': 888}\n",
      "{'a': 777, 'b': 1000}\n",
      "{'a': 777, 'b': 1000, 'c': 2000}\n"
     ]
    }
   ],
   "source": [
    "class Test:\n",
    "    def __init__(self):\n",
    "        self.a = 10\n",
    "    def m1(self):\n",
    "        self.a = 777\n",
    "        self.b = 888\n",
    "t = Test()\n",
    "print(t.__dict__)\n",
    "t.m1()\n",
    "print(t.__dict__)\n",
    "t.b = 1000\n",
    "print(t.__dict__)\n",
    "t.c = 2000\n",
    "print(t.__dict__)"
   ]
  },
  {
   "cell_type": "code",
   "execution_count": 32,
   "metadata": {},
   "outputs": [
    {
     "name": "stdout",
     "output_type": "stream",
     "text": [
      "{'b': 777, 'a': 888}\n"
     ]
    }
   ],
   "source": [
    "class Test:\n",
    "    a = 10\n",
    "    def __init__(self):\n",
    "        self.b = 20\n",
    "t1 = Test()\n",
    "#print(t1.__dict__)\n",
    "t1.b = 777\n",
    "#print(t1.__dict__)\n",
    "t1.a = 888\n",
    "print(t1.__dict__)\n",
    "#print(t1.a, t1.b)"
   ]
  },
  {
   "cell_type": "code",
   "execution_count": 33,
   "metadata": {},
   "outputs": [
    {
     "name": "stdout",
     "output_type": "stream",
     "text": [
      "10 20\n",
      "{'b': 20}\n"
     ]
    }
   ],
   "source": [
    "t2 = Test()\n",
    "print(t2.a, t2.b)\n",
    "print(t2.__dict__)"
   ]
  },
  {
   "cell_type": "code",
   "execution_count": 36,
   "metadata": {},
   "outputs": [],
   "source": [
    "#Static variables : \n",
    "\n",
    "    #We are not require to maintain seperate copy of a variable - Share the same copy \n",
    "    #One copy of static variable created at the class level\n",
    "    \n",
    "#How to declare the static variable \n",
    "    #1. Directly create inside the class , Self is not associated \n",
    "    #2. Inside the constructor by using class name \n",
    "    #3. Inside instance method using class name \n",
    "    #4. Inside class method by using cls variable or class name \n",
    "    #5. Inside static method by using class name \n",
    "    #6. From outside the class as well\n",
    "    \n",
    "    \n",
    "#Static variable  - Only one copy will be created at the class level\n",
    "#Instance Variable - For every object a seperate copy will be created\n",
    "    "
   ]
  },
  {
   "cell_type": "code",
   "execution_count": 37,
   "metadata": {},
   "outputs": [
    {
     "name": "stdout",
     "output_type": "stream",
     "text": [
      "{'__module__': '__main__', 'a': 10, '__init__': <function Test.__init__ at 0x00000291C3FB1828>, 'm1': <function Test.m1 at 0x00000291C3FB18B8>, 'm2': <classmethod object at 0x00000291C3FBBFC8>, 'm3': <staticmethod object at 0x00000291C3FBA548>, '__dict__': <attribute '__dict__' of 'Test' objects>, '__weakref__': <attribute '__weakref__' of 'Test' objects>, '__doc__': None, 'b': 20, 'g': 100, 'c': 30, 'd': 40, 'e': 50, 'f': 60}\n"
     ]
    }
   ],
   "source": [
    "class Test:\n",
    "    #Static variable \n",
    "    a = 10\n",
    "    def __init__(self):\n",
    "        Test.b = 20\n",
    "        \n",
    "    def m1(self):\n",
    "        Test.c = 30\n",
    "        \n",
    "    @classmethod\n",
    "    def m2(cls):\n",
    "        cls.d = 40\n",
    "        Test.e = 50\n",
    "    \n",
    "    @staticmethod\n",
    "    def m3():\n",
    "        Test.f = 60\n",
    "        \n",
    "    \n",
    "#print(Test.__dict__)    \n",
    "t=Test()\n",
    "Test.g = 100\n",
    "#print(Test.__dict__)\n",
    "t.m1()\n",
    "#print(Test.__dict__)\n",
    "t.m2()\n",
    "#print(Test.__dict__)\n",
    "t.m3()\n",
    "print(Test.__dict__)"
   ]
  },
  {
   "cell_type": "code",
   "execution_count": 38,
   "metadata": {},
   "outputs": [
    {
     "name": "stdout",
     "output_type": "stream",
     "text": [
      "888\n",
      "777\n"
     ]
    }
   ],
   "source": [
    "class Test:\n",
    "    a = 777\n",
    "    def __init__(self):\n",
    "        self.a = 888\n",
    "t = Test()\n",
    "print(t.a)\n",
    "print(Test.a)"
   ]
  },
  {
   "cell_type": "code",
   "execution_count": 39,
   "metadata": {},
   "outputs": [],
   "source": [
    "#How to access the static variable \n",
    "    #1. Inside the constructor - Either by self or by class name \n",
    "    #2. Inside the Instance method - Either by self or class name \n",
    "    #3. Inside the class method - Either by cls or by class name \n",
    "    #4. Inside the static method - By class name \n",
    "    #5. Outisde the class - Either by object ref or by class name "
   ]
  },
  {
   "cell_type": "code",
   "execution_count": 40,
   "metadata": {},
   "outputs": [
    {
     "data": {
      "text/plain": [
       "10"
      ]
     },
     "execution_count": 40,
     "metadata": {},
     "output_type": "execute_result"
    }
   ],
   "source": [
    "class Test:\n",
    "    a = 10 \n",
    "    def __init__(self):\n",
    "        #self.a=100\n",
    "        print(self.a)\n",
    "        print(Test.a)\n",
    "        \n",
    "    def m1(self):\n",
    "        print(self.a)\n",
    "        print(Test.a)\n",
    "        \n",
    "    @classmethod\n",
    "    def m2(cls):\n",
    "        print(cls.a)\n",
    "        print(Test.a)\n",
    "    \n",
    "    @staticmethod\n",
    "    def m3():\n",
    "        print(Test.a)\n",
    "        \n",
    "#t = Test()\n",
    "#t.m1()\n",
    "#t.m2()\n",
    "#t.m3()\n",
    "#t.a\n",
    "Test.a"
   ]
  },
  {
   "cell_type": "code",
   "execution_count": 41,
   "metadata": {},
   "outputs": [],
   "source": [
    "#Where we can modify the value of static variables \n",
    "    #By using the class name (Inside or outside the class)\n",
    "    #Inside the class method by using cls variable also "
   ]
  },
  {
   "cell_type": "code",
   "execution_count": 42,
   "metadata": {},
   "outputs": [
    {
     "name": "stdout",
     "output_type": "stream",
     "text": [
      "44322\n"
     ]
    }
   ],
   "source": [
    "class Test:\n",
    "    a = 10\n",
    "    def __init__(self):\n",
    "        Test.a = 888\n",
    "        \n",
    "    def m1(self):\n",
    "        Test.a =10000\n",
    "        \n",
    "    @classmethod\n",
    "    def m2(cls):\n",
    "        Test.a = 9090\n",
    "        cls.a = 2222\n",
    "    @staticmethod\n",
    "    def m3():\n",
    "        Test.a = 22122\n",
    "        \n",
    "t = Test()\n",
    "#print(Test.a)\n",
    "t.m1()\n",
    "#print(Test.a)\n",
    "t.m2()\n",
    "#print(Test.a)\n",
    "t.m3()\n",
    "#print(Test.a)\n",
    "Test.a = 44322\n",
    "print(Test.a)"
   ]
  },
  {
   "cell_type": "code",
   "execution_count": 43,
   "metadata": {},
   "outputs": [
    {
     "name": "stdout",
     "output_type": "stream",
     "text": [
      "999\n",
      "50.0\n"
     ]
    }
   ],
   "source": [
    "class Test:\n",
    "    a = 10\n",
    "    def __init__(self):\n",
    "        Test.a = 888\n",
    "        a = 999\n",
    "        self.a = 90\n",
    "        print(a)\n",
    "        \n",
    "    def m1(self):\n",
    "        print(a)\n",
    "        \n",
    "t = Test()\n",
    "t.m1()\n",
    "\n",
    "#print(t.a)\n",
    "#Test.a\n"
   ]
  },
  {
   "cell_type": "code",
   "execution_count": 44,
   "metadata": {},
   "outputs": [
    {
     "name": "stdout",
     "output_type": "stream",
     "text": [
      "90\n",
      "1000\n",
      "10\n"
     ]
    }
   ],
   "source": [
    "class Test:\n",
    "    a = 10\n",
    "    def __init__(self):\n",
    "        Test.a = 1000\n",
    "        a = 100\n",
    "        self.a = 90\n",
    "        print(self.a)\n",
    "        print(Test.a)\n",
    "        #print(b)\n",
    "        \n",
    "    def m1(self):\n",
    "        b = 10\n",
    "        print(b)\n",
    "        \n",
    "t = Test()\n",
    "t.m1()"
   ]
  },
  {
   "cell_type": "code",
   "execution_count": 45,
   "metadata": {},
   "outputs": [
    {
     "name": "stdout",
     "output_type": "stream",
     "text": [
      "888 20\n",
      "10 1000\n"
     ]
    }
   ],
   "source": [
    "class Test:\n",
    "    x = 10\n",
    "    def __init__(self):\n",
    "        self.y = 20\n",
    "t1 = Test()\n",
    "t2 = Test()\n",
    "\n",
    "#print(t1.x, t1.y)\n",
    "#print(t2.x, t2.y)\n",
    "t1.x = 888\n",
    "t2.y = 1000\n",
    "print(t1.x, t1.y)\n",
    "print(t2.x, t2.y)"
   ]
  },
  {
   "cell_type": "code",
   "execution_count": 46,
   "metadata": {},
   "outputs": [
    {
     "name": "stdout",
     "output_type": "stream",
     "text": [
      "888 999\n",
      "10 20\n"
     ]
    }
   ],
   "source": [
    "class Test:\n",
    "    a = 10\n",
    "    def __init__(self):\n",
    "        self.b = 20\n",
    "        \n",
    "    def m1(self):\n",
    "        self.a = 888\n",
    "        self.b =  999\n",
    "        \n",
    "t1 = Test()\n",
    "t2 = Test()\n",
    "t1.m1()\n",
    "print(t1.a, t1.b)\n",
    "print(t2.a, t2.b)"
   ]
  },
  {
   "cell_type": "code",
   "execution_count": 47,
   "metadata": {},
   "outputs": [
    {
     "name": "stdout",
     "output_type": "stream",
     "text": [
      "888 999\n"
     ]
    }
   ],
   "source": [
    "class Test:\n",
    "    a = 10\n",
    "    def __init__(self):\n",
    "        self.b = 20\n",
    "    \n",
    "    @classmethod\n",
    "    def m1(cls):\n",
    "        cls.a = 888\n",
    "        cls.b = 999\n",
    "    \n",
    "t1 = Test()\n",
    "t2 = Test()\n",
    "t1.m1()\n",
    "#print(t1.a, t1.b)\n",
    "#print(t2.a, t2.b)\n",
    "print(Test.a, Test.b)"
   ]
  },
  {
   "cell_type": "code",
   "execution_count": 48,
   "metadata": {},
   "outputs": [
    {
     "name": "stdout",
     "output_type": "stream",
     "text": [
      "{'__module__': '__main__', '__init__': <function Test.__init__ at 0x00000291C3FB1798>, 'm1': <function Test.m1 at 0x00000291C3FB1B88>, 'm2': <classmethod object at 0x00000291C3F97448>, 'm3': <staticmethod object at 0x00000291C3F97CC8>, '__dict__': <attribute '__dict__' of 'Test' objects>, '__weakref__': <attribute '__weakref__' of 'Test' objects>, '__doc__': None, 'e': 5}\n"
     ]
    }
   ],
   "source": [
    "class Test:\n",
    "    a = 10\n",
    "    def __init__(self):\n",
    "        Test.b = 20\n",
    "        del Test.a \n",
    "        \n",
    "    def m1(self):\n",
    "        Test.c = 30\n",
    "        del Test.b\n",
    "        \n",
    "    @classmethod\n",
    "    def m2(cls):\n",
    "        cls.d = 40\n",
    "        del Test.c\n",
    "    \n",
    "    @staticmethod\n",
    "    def m3():\n",
    "        Test.e = 5\n",
    "        del Test.d\n",
    "        \n",
    "#print(Test.__dict__)\n",
    "t = Test()\n",
    "#print(Test.__dict__)\n",
    "t.m1()\n",
    "#print(Test.__dict__)\n",
    "t.m2()\n",
    "#print(Test.__dict__)\n",
    "t.m3()\n",
    "print(Test.__dict__)"
   ]
  },
  {
   "cell_type": "code",
   "execution_count": 49,
   "metadata": {},
   "outputs": [
    {
     "name": "stdout",
     "output_type": "stream",
     "text": [
      "999\n"
     ]
    }
   ],
   "source": [
    "class Test:\n",
    "    a = 10\n",
    "    \n",
    "t = Test()\n",
    "#print(t.a)\n",
    "t.a = 303\n",
    "#print(t.a)\n",
    "Test.a = 999\n",
    "print(Test.a)\n",
    "#del t.a\n",
    "#print(Test.a)"
   ]
  },
  {
   "cell_type": "code",
   "execution_count": 50,
   "metadata": {},
   "outputs": [
    {
     "ename": "AttributeError",
     "evalue": "type object 'Test' has no attribute 'a'",
     "output_type": "error",
     "traceback": [
      "\u001b[1;31m---------------------------------------------------------------------------\u001b[0m",
      "\u001b[1;31mAttributeError\u001b[0m                            Traceback (most recent call last)",
      "\u001b[1;32m<ipython-input-50-bfe3452fea3d>\u001b[0m in \u001b[0;36m<module>\u001b[1;34m\u001b[0m\n\u001b[0;32m      7\u001b[0m \u001b[1;32mdel\u001b[0m \u001b[0mTest\u001b[0m\u001b[1;33m.\u001b[0m\u001b[0ma\u001b[0m\u001b[1;33m\u001b[0m\u001b[1;33m\u001b[0m\u001b[0m\n\u001b[0;32m      8\u001b[0m \u001b[1;31m#print(t.a)\u001b[0m\u001b[1;33m\u001b[0m\u001b[1;33m\u001b[0m\u001b[1;33m\u001b[0m\u001b[0m\n\u001b[1;32m----> 9\u001b[1;33m \u001b[0mprint\u001b[0m\u001b[1;33m(\u001b[0m\u001b[0mTest\u001b[0m\u001b[1;33m.\u001b[0m\u001b[0ma\u001b[0m\u001b[1;33m)\u001b[0m\u001b[1;33m\u001b[0m\u001b[1;33m\u001b[0m\u001b[0m\n\u001b[0m\u001b[0;32m     10\u001b[0m \u001b[1;33m\u001b[0m\u001b[0m\n",
      "\u001b[1;31mAttributeError\u001b[0m: type object 'Test' has no attribute 'a'"
     ]
    }
   ],
   "source": [
    "class Test:\n",
    "    a = 10\n",
    "    \n",
    "t = Test()\n",
    "#print(t.a)\n",
    "Test.a = 999\n",
    "del Test.a\n",
    "#print(t.a)\n",
    "print(Test.a)\n",
    "    \n"
   ]
  },
  {
   "cell_type": "code",
   "execution_count": 51,
   "metadata": {},
   "outputs": [
    {
     "ename": "NameError",
     "evalue": "name 'b' is not defined",
     "output_type": "error",
     "traceback": [
      "\u001b[1;31m---------------------------------------------------------------------------\u001b[0m",
      "\u001b[1;31mNameError\u001b[0m                                 Traceback (most recent call last)",
      "\u001b[1;32m<ipython-input-51-4f5018234f6b>\u001b[0m in \u001b[0;36m<module>\u001b[1;34m\u001b[0m\n\u001b[0;32m      9\u001b[0m \u001b[1;33m\u001b[0m\u001b[0m\n\u001b[0;32m     10\u001b[0m \u001b[0mt\u001b[0m \u001b[1;33m=\u001b[0m \u001b[0mTest\u001b[0m\u001b[1;33m(\u001b[0m\u001b[1;33m)\u001b[0m\u001b[1;33m\u001b[0m\u001b[1;33m\u001b[0m\u001b[0m\n\u001b[1;32m---> 11\u001b[1;33m \u001b[0mt\u001b[0m\u001b[1;33m.\u001b[0m\u001b[0mm1\u001b[0m\u001b[1;33m(\u001b[0m\u001b[1;33m)\u001b[0m\u001b[1;33m\u001b[0m\u001b[1;33m\u001b[0m\u001b[0m\n\u001b[0m\u001b[0;32m     12\u001b[0m \u001b[0mt\u001b[0m\u001b[1;33m.\u001b[0m\u001b[0mm2\u001b[0m\u001b[1;33m(\u001b[0m\u001b[1;33m)\u001b[0m\u001b[1;33m\u001b[0m\u001b[1;33m\u001b[0m\u001b[0m\n",
      "\u001b[1;32m<ipython-input-51-4f5018234f6b>\u001b[0m in \u001b[0;36mm1\u001b[1;34m(self)\u001b[0m\n\u001b[0;32m      3\u001b[0m     \u001b[1;32mdef\u001b[0m \u001b[0mm1\u001b[0m\u001b[1;33m(\u001b[0m\u001b[0mself\u001b[0m\u001b[1;33m)\u001b[0m\u001b[1;33m:\u001b[0m\u001b[1;33m\u001b[0m\u001b[1;33m\u001b[0m\u001b[0m\n\u001b[0;32m      4\u001b[0m         \u001b[0ma\u001b[0m \u001b[1;33m=\u001b[0m \u001b[1;36m1000\u001b[0m\u001b[1;33m\u001b[0m\u001b[1;33m\u001b[0m\u001b[0m\n\u001b[1;32m----> 5\u001b[1;33m         \u001b[0mprint\u001b[0m\u001b[1;33m(\u001b[0m\u001b[0mb\u001b[0m\u001b[1;33m)\u001b[0m\u001b[1;33m\u001b[0m\u001b[1;33m\u001b[0m\u001b[0m\n\u001b[0m\u001b[0;32m      6\u001b[0m     \u001b[1;32mdef\u001b[0m \u001b[0mm2\u001b[0m\u001b[1;33m(\u001b[0m\u001b[0mself\u001b[0m\u001b[1;33m)\u001b[0m\u001b[1;33m:\u001b[0m\u001b[1;33m\u001b[0m\u001b[1;33m\u001b[0m\u001b[0m\n\u001b[0;32m      7\u001b[0m         \u001b[0mb\u001b[0m \u001b[1;33m=\u001b[0m \u001b[1;36m2000\u001b[0m\u001b[1;33m\u001b[0m\u001b[1;33m\u001b[0m\u001b[0m\n",
      "\u001b[1;31mNameError\u001b[0m: name 'b' is not defined"
     ]
    }
   ],
   "source": [
    "#Local variables \n",
    "class Test:\n",
    "    def m1(self):\n",
    "        a = 1000\n",
    "        print(b)\n",
    "    def m2(self):\n",
    "        b = 2000\n",
    "        print(a)\n",
    "        \n",
    "t = Test()\n",
    "t.m1()\n",
    "t.m2()"
   ]
  },
  {
   "cell_type": "code",
   "execution_count": 52,
   "metadata": {},
   "outputs": [
    {
     "name": "stdout",
     "output_type": "stream",
     "text": [
      "200\n",
      "100\n"
     ]
    },
    {
     "ename": "UnboundLocalError",
     "evalue": "local variable 'z' referenced before assignment",
     "output_type": "error",
     "traceback": [
      "\u001b[1;31m---------------------------------------------------------------------------\u001b[0m",
      "\u001b[1;31mUnboundLocalError\u001b[0m                         Traceback (most recent call last)",
      "\u001b[1;32m<ipython-input-52-68d37153d3cf>\u001b[0m in \u001b[0;36m<module>\u001b[1;34m\u001b[0m\n\u001b[0;32m      9\u001b[0m         \u001b[0mprint\u001b[0m\u001b[1;33m(\u001b[0m\u001b[0mz\u001b[0m\u001b[1;33m)\u001b[0m\u001b[1;33m\u001b[0m\u001b[1;33m\u001b[0m\u001b[0m\n\u001b[0;32m     10\u001b[0m \u001b[1;33m\u001b[0m\u001b[0m\n\u001b[1;32m---> 11\u001b[1;33m \u001b[0mt\u001b[0m \u001b[1;33m=\u001b[0m \u001b[0mTest\u001b[0m\u001b[1;33m(\u001b[0m\u001b[1;33m)\u001b[0m\u001b[1;33m\u001b[0m\u001b[1;33m\u001b[0m\u001b[0m\n\u001b[0m",
      "\u001b[1;32m<ipython-input-52-68d37153d3cf>\u001b[0m in \u001b[0;36m__init__\u001b[1;34m(self)\u001b[0m\n\u001b[0;32m      7\u001b[0m         \u001b[0mprint\u001b[0m\u001b[1;33m(\u001b[0m\u001b[0mz\u001b[0m\u001b[1;33m)\u001b[0m\u001b[1;33m\u001b[0m\u001b[1;33m\u001b[0m\u001b[0m\n\u001b[0;32m      8\u001b[0m         \u001b[1;32mdel\u001b[0m \u001b[0mz\u001b[0m\u001b[1;33m\u001b[0m\u001b[1;33m\u001b[0m\u001b[0m\n\u001b[1;32m----> 9\u001b[1;33m         \u001b[0mprint\u001b[0m\u001b[1;33m(\u001b[0m\u001b[0mz\u001b[0m\u001b[1;33m)\u001b[0m\u001b[1;33m\u001b[0m\u001b[1;33m\u001b[0m\u001b[0m\n\u001b[0m\u001b[0;32m     10\u001b[0m \u001b[1;33m\u001b[0m\u001b[0m\n\u001b[0;32m     11\u001b[0m \u001b[0mt\u001b[0m \u001b[1;33m=\u001b[0m \u001b[0mTest\u001b[0m\u001b[1;33m(\u001b[0m\u001b[1;33m)\u001b[0m\u001b[1;33m\u001b[0m\u001b[1;33m\u001b[0m\u001b[0m\n",
      "\u001b[1;31mUnboundLocalError\u001b[0m: local variable 'z' referenced before assignment"
     ]
    }
   ],
   "source": [
    "class Test:\n",
    "    a = 10\n",
    "    def __init__(self):\n",
    "        self.a = 200\n",
    "        z=100\n",
    "        print(self.a)\n",
    "        print(z)\n",
    "        del z\n",
    "        print(z)\n",
    "        \n",
    "t = Test()\n"
   ]
  },
  {
   "cell_type": "code",
   "execution_count": 53,
   "metadata": {},
   "outputs": [],
   "source": [
    "#Types of methods \n",
    "    #Instance Methods (Object related method)\n",
    "    #Static Methods \n",
    "    #Class Methods "
   ]
  },
  {
   "cell_type": "code",
   "execution_count": 54,
   "metadata": {},
   "outputs": [
    {
     "name": "stdout",
     "output_type": "stream",
     "text": [
      "Hi Astha\n",
      "Your marks are: 95\n",
      "You got 1st grade\n"
     ]
    }
   ],
   "source": [
    "#Instance Method - Related to object \n",
    "    #Any method consists of instance variables - Instance method \n",
    "    #Inside the instance method , First keyword i.e. self is compulsory\n",
    "    \n",
    "class Student: \n",
    "    def __init__(self, name, marks):\n",
    "        self.name = name \n",
    "        self.marks = marks\n",
    "        self.display()\n",
    "        \n",
    "        \n",
    "    def display(self):\n",
    "        print('Hi', self.name)\n",
    "        print('Your marks are:', self.marks)\n",
    "        self.grade()\n",
    "        #If we want to call an instance method inside the instance method we will go for self keyword\n",
    "    \n",
    "    def grade(self):\n",
    "        if self.marks >=60:\n",
    "            print('You got 1st grade')\n",
    "        elif self.marks >=50:\n",
    "            print('You got 2nd grade')\n",
    "        elif self.marks >=35: \n",
    "            print('You got 3rd grade')\n",
    "        else: \n",
    "            print('You did not pass')\n",
    "            \n",
    "s1 = Student('Astha', 95)   \n",
    "#s1.display()\n",
    "#s1.grade()"
   ]
  },
  {
   "cell_type": "code",
   "execution_count": 55,
   "metadata": {},
   "outputs": [
    {
     "name": "stdout",
     "output_type": "stream",
     "text": [
      "Enter the number of students:r\n"
     ]
    },
    {
     "ename": "ValueError",
     "evalue": "invalid literal for int() with base 10: 'r'",
     "output_type": "error",
     "traceback": [
      "\u001b[1;31m---------------------------------------------------------------------------\u001b[0m",
      "\u001b[1;31mValueError\u001b[0m                                Traceback (most recent call last)",
      "\u001b[1;32m<ipython-input-55-35cddb8616f5>\u001b[0m in \u001b[0;36m<module>\u001b[1;34m\u001b[0m\n\u001b[0;32m     16\u001b[0m         \u001b[1;32mreturn\u001b[0m \u001b[0mself\u001b[0m\u001b[1;33m.\u001b[0m\u001b[0mmarks\u001b[0m\u001b[1;33m\u001b[0m\u001b[1;33m\u001b[0m\u001b[0m\n\u001b[0;32m     17\u001b[0m \u001b[0ml\u001b[0m \u001b[1;33m=\u001b[0m \u001b[1;33m[\u001b[0m\u001b[1;33m]\u001b[0m\u001b[1;33m\u001b[0m\u001b[1;33m\u001b[0m\u001b[0m\n\u001b[1;32m---> 18\u001b[1;33m \u001b[0mn\u001b[0m \u001b[1;33m=\u001b[0m \u001b[0mint\u001b[0m\u001b[1;33m(\u001b[0m\u001b[0minput\u001b[0m\u001b[1;33m(\u001b[0m\u001b[1;34m'Enter the number of students:'\u001b[0m\u001b[1;33m)\u001b[0m\u001b[1;33m)\u001b[0m\u001b[1;33m\u001b[0m\u001b[1;33m\u001b[0m\u001b[0m\n\u001b[0m\u001b[0;32m     19\u001b[0m \u001b[1;32mfor\u001b[0m \u001b[0mi\u001b[0m \u001b[1;32min\u001b[0m \u001b[0mrange\u001b[0m\u001b[1;33m(\u001b[0m\u001b[0mn\u001b[0m\u001b[1;33m)\u001b[0m\u001b[1;33m:\u001b[0m\u001b[1;33m\u001b[0m\u001b[1;33m\u001b[0m\u001b[0m\n\u001b[0;32m     20\u001b[0m     \u001b[0ms\u001b[0m \u001b[1;33m=\u001b[0m \u001b[0mStudent\u001b[0m\u001b[1;33m(\u001b[0m\u001b[1;33m)\u001b[0m\u001b[1;33m\u001b[0m\u001b[1;33m\u001b[0m\u001b[0m\n",
      "\u001b[1;31mValueError\u001b[0m: invalid literal for int() with base 10: 'r'"
     ]
    }
   ],
   "source": [
    "#Setter and Getter methods\n",
    "#Setter - To set the values to the instance variables (Mutator Method)\n",
    "#Getter - To get the values of an instance variables (Accessor Method)\n",
    "\n",
    "class Student:\n",
    "    def setName(self, name):\n",
    "        self.name = name \n",
    "        \n",
    "    def getName(self):\n",
    "        return self.name\n",
    "    \n",
    "    def setMarks(self, marks):\n",
    "        self.marks = marks\n",
    "        \n",
    "    def getMarks(self):\n",
    "        return self.marks\n",
    "l = []\n",
    "n = int(input('Enter the number of students:'))\n",
    "for i in range(n):\n",
    "    s = Student()\n",
    "    name = input('Enter the name of the student')\n",
    "    marks = int(input('Enter the marks of the student'))\n",
    "    s.setName(name)\n",
    "    s.setMarks(marks)\n",
    "    l.append(s)\n",
    "for s in l:\n",
    "    print('Student Name', s.getName())\n",
    "    print('Student Marks', s.getMarks())\n",
    "    print()\n",
    "    \n",
    "    \n",
    "    "
   ]
  },
  {
   "cell_type": "code",
   "execution_count": 56,
   "metadata": {},
   "outputs": [
    {
     "name": "stdout",
     "output_type": "stream",
     "text": [
      "TCS has total 10 employees\n"
     ]
    }
   ],
   "source": [
    "#Class Methods \n",
    "    #Inside the method implementation if we are using only static variables (WITHOUT INSTANCE VARIABLES)\n",
    "    \n",
    "#Atleast one instance  variables - > Instance method\n",
    "#Instance variables + Static variables - Both are present (Instance Method )\n",
    "\n",
    "#@classmethod #Decorator \n",
    "#cls\n",
    "#We can call class methods by using class name or object ref\n",
    "\n",
    "class Employee: \n",
    "    total_emp = 10\n",
    "    \n",
    "    @classmethod\n",
    "    def totemp(cls, compname):\n",
    "        print('{} has total {} employees'.format(compname, cls.total_emp))\n",
    "        \n",
    "Employee.totemp('TCS')"
   ]
  },
  {
   "cell_type": "code",
   "execution_count": 57,
   "metadata": {},
   "outputs": [
    {
     "name": "stdout",
     "output_type": "stream",
     "text": [
      "The no of objects created 3\n"
     ]
    }
   ],
   "source": [
    "class Test:\n",
    "    count = 0\n",
    "    def __init__(self):\n",
    "        Test.count = Test.count + 1\n",
    "        \n",
    "    @classmethod\n",
    "    def noofobj(cls):\n",
    "        print('The no of objects created', Test.count)\n",
    "        \n",
    "t1 = Test()\n",
    "t2 = Test()\n",
    "t3 = Test()\n",
    "Test.noofobj()"
   ]
  },
  {
   "cell_type": "code",
   "execution_count": 58,
   "metadata": {},
   "outputs": [
    {
     "name": "stdout",
     "output_type": "stream",
     "text": [
      "30\n"
     ]
    }
   ],
   "source": [
    "class Test:\n",
    "    count = 0\n",
    "    def __init__(self):\n",
    "        Test.count = Test.count + 1\n",
    "        \n",
    "    @staticmethod\n",
    "    def noofobj(x,y):\n",
    "        print(x+y)\n",
    "t = Test()    \n",
    "t.noofobj(10,20)"
   ]
  },
  {
   "cell_type": "code",
   "execution_count": 59,
   "metadata": {},
   "outputs": [
    {
     "name": "stdout",
     "output_type": "stream",
     "text": [
      "The sum is  30\n"
     ]
    }
   ],
   "source": [
    "#Static method \n",
    "    #Inside method if we are ot using instance and static variables \n",
    "    #General utility method \n",
    "    \n",
    "#@staticmethod\n",
    "class RahulMaths:\n",
    "    \n",
    "    def add(x,y):\n",
    "        print('The sum is ', x+y)\n",
    "    \n",
    "    \n",
    "    def product(x,y):\n",
    "        print('The product is', x*y)\n",
    "        \n",
    "    \n",
    "    def average(x,y):\n",
    "        print('The average is', (x+y)/2)\n",
    "#RahulMaths.add(10,20)  \n",
    "#RahulMaths.product(10,20)\n",
    "#RahulMaths.average(10,20)\n",
    "RahulMaths.add(10,20)\n",
    " "
   ]
  },
  {
   "cell_type": "code",
   "execution_count": 60,
   "metadata": {},
   "outputs": [
    {
     "ename": "SyntaxError",
     "evalue": "invalid syntax (<ipython-input-60-fe5601a82fca>, line 4)",
     "output_type": "error",
     "traceback": [
      "\u001b[1;36m  File \u001b[1;32m\"<ipython-input-60-fe5601a82fca>\"\u001b[1;36m, line \u001b[1;32m4\u001b[0m\n\u001b[1;33m    cls - self - instance method\u001b[0m\n\u001b[1;37m                               ^\u001b[0m\n\u001b[1;31mSyntaxError\u001b[0m\u001b[1;31m:\u001b[0m invalid syntax\n"
     ]
    }
   ],
   "source": [
    "#Instance method - No decorator is required\n",
    "#Class Method - @classmethod  - Mandatory \n",
    "#Static method - @staticmethod - (Optional)\n",
    "cls - self - instance method "
   ]
  },
  {
   "cell_type": "code",
   "execution_count": 61,
   "metadata": {},
   "outputs": [],
   "source": [
    "#Instance variables - (Instance method)\n",
    "#Static Variables - (Class Method )\n",
    "#Instance + Static - (Instance Method )\n",
    "#Instance + Local - (Instance Method )\n",
    "#Static + Local - (Class Method )\n",
    "#Local - (Static Method )"
   ]
  },
  {
   "cell_type": "code",
   "execution_count": 62,
   "metadata": {},
   "outputs": [
    {
     "name": "stdout",
     "output_type": "stream",
     "text": [
      "Some Method: instance | Static | Class\n",
      "2825082163592\n",
      "Some Method: instance | Static | Class\n",
      "2825082110536\n",
      "2825082110536\n",
      "2825082163592\n",
      "Some Method: instance | Static | Class\n",
      "140726234358448\n"
     ]
    }
   ],
   "source": [
    "class Test:\n",
    "    def m1(cls):\n",
    "        print('Some Method: instance | Static | Class')\n",
    "        print(id(cls))\n",
    "t1 = Test()     \n",
    "t1.m1()\n",
    "t2 = Test()\n",
    "t2.m1()\n",
    "print(id(t2))\n",
    "print(id(t1))\n",
    "Test.m1(10)"
   ]
  },
  {
   "cell_type": "code",
   "execution_count": 63,
   "metadata": {},
   "outputs": [],
   "source": [
    "#Passing the members of one class to another"
   ]
  },
  {
   "cell_type": "code",
   "execution_count": 64,
   "metadata": {},
   "outputs": [
    {
     "name": "stdout",
     "output_type": "stream",
     "text": [
      "Employee Number: 100\n",
      "Employee Name: Rahul\n",
      "Employee Salary: 15000\n",
      "Employee Number: 100\n",
      "Employee Name: Rahul\n",
      "Employee Salary: 25000\n"
     ]
    }
   ],
   "source": [
    "class Employee:\n",
    "    def __init__(self, eno, ename, esal):\n",
    "        self.eno = eno\n",
    "        self.ename = ename \n",
    "        self.esal = esal\n",
    "        \n",
    "    def display(self):\n",
    "        print('Employee Number:', self.eno)\n",
    "        print('Employee Name:', self.ename)\n",
    "        print('Employee Salary:', self.esal)\n",
    "        \n",
    "class Test:\n",
    "    \n",
    "    def modify(emp):\n",
    "        emp.esal = emp.esal + 10000\n",
    "        emp.display()\n",
    "    \n",
    "e = Employee(100, 'Rahul', 15000)\n",
    "e.display()\n",
    "\n",
    "Test.modify(e)"
   ]
  },
  {
   "cell_type": "code",
   "execution_count": 65,
   "metadata": {},
   "outputs": [
    {
     "name": "stdout",
     "output_type": "stream",
     "text": [
      "Hello\n",
      "Hello\n"
     ]
    }
   ],
   "source": [
    "class Test:\n",
    "    def modify(emp):\n",
    "        print('Hello')\n",
    "e1 = Test()\n",
    "e1.modify() #Instance\n",
    "Test.modify(10) #Static"
   ]
  },
  {
   "cell_type": "code",
   "execution_count": 66,
   "metadata": {},
   "outputs": [],
   "source": [
    "#Inner classes \n",
    "    #Classes inside another classes\n",
    "    #Without existing outer class inner class is of no use"
   ]
  },
  {
   "cell_type": "code",
   "execution_count": 67,
   "metadata": {},
   "outputs": [
    {
     "name": "stdout",
     "output_type": "stream",
     "text": [
      "Outer class object creation...\n",
      "Inner class object creation...\n",
      "Inner class method\n"
     ]
    }
   ],
   "source": [
    "class Outer:\n",
    "    def __init__(self):\n",
    "        print('Outer class object creation...')\n",
    "    \n",
    "    class Inner:\n",
    "        def __init__(self):\n",
    "            print('Inner class object creation...')\n",
    "            \n",
    "        def m1(self):\n",
    "            print('Inner class method')\n",
    "    \n",
    "o = Outer()\n",
    "i=o.Inner()\n",
    "i.m1()"
   ]
  },
  {
   "cell_type": "code",
   "execution_count": 68,
   "metadata": {},
   "outputs": [
    {
     "name": "stdout",
     "output_type": "stream",
     "text": [
      "Outer class object creation...\n",
      "Inner class object creation...\n",
      "Inner class method\n"
     ]
    }
   ],
   "source": [
    "i = Outer().Inner().m1()"
   ]
  },
  {
   "cell_type": "code",
   "execution_count": 69,
   "metadata": {},
   "outputs": [
    {
     "name": "stdout",
     "output_type": "stream",
     "text": [
      "Outer class object creation...\n",
      "Inner class object creation...\n",
      "Inner Inner class object creation...\n",
      "Inner Inner class method\n"
     ]
    }
   ],
   "source": [
    "class Outer:\n",
    "    def __init__(self):\n",
    "        print('Outer class object creation...')\n",
    "    \n",
    "    class Inner:\n",
    "        def __init__(self):\n",
    "            print('Inner class object creation...')\n",
    "            \n",
    "        class InnerInner:\n",
    "            def __init__(self):\n",
    "                print('Inner Inner class object creation...')\n",
    "                \n",
    "            def m1(self):\n",
    "                print('Inner Inner class method')\n",
    "i = Outer().Inner().InnerInner().m1()"
   ]
  },
  {
   "cell_type": "code",
   "execution_count": 70,
   "metadata": {},
   "outputs": [
    {
     "name": "stdout",
     "output_type": "stream",
     "text": [
      "Hello Rahul\n",
      "Talking...\n",
      "Thinking...\n"
     ]
    }
   ],
   "source": [
    "class Human:\n",
    "    def __init__(self):\n",
    "        self.name = 'Rahul'\n",
    "        self.head = self.Head()\n",
    "        self.brain = self.head.Brain()\n",
    "        \n",
    "        \n",
    "        \n",
    "    def display(self):\n",
    "        print('Hello', self.name)\n",
    "        self.head.talk()\n",
    "        self.brain.think()\n",
    "        \n",
    "    class Head:\n",
    "        def talk(self):\n",
    "            print('Talking...')\n",
    "            \n",
    "        class Brain:\n",
    "            def think(self):\n",
    "                print('Thinking...')\n",
    "        \n",
    "h = Human()\n",
    "h.display()\n"
   ]
  },
  {
   "cell_type": "code",
   "execution_count": 71,
   "metadata": {},
   "outputs": [
    {
     "name": "stdout",
     "output_type": "stream",
     "text": [
      "Hello Rahul\n",
      "Talking...\n",
      "Thinking...\n"
     ]
    }
   ],
   "source": [
    "class Human:\n",
    "    def __init__(self):\n",
    "        self.name = 'Rahul'\n",
    "        self.head = self.Head()\n",
    "        self.brain = self.head.Brain()\n",
    "        \n",
    "        \n",
    "    def display(self):\n",
    "        print('Hello', self.name)\n",
    "        self.head.talk()\n",
    "        self.brain.think()\n",
    "\n",
    "        \n",
    "    class Head:\n",
    "        def talk(self):\n",
    "            print('Talking...')\n",
    "            \n",
    "        class Brain:\n",
    "            def think(self):\n",
    "                print('Thinking...')\n",
    "        \n",
    "\n",
    "h = Human()\n",
    "h.display()"
   ]
  },
  {
   "cell_type": "code",
   "execution_count": 72,
   "metadata": {},
   "outputs": [
    {
     "name": "stdout",
     "output_type": "stream",
     "text": [
      "Customer Name: R\n",
      "DOB=10/11/2010\n"
     ]
    }
   ],
   "source": [
    "class Customer: \n",
    "    def __init__(self, name, dd,mm,yyyy):\n",
    "        self.name = name\n",
    "        self.dob = self.DOB(dd,mm,yyyy)\n",
    "        \n",
    "    def display(self):\n",
    "        print('Customer Name:', self.name)\n",
    "        self.dob.display()\n",
    "        \n",
    "        \n",
    "    class DOB:\n",
    "        def __init__(self, dd,mm,yyyy):\n",
    "            self.dd = dd\n",
    "            self.mm = mm\n",
    "            self.yyyy = yyyy\n",
    "            \n",
    "        def display(self):\n",
    "            print('DOB={}/{}/{}'.format(self.dd, self.mm, self.yyyy))\n",
    "        \n",
    "c = Customer('R', 10,11, 2010)\n",
    "c.display()"
   ]
  },
  {
   "cell_type": "code",
   "execution_count": 73,
   "metadata": {},
   "outputs": [
    {
     "name": "stdout",
     "output_type": "stream",
     "text": [
      "The sum is: 30\n",
      "The diff is: -10\n",
      "The mul is: 200\n",
      "The div is: 0.5\n",
      "\n",
      "The sum is: 300\n",
      "The diff is: -100\n",
      "The mul is: 20000\n",
      "The div is: 0.5\n",
      "\n",
      "The sum is: 3000\n",
      "The diff is: -1000\n",
      "The mul is: 2000000\n",
      "The div is: 0.5\n",
      "\n"
     ]
    }
   ],
   "source": [
    "class Test:\n",
    "    def m1(self):\n",
    "        a,b = 10,20\n",
    "        print('The sum is:', a + b)\n",
    "        print('The diff is:', a - b)\n",
    "        print('The mul is:', a * b)\n",
    "        print('The div is:', a / b)\n",
    "        print()\n",
    "        \n",
    "        a,b = 100,200\n",
    "        print('The sum is:', a + b)\n",
    "        print('The diff is:', a - b)\n",
    "        print('The mul is:', a * b)\n",
    "        print('The div is:', a / b)\n",
    "        print()\n",
    "        \n",
    "        a,b = 1000,2000\n",
    "        print('The sum is:', a + b)\n",
    "        print('The diff is:', a - b)\n",
    "        print('The mul is:', a * b)\n",
    "        print('The div is:', a / b)\n",
    "        print()\n",
    "t = Test()\n",
    "t.m1()"
   ]
  },
  {
   "cell_type": "code",
   "execution_count": 74,
   "metadata": {},
   "outputs": [
    {
     "name": "stdout",
     "output_type": "stream",
     "text": [
      "The sum is: 30\n",
      "The Diff is: -10\n",
      "The Mul is: 200\n",
      "The Div is: 0.5\n",
      "\n",
      "The sum is: 300\n",
      "The Diff is: -100\n",
      "The Mul is: 20000\n",
      "The Div is: 0.5\n",
      "\n",
      "The sum is: 3000\n",
      "The Diff is: -1000\n",
      "The Mul is: 2000000\n",
      "The Div is: 0.5\n",
      "\n"
     ]
    }
   ],
   "source": [
    "class Test:\n",
    "    def m1(self):\n",
    "        def calculator(a,b):\n",
    "            print('The sum is:', a+b)\n",
    "            print('The Diff is:', a-b)\n",
    "            print('The Mul is:', a*b)\n",
    "            print('The Div is:', a/b)\n",
    "            print()\n",
    "            \n",
    "        calculator(10,20)\n",
    "        calculator(100,200)\n",
    "        calculator(1000,2000)\n",
    "            \n",
    "t = Test()\n",
    "t.m1()"
   ]
  },
  {
   "cell_type": "code",
   "execution_count": 75,
   "metadata": {},
   "outputs": [],
   "source": [
    "#Members of one class inside another class\n",
    "#By Composition (Has a relationship)\n",
    "#By Inheritance (Is a relationship)\n",
    "\n",
    "#Composition - By using class name or by creating object we can access members of one class inside another class"
   ]
  },
  {
   "cell_type": "code",
   "execution_count": 76,
   "metadata": {},
   "outputs": [
    {
     "name": "stdout",
     "output_type": "stream",
     "text": [
      "Class car using engine class functionality\n",
      "10\n",
      "20\n",
      "Engine specitfic functionality\n"
     ]
    }
   ],
   "source": [
    "class Engine: \n",
    "    a = 10\n",
    "    def __init__(self):\n",
    "        self.b = 20\n",
    "        \n",
    "    def m1(self):\n",
    "        print('Engine specitfic functionality')\n",
    "    \n",
    "class Car: \n",
    "    def __init__(self):\n",
    "        self.engine = Engine()\n",
    "        \n",
    "    def m2(self):\n",
    "        print('Class car using engine class functionality')\n",
    "        print(self.engine.a)\n",
    "        print(self.engine.b)\n",
    "        self.engine.m1()\n",
    "        \n",
    "c = Car()\n",
    "c.m2()\n",
    "#What is a relation between car and engine ? Car class HAS A Engine reference"
   ]
  },
  {
   "cell_type": "code",
   "execution_count": 77,
   "metadata": {},
   "outputs": [
    {
     "name": "stdout",
     "output_type": "stream",
     "text": [
      "Employee Number: 100\n",
      "Employee Name: Rahul\n",
      "Car Information\n",
      "Car Name: Maruti 800\n",
      "Car Model: 800\n",
      "Car Color: Grey\n"
     ]
    }
   ],
   "source": [
    "class Car: \n",
    "    def __init__(self, name, model, color):\n",
    "        self.name = name\n",
    "        self.model = model\n",
    "        self.color = color\n",
    "        \n",
    "    def getinfo(self):\n",
    "        print('Car Name:', self.name)\n",
    "        print('Car Model:', self.model)\n",
    "        print('Car Color:', self.color)\n",
    "        \n",
    "        \n",
    "class Employee:\n",
    "    def __init__(self,eno, ename, car):\n",
    "        self.eno = eno\n",
    "        self.ename = ename\n",
    "        self.car = car\n",
    "    def empinfo(self):\n",
    "        print('Employee Number:', self.eno)\n",
    "        print('Employee Name:', self.ename)\n",
    "        print('Car Information')\n",
    "        self.car.getinfo()\n",
    "        \n",
    "c = Car('Maruti 800', '800', 'Grey')\n",
    "e = Employee(100, 'Rahul',c)\n",
    "e.empinfo()"
   ]
  },
  {
   "cell_type": "code",
   "execution_count": 78,
   "metadata": {},
   "outputs": [
    {
     "name": "stdout",
     "output_type": "stream",
     "text": [
      "10\n",
      "20\n",
      "M1 method of X class\n",
      "30\n",
      "40\n",
      "M2 Method of Y class\n",
      "Inside m3 method of Y class\n"
     ]
    }
   ],
   "source": [
    "class X:\n",
    "    a = 10\n",
    "    def __init__(self):\n",
    "        self.b = 20\n",
    "    def m1(self):\n",
    "        print('M1 method of X class')\n",
    "        \n",
    "\n",
    "class Y:\n",
    "    c = 30\n",
    "    def __init__(self):\n",
    "        self.d = 40\n",
    "        \n",
    "    def m2(self):\n",
    "        print('M2 Method of Y class')\n",
    "        \n",
    "    def m3(self):\n",
    "        x1 = X()\n",
    "        print(x1.a)\n",
    "        print(x1.b)\n",
    "        x1.m1()\n",
    "        print(self.c)\n",
    "        print(self.d)\n",
    "        self.m2()\n",
    "        print('Inside m3 method of Y class')\n",
    "        \n",
    "y1 = Y()\n",
    "y1.m3()\n",
    "            "
   ]
  },
  {
   "cell_type": "code",
   "execution_count": 79,
   "metadata": {},
   "outputs": [],
   "source": [
    "#Inheritance \n"
   ]
  },
  {
   "cell_type": "code",
   "execution_count": 80,
   "metadata": {},
   "outputs": [],
   "source": [
    "class P:\n",
    "    a = 10\n",
    "    def __init__(self):\n",
    "        self.b = 20\n",
    "        \n",
    "    def m1(self):\n",
    "        print('Parent class instance method')\n",
    "        \n",
    "    @classmethod\n",
    "    def m2(cls):\n",
    "        print('Parent class method')\n",
    "    @staticmethod\n",
    "    def m3():\n",
    "        print('Parent class static method')\n",
    "        \n",
    "class C(P):\n",
    "    pass"
   ]
  },
  {
   "cell_type": "code",
   "execution_count": 81,
   "metadata": {},
   "outputs": [
    {
     "name": "stdout",
     "output_type": "stream",
     "text": [
      "Parent class instance method\n",
      "Parent class method\n",
      "Parent class static method\n"
     ]
    }
   ],
   "source": [
    "p = P()\n",
    "p.a\n",
    "p.b\n",
    "p.m1()\n",
    "p.m2()\n",
    "p.m3()"
   ]
  },
  {
   "cell_type": "code",
   "execution_count": 82,
   "metadata": {},
   "outputs": [
    {
     "name": "stdout",
     "output_type": "stream",
     "text": [
      "Parent class instance method\n",
      "Parent class method\n",
      "Parent class static method\n"
     ]
    }
   ],
   "source": [
    "c = C()\n",
    "c.a\n",
    "c.b\n",
    "c.m1()\n",
    "c.m2()\n",
    "c.m3()"
   ]
  },
  {
   "cell_type": "code",
   "execution_count": 83,
   "metadata": {},
   "outputs": [
    {
     "name": "stdout",
     "output_type": "stream",
     "text": [
      "Child class method\n",
      "Parent class method\n"
     ]
    }
   ],
   "source": [
    "class P:\n",
    "    def m1(self):\n",
    "        print('Parent class method')\n",
    "class C(P):\n",
    "    def m2(self):\n",
    "        print('Child class method')\n",
    "c = C()\n",
    "c.m2()\n",
    "c.m1()"
   ]
  },
  {
   "cell_type": "code",
   "execution_count": 84,
   "metadata": {},
   "outputs": [
    {
     "name": "stdout",
     "output_type": "stream",
     "text": [
      "10 30 40\n"
     ]
    }
   ],
   "source": [
    "class P:\n",
    "    a = 10\n",
    "    def __init__(self):\n",
    "        self.b = 20\n",
    "        \n",
    "class C(P):\n",
    "    c = 30\n",
    "    def __init__(self):\n",
    "        self.d = 40\n",
    "        \n",
    "c = C()\n",
    "print(c.a,c.c, c.d)"
   ]
  },
  {
   "cell_type": "code",
   "execution_count": 85,
   "metadata": {},
   "outputs": [
    {
     "name": "stdout",
     "output_type": "stream",
     "text": [
      "10 20 30 40\n"
     ]
    }
   ],
   "source": [
    "class P:\n",
    "    a = 10\n",
    "    def __init__(self):\n",
    "        self.b = 20\n",
    "        \n",
    "class C(P):\n",
    "    c = 30\n",
    "    def __init__(self):\n",
    "        super().__init__()\n",
    "        self.d = 40\n",
    "c = C()\n",
    "print(c.a, c.b, c.c, c.d)"
   ]
  },
  {
   "cell_type": "code",
   "execution_count": 86,
   "metadata": {},
   "outputs": [
    {
     "name": "stdout",
     "output_type": "stream",
     "text": [
      "Parent Method\n",
      "Child Method\n"
     ]
    }
   ],
   "source": [
    "#Types of Inheritance \n",
    "#Single Inheritance \n",
    "class P:\n",
    "    def m1(self):\n",
    "        print('Parent Method')\n",
    "class C(P):\n",
    "    def m2(self):\n",
    "        print('Child Method')\n",
    "c = C()\n",
    "c.m1()\n",
    "c.m2()"
   ]
  },
  {
   "cell_type": "code",
   "execution_count": 87,
   "metadata": {},
   "outputs": [
    {
     "name": "stdout",
     "output_type": "stream",
     "text": [
      "Sub Child Method\n",
      "Child Method\n",
      "Parent Method\n"
     ]
    }
   ],
   "source": [
    "#Multilevel Inheritance \n",
    "class P:\n",
    "    def m1(self):\n",
    "        print('Parent Method')\n",
    "        \n",
    "class C(P):\n",
    "    def m2(self):\n",
    "        print('Child Method')\n",
    "        \n",
    "class CC(C):\n",
    "    def m3(self):\n",
    "        print('Sub Child Method')\n",
    "        \n",
    "cc = CC()\n",
    "cc.m3()\n",
    "cc.m2()\n",
    "cc.m1()"
   ]
  },
  {
   "cell_type": "code",
   "execution_count": 88,
   "metadata": {},
   "outputs": [
    {
     "name": "stdout",
     "output_type": "stream",
     "text": [
      "Child 1 Method\n",
      "Parent Method\n",
      "Child 2 Method\n",
      "Parent Method\n"
     ]
    }
   ],
   "source": [
    "#Hierarchical Inheritance \n",
    "class P:\n",
    "    def m1(self):\n",
    "        print('Parent Method')\n",
    "        \n",
    "class C1(P):\n",
    "    def m2(self):\n",
    "        print('Child 1 Method')\n",
    "        \n",
    "class C2(P):\n",
    "    def m3(self):\n",
    "        print('Child 2 Method')\n",
    "        \n",
    "c1 = C1()\n",
    "c1.m2()\n",
    "c1.m1()\n",
    "#c1.m3()\n",
    "c2 = C2()\n",
    "c2.m3()\n",
    "c2.m1()\n",
    "#c2.m2()"
   ]
  },
  {
   "cell_type": "code",
   "execution_count": 89,
   "metadata": {},
   "outputs": [
    {
     "name": "stdout",
     "output_type": "stream",
     "text": [
      "Child Method\n",
      "Parent 2 Method\n",
      "Parent 1 Method\n"
     ]
    }
   ],
   "source": [
    "#Multiple Inheritance \n",
    "class P1:\n",
    "    def m1(self):\n",
    "        print('Parent 1 Method')\n",
    "\n",
    "class P2:\n",
    "    def m2(self):\n",
    "        print('Parent 2 Method')\n",
    "        \n",
    "class C(P1,P2):\n",
    "    def m3(self):\n",
    "        print('Child Method')\n",
    "        \n",
    "c = C()\n",
    "c.m3()\n",
    "c.m2()\n",
    "c.m1()"
   ]
  },
  {
   "cell_type": "code",
   "execution_count": 90,
   "metadata": {},
   "outputs": [
    {
     "name": "stdout",
     "output_type": "stream",
     "text": [
      "Child Method\n",
      "Parent 2 Method\n"
     ]
    }
   ],
   "source": [
    "#Multiple Inheritance \n",
    "class P1:\n",
    "    def m1(self):\n",
    "        print('Parent 1 Method')\n",
    "\n",
    "class P2:\n",
    "    def m1(self):\n",
    "        print('Parent 2 Method')\n",
    "        \n",
    "class C(P2,P1):\n",
    "    def m3(self):\n",
    "        print('Child Method')\n",
    "        \n",
    "c = C()\n",
    "c.m3()\n",
    "c.m1()"
   ]
  },
  {
   "cell_type": "code",
   "execution_count": 91,
   "metadata": {},
   "outputs": [
    {
     "name": "stdout",
     "output_type": "stream",
     "text": [
      "Lets have Pizza and Cold Coffee Rahul 34\n",
      "Python Coding...\n",
      "Employee name: Rahul\n",
      "Employee Age: 34\n",
      "Employee No: 123\n",
      "Employee Sal: 10000\n",
      "Car Info:\n",
      "\tCar Name: Innova\tCar Model: Classic\tCar color: Silver\n"
     ]
    }
   ],
   "source": [
    "class Car:\n",
    "    def __init__(self, name, model, color):\n",
    "        self.name = name \n",
    "        self.model = model \n",
    "        self.color = color\n",
    "        \n",
    "    def getinfo(self):\n",
    "        print('\\tCar Name: {}\\tCar Model: {}\\tCar color: {}'.format(self.name, self.model, self.color))\n",
    "        \n",
    "        \n",
    "class Person:\n",
    "    def __init__(self, name, age):\n",
    "        self.name = name \n",
    "        self.age = age\n",
    "        \n",
    "    def eat_n_drink(self):\n",
    "        print('Lets have Pizza and Cold Coffee', self.name,self.age)\n",
    "        \n",
    "class Employee(Person): #Inheritance\n",
    "    def __init__(self, name, age,eno, esal, car): #Composition\n",
    "        super().__init__(name, age)\n",
    "        self.eno = eno\n",
    "        self.esal = esal\n",
    "        self.car = car\n",
    "        \n",
    "    def work(self):\n",
    "        print('Python Coding...')\n",
    "        \n",
    "        \n",
    "    def empinfo(self):\n",
    "        print('Employee name:', self.name)\n",
    "        print('Employee Age:', self.age)\n",
    "        print('Employee No:', self.eno)\n",
    "        print('Employee Sal:', self.esal)\n",
    "        print('Car Info:')\n",
    "        self.car.getinfo()\n",
    "        \n",
    "c = Car('Innova', 'Classic', 'Silver')\n",
    "e = Employee('Rahul', 34, 123, 10000, c)\n",
    "        \n",
    "e.eat_n_drink()  \n",
    "e.work()\n",
    "e.empinfo()"
   ]
  },
  {
   "cell_type": "code",
   "execution_count": 92,
   "metadata": {},
   "outputs": [],
   "source": [
    "#In HAS A - We have two formats \n",
    "    #Composition \n",
    "    #Aggregation \n",
    "    \n",
    "    #Without existing college there is no chance of dept. Strongly associated and known as composition \n",
    "#In a department there are several professors going to work. Students not coming to one dept the professors will move to \n",
    "#Other department  - Aggregation \n",
    "\n",
    "#Without existing container object there may be a chance of contained object - Weak assocaiton and known as aggregation \n",
    "class Student:\n",
    "    college_name = 'RahulTEch' #Weak assocaition - Aggregation \n",
    "    def __init__(self,name):\n",
    "        self.name = name #Strong assocaiton - Composition "
   ]
  },
  {
   "cell_type": "code",
   "execution_count": 93,
   "metadata": {},
   "outputs": [],
   "source": [
    "#super()\n",
    "#Which can be used to call parent class constructor, Methods and variables from the child class"
   ]
  },
  {
   "cell_type": "code",
   "execution_count": 94,
   "metadata": {},
   "outputs": [
    {
     "name": "stdout",
     "output_type": "stream",
     "text": [
      "Rahul\n",
      "34\n",
      "11\n",
      "45\n"
     ]
    }
   ],
   "source": [
    "class Person:\n",
    "    def __init__(self, name, age):\n",
    "        self.name = name \n",
    "        self.age = age\n",
    "        \n",
    "        \n",
    "class Student(Person):\n",
    "    def __init__(self,name, age, rollno, marks):\n",
    "        self.name = name\n",
    "        self.age = age\n",
    "        self.rollno = rollno\n",
    "        self.marks =marks\n",
    "        \n",
    "    def display(self):\n",
    "        print(self.name)\n",
    "        print(self.age)\n",
    "        print(self.rollno)\n",
    "        print(self.marks)\n",
    "        \n",
    "s = Student('Rahul', 34, 11, 45)\n",
    "s.display()"
   ]
  },
  {
   "cell_type": "code",
   "execution_count": 95,
   "metadata": {},
   "outputs": [
    {
     "name": "stdout",
     "output_type": "stream",
     "text": [
      "Rahul\n",
      "34\n",
      "11\n",
      "45\n"
     ]
    }
   ],
   "source": [
    "class Person:\n",
    "    def __init__(self, name, age):\n",
    "        self.name = name \n",
    "        self.age = age\n",
    "        \n",
    "    def display(self):\n",
    "        print(self.name)\n",
    "        print(self.age)\n",
    "        \n",
    "        \n",
    "class Student(Person):\n",
    "    def __init__(self,name, age, rollno, marks):\n",
    "        super().__init__(name,age)\n",
    "        self.rollno = rollno\n",
    "        self.marks =marks\n",
    "        \n",
    "    def display(self):\n",
    "        super().display()\n",
    "        print(self.rollno)\n",
    "        print(self.marks)\n",
    "        \n",
    "s = Student('Rahul', 34, 11, 45)\n",
    "s.display()"
   ]
  },
  {
   "cell_type": "code",
   "execution_count": 96,
   "metadata": {},
   "outputs": [
    {
     "name": "stdout",
     "output_type": "stream",
     "text": [
      "Rahul\n",
      "34\n",
      "11\n",
      "45\n"
     ]
    }
   ],
   "source": [
    "class Person:\n",
    "    def __init__(self, name, age):\n",
    "        self.name = name \n",
    "        self.age = age\n",
    "        \n",
    "    def display1(self):\n",
    "        print(self.name)\n",
    "        print(self.age)\n",
    "        \n",
    "        \n",
    "        \n",
    "class Student(Person):\n",
    "    def __init__(self, name, age,rollno, marks):\n",
    "        super().__init__(name,age)\n",
    "        self.rollno = rollno\n",
    "        self.marks = marks\n",
    "        \n",
    "    def display2(self):\n",
    "        self.display1()\n",
    "        print(self.rollno)\n",
    "        print(self.marks)\n",
    "        \n",
    "s = Student('Rahul',34, 11, 45)\n",
    "s.display2()"
   ]
  },
  {
   "cell_type": "code",
   "execution_count": 97,
   "metadata": {},
   "outputs": [
    {
     "name": "stdout",
     "output_type": "stream",
     "text": [
      "100\n",
      "Parent instance method...\n",
      "Parent class method...\n",
      "Parent static method...\n"
     ]
    }
   ],
   "source": [
    "class P:\n",
    "    a = 100\n",
    "    def __init__(self):\n",
    "        self.b = 200\n",
    "        \n",
    "    def m1(self):\n",
    "        print('Parent instance method...')\n",
    "        \n",
    "    @classmethod\n",
    "    def m2(cls):\n",
    "        print('Parent class method...')\n",
    "        \n",
    "    @staticmethod\n",
    "    def m3():\n",
    "        print('Parent static method...')\n",
    "        \n",
    "        \n",
    "        \n",
    "class C(P):\n",
    "    a = 100000\n",
    "    def __init__(self):\n",
    "        self.b = 90909\n",
    "        super().__init__()\n",
    "        print(super().a)\n",
    "        super().m1()\n",
    "        super().m2()\n",
    "        super().m3()\n",
    "        \n",
    "c = C()"
   ]
  },
  {
   "cell_type": "code",
   "execution_count": 98,
   "metadata": {},
   "outputs": [
    {
     "name": "stdout",
     "output_type": "stream",
     "text": [
      "D class method...\n"
     ]
    }
   ],
   "source": [
    "#Mulitlevel case \n",
    "#A -> B -> C\n",
    "\n",
    "class A:\n",
    "    def m1(self):\n",
    "        print('A class method...')\n",
    "        \n",
    "class B(A):\n",
    "    def m1(self):\n",
    "        print('B class method...')\n",
    "        \n",
    "class C(B):\n",
    "    def m1(self):\n",
    "        print('C class method...')\n",
    "        \n",
    "class D(C):\n",
    "    def m1(self):\n",
    "        print('D class method...')\n",
    "        \n",
    "class E(D):\n",
    "    def m1(self):\n",
    "        #print('E class method...')\n",
    "        super().m1()\n",
    "        \n",
    "e = E()\n",
    "e.m1()\n",
    "        \n"
   ]
  },
  {
   "cell_type": "code",
   "execution_count": 99,
   "metadata": {},
   "outputs": [
    {
     "name": "stdout",
     "output_type": "stream",
     "text": [
      "B class method...\n"
     ]
    }
   ],
   "source": [
    "#Mulitlevel case \n",
    "#A -> B -> C\n",
    "\n",
    "class A:\n",
    "    def m1(self):\n",
    "        print('A class method...')\n",
    "        \n",
    "class B(A):\n",
    "    def m1(self):\n",
    "        print('B class method...')\n",
    "        \n",
    "class C(B):\n",
    "    def m1(self):\n",
    "        print('C class method...')\n",
    "        \n",
    "class D(C):\n",
    "    def m1(self):\n",
    "        print('D class method...')\n",
    "        \n",
    "class E(D):\n",
    "    def m1(self):\n",
    "        #print('E class method...')\n",
    "        B.m1(self)\n",
    "        \n",
    "e = E()\n",
    "e.m1()\n",
    "        \n"
   ]
  },
  {
   "cell_type": "code",
   "execution_count": 100,
   "metadata": {},
   "outputs": [
    {
     "name": "stdout",
     "output_type": "stream",
     "text": [
      "B class method...\n"
     ]
    }
   ],
   "source": [
    "#Mulitlevel case \n",
    "#A -> B -> C\n",
    "\n",
    "class A:\n",
    "    def m1(self):\n",
    "        print('A class method...')\n",
    "        \n",
    "class B(A):\n",
    "    def m1(self):\n",
    "        print('B class method...')\n",
    "        \n",
    "class C(B):\n",
    "    def m1(self):\n",
    "        print('C class method...')\n",
    "        \n",
    "class D(C):\n",
    "    def m1(self):\n",
    "        print('D class method...')\n",
    "        \n",
    "class E(D):\n",
    "    def m1(self):\n",
    "        #print('E class method...')\n",
    "        super(C,self).m1()\n",
    "        \n",
    "e = E()\n",
    "e.m1()\n",
    "        \n"
   ]
  },
  {
   "cell_type": "code",
   "execution_count": 101,
   "metadata": {},
   "outputs": [
    {
     "name": "stdout",
     "output_type": "stream",
     "text": [
      "100\n",
      "20\n"
     ]
    }
   ],
   "source": [
    "class P:\n",
    "    a = 100\n",
    "    def __init__(self):\n",
    "        self.b = 20\n",
    "        \n",
    "class C(P):\n",
    "    def m1(self):\n",
    "        print(super().a)\n",
    "        print(self.b)\n",
    "        \n",
    "c = C()\n",
    "c.m1()"
   ]
  },
  {
   "cell_type": "code",
   "execution_count": 102,
   "metadata": {},
   "outputs": [
    {
     "name": "stdout",
     "output_type": "stream",
     "text": [
      "200\n"
     ]
    }
   ],
   "source": [
    "class P:\n",
    "    a = 100\n",
    "    def __init__(self):\n",
    "        self.b = 200\n",
    "        \n",
    "class C(P):\n",
    "    a = 1000\n",
    "    def m1(self):\n",
    "        self.b = 2000\n",
    "        super().__init__()\n",
    "        print(self.b)\n",
    "        \n",
    "c = C()\n",
    "c.m1()"
   ]
  },
  {
   "cell_type": "code",
   "execution_count": 103,
   "metadata": {},
   "outputs": [
    {
     "name": "stdout",
     "output_type": "stream",
     "text": [
      "200\n"
     ]
    }
   ],
   "source": [
    "#Mulitlevel case \n",
    "#A -> B -> C\n",
    "\n",
    "class A:\n",
    "    def __init__(self):\n",
    "        self.b = 200\n",
    "    def m1(self):\n",
    "        print('A class method...')\n",
    "        \n",
    "class B(A):\n",
    "    def __init__(self):\n",
    "        self.b = 2000\n",
    "    def m1(self):\n",
    "        print('B class method...')\n",
    "        \n",
    "class C(B):\n",
    "    def __init__(self):\n",
    "        self.b = 20000\n",
    "        super(B,self).__init__()\n",
    "    \n",
    "    def m1(self):\n",
    "        print(self.b)\n",
    "\n",
    "\n",
    "c = C() \n",
    "c.m1()\n"
   ]
  },
  {
   "cell_type": "code",
   "execution_count": 104,
   "metadata": {},
   "outputs": [
    {
     "name": "stdout",
     "output_type": "stream",
     "text": [
      "Fish\n",
      "Meat\n",
      "Rat\n",
      "Grass\n"
     ]
    }
   ],
   "source": [
    "#Polymorphism\n",
    "#Poly Multiple Morph - Forms\n",
    "#1. Duck Typing Philosophy of Python \n",
    "#2. Overloading \n",
    "    #Operator Overloading \n",
    "    #Method Overloading \n",
    "    #Constructor overloading\n",
    "    \n",
    "#3. Overriding \n",
    "    #Method Overriding \n",
    "    #Constructor overriding \n",
    "    \n",
    "    \n",
    "class Duck:\n",
    "    def eat(self):\n",
    "        print('Fish')\n",
    "        \n",
    "class Dog:\n",
    "    def eat(self):\n",
    "        print('Meat')\n",
    "    \n",
    "class Cat:\n",
    "    def eat(self):\n",
    "        print('Rat')\n",
    "        \n",
    "class Goat:\n",
    "    def eat(self):\n",
    "        print('Grass')\n",
    "        \n",
    "def f1(obj):\n",
    "    obj.eat()\n",
    "    \n",
    "l = [Duck(),Dog(), Cat(), Goat()]\n",
    "for obj in l:\n",
    "    f1(obj)"
   ]
  },
  {
   "cell_type": "code",
   "execution_count": 105,
   "metadata": {},
   "outputs": [
    {
     "name": "stdout",
     "output_type": "stream",
     "text": [
      "Bow Bow\n"
     ]
    }
   ],
   "source": [
    "class Duck:\n",
    "    def eat(self):\n",
    "        print('Fish')\n",
    "        \n",
    "class Dog:\n",
    "    def talk(self):\n",
    "        print('Bow Bow')\n",
    "        \n",
    "        \n",
    "def f1(obj):\n",
    "    obj.talk()\n",
    "    \n",
    "#d1 = Duck()\n",
    "\n",
    "\n",
    "#d1.talk()\n",
    "\n",
    "d1 = Dog()\n",
    "d1.talk()"
   ]
  },
  {
   "cell_type": "code",
   "execution_count": 106,
   "metadata": {},
   "outputs": [
    {
     "name": "stdout",
     "output_type": "stream",
     "text": [
      "Fish\n",
      "Bow Bow\n"
     ]
    }
   ],
   "source": [
    "def f1(obj):\n",
    "    if hasattr(obj, 'talk'):\n",
    "        obj.talk()\n",
    "        \n",
    "    elif hasattr(obj, 'eat'):\n",
    "        obj.eat()\n",
    "        \n",
    "d = Duck()\n",
    "f1(d)\n",
    "d = Dog()\n",
    "f1(d)"
   ]
  },
  {
   "cell_type": "code",
   "execution_count": 107,
   "metadata": {},
   "outputs": [
    {
     "data": {
      "text/plain": [
       "'ab'"
      ]
     },
     "execution_count": 107,
     "metadata": {},
     "output_type": "execute_result"
    }
   ],
   "source": [
    "#Overloading \n",
    "1+2 \n",
    "'a'+'b'"
   ]
  },
  {
   "cell_type": "code",
   "execution_count": 108,
   "metadata": {},
   "outputs": [
    {
     "ename": "TypeError",
     "evalue": "unsupported operand type(s) for +: 'Book' and 'Book'",
     "output_type": "error",
     "traceback": [
      "\u001b[1;31m---------------------------------------------------------------------------\u001b[0m",
      "\u001b[1;31mTypeError\u001b[0m                                 Traceback (most recent call last)",
      "\u001b[1;32m<ipython-input-108-4590f8764f4b>\u001b[0m in \u001b[0;36m<module>\u001b[1;34m\u001b[0m\n\u001b[0;32m      5\u001b[0m \u001b[0mb1\u001b[0m \u001b[1;33m=\u001b[0m \u001b[0mBook\u001b[0m\u001b[1;33m(\u001b[0m\u001b[1;36m100\u001b[0m\u001b[1;33m)\u001b[0m\u001b[1;33m\u001b[0m\u001b[1;33m\u001b[0m\u001b[0m\n\u001b[0;32m      6\u001b[0m \u001b[0mb2\u001b[0m \u001b[1;33m=\u001b[0m \u001b[0mBook\u001b[0m\u001b[1;33m(\u001b[0m\u001b[1;36m200\u001b[0m\u001b[1;33m)\u001b[0m\u001b[1;33m\u001b[0m\u001b[1;33m\u001b[0m\u001b[0m\n\u001b[1;32m----> 7\u001b[1;33m \u001b[0mprint\u001b[0m\u001b[1;33m(\u001b[0m\u001b[0mb1\u001b[0m\u001b[1;33m+\u001b[0m\u001b[0mb2\u001b[0m\u001b[1;33m)\u001b[0m\u001b[1;33m\u001b[0m\u001b[1;33m\u001b[0m\u001b[0m\n\u001b[0m",
      "\u001b[1;31mTypeError\u001b[0m: unsupported operand type(s) for +: 'Book' and 'Book'"
     ]
    }
   ],
   "source": [
    "class Book:\n",
    "    def __init__(self, pages):\n",
    "        self.pages = pages\n",
    "        \n",
    "b1 = Book(100)\n",
    "b2 = Book(200)\n",
    "print(b1+b2)"
   ]
  },
  {
   "cell_type": "code",
   "execution_count": 109,
   "metadata": {},
   "outputs": [
    {
     "name": "stdout",
     "output_type": "stream",
     "text": [
      "300\n",
      "20000\n"
     ]
    }
   ],
   "source": [
    "class Book:\n",
    "    def __init__(self,pages):\n",
    "        self.pages = pages\n",
    "    def __add__(self, other):\n",
    "        return self.pages + other.pages\n",
    "    def __mul__(self,other):\n",
    "        return self.pages * other.pages\n",
    "    \n",
    "b1 = Book(100)\n",
    "b2 = Book(200)\n",
    "print(b1+b2)\n",
    "print(b1*b2)"
   ]
  },
  {
   "cell_type": "code",
   "execution_count": 110,
   "metadata": {},
   "outputs": [
    {
     "data": {
      "text/plain": [
       "['__abs__',\n",
       " '__add__',\n",
       " '__and__',\n",
       " '__bool__',\n",
       " '__ceil__',\n",
       " '__class__',\n",
       " '__delattr__',\n",
       " '__dir__',\n",
       " '__divmod__',\n",
       " '__doc__',\n",
       " '__eq__',\n",
       " '__float__',\n",
       " '__floor__',\n",
       " '__floordiv__',\n",
       " '__format__',\n",
       " '__ge__',\n",
       " '__getattribute__',\n",
       " '__getnewargs__',\n",
       " '__gt__',\n",
       " '__hash__',\n",
       " '__index__',\n",
       " '__init__',\n",
       " '__init_subclass__',\n",
       " '__int__',\n",
       " '__invert__',\n",
       " '__le__',\n",
       " '__lshift__',\n",
       " '__lt__',\n",
       " '__mod__',\n",
       " '__mul__',\n",
       " '__ne__',\n",
       " '__neg__',\n",
       " '__new__',\n",
       " '__or__',\n",
       " '__pos__',\n",
       " '__pow__',\n",
       " '__radd__',\n",
       " '__rand__',\n",
       " '__rdivmod__',\n",
       " '__reduce__',\n",
       " '__reduce_ex__',\n",
       " '__repr__',\n",
       " '__rfloordiv__',\n",
       " '__rlshift__',\n",
       " '__rmod__',\n",
       " '__rmul__',\n",
       " '__ror__',\n",
       " '__round__',\n",
       " '__rpow__',\n",
       " '__rrshift__',\n",
       " '__rshift__',\n",
       " '__rsub__',\n",
       " '__rtruediv__',\n",
       " '__rxor__',\n",
       " '__setattr__',\n",
       " '__sizeof__',\n",
       " '__str__',\n",
       " '__sub__',\n",
       " '__subclasshook__',\n",
       " '__truediv__',\n",
       " '__trunc__',\n",
       " '__xor__',\n",
       " 'bit_length',\n",
       " 'conjugate',\n",
       " 'denominator',\n",
       " 'from_bytes',\n",
       " 'imag',\n",
       " 'numerator',\n",
       " 'real',\n",
       " 'to_bytes']"
      ]
     },
     "execution_count": 110,
     "metadata": {},
     "output_type": "execute_result"
    }
   ],
   "source": [
    "dir(int)"
   ]
  },
  {
   "cell_type": "code",
   "execution_count": 111,
   "metadata": {},
   "outputs": [
    {
     "ename": "SyntaxError",
     "evalue": "invalid syntax (<ipython-input-111-28a13665024a>, line 1)",
     "output_type": "error",
     "traceback": [
      "\u001b[1;36m  File \u001b[1;32m\"<ipython-input-111-28a13665024a>\"\u001b[1;36m, line \u001b[1;32m1\u001b[0m\n\u001b[1;33m    + --> __add__(self,other)\u001b[0m\n\u001b[1;37m        ^\u001b[0m\n\u001b[1;31mSyntaxError\u001b[0m\u001b[1;31m:\u001b[0m invalid syntax\n"
     ]
    }
   ],
   "source": [
    "+ --> __add__(self,other)\n",
    "- --> __sub__(self,other)\n",
    "* --> __mul__(self,other)\n",
    "/ --> __div__(self,other)\n",
    "// --> __floordiv__(self,other)\n",
    "% --> __mod__(self,other)\n",
    "** --> __pow__(self,other)\n",
    "\n",
    "+= --> __iadd__(self,other)\n",
    "-= --> __isub__(self,other)\n",
    "*= --> __imul__(self,other)\n",
    "/= --> __idiv__(self,other)\n",
    "//= --> __ifloordiv__(self,other)\n",
    "%= --> __imod__(self,other)\n",
    "**= --> __ipow__(self,other)\n",
    "\n",
    "< --> __lt__(sef,other)\n",
    "<= --> __le__(self,other)\n",
    "> --> __gt__(self,other)\n",
    ">= --> __ge__(self,other)\n",
    "== --> __eq__(self,other)\n",
    "!= --> __ne__(self,other)"
   ]
  },
  {
   "cell_type": "code",
   "execution_count": 112,
   "metadata": {},
   "outputs": [
    {
     "name": "stdout",
     "output_type": "stream",
     "text": [
      "False\n",
      "False\n",
      "True\n",
      "True\n"
     ]
    }
   ],
   "source": [
    "class Student:\n",
    "    def __init__(self,name,marks):\n",
    "        self.name = name \n",
    "        self.marks = marks\n",
    "        \n",
    "    def __gt__(self,other):\n",
    "        return self.marks > other.marks\n",
    "    def __ge__(self,other):\n",
    "        return self.marks >= other.marks\n",
    "    def __lt__(self,other):\n",
    "        return self.marks  <other.marks\n",
    "    def __le__(self,other):\n",
    "        return self.marks <= other.marks\n",
    "    \n",
    "s1 = Student('Rahul', 100)\n",
    "s2 = Student('Milind', 200)\n",
    "print(s1>s2)\n",
    "print(s1>=s2)\n",
    "print(s1<s2)\n",
    "print(s1<=s2)\n",
    "    "
   ]
  },
  {
   "cell_type": "code",
   "execution_count": 113,
   "metadata": {},
   "outputs": [
    {
     "ename": "TypeError",
     "evalue": "unsupported operand type(s) for +: 'int' and 'Book'",
     "output_type": "error",
     "traceback": [
      "\u001b[1;31m---------------------------------------------------------------------------\u001b[0m",
      "\u001b[1;31mTypeError\u001b[0m                                 Traceback (most recent call last)",
      "\u001b[1;32m<ipython-input-113-4c2a8a8831d4>\u001b[0m in \u001b[0;36m<module>\u001b[1;34m\u001b[0m\n\u001b[0;32m      8\u001b[0m \u001b[0mb2\u001b[0m \u001b[1;33m=\u001b[0m \u001b[0mBook\u001b[0m\u001b[1;33m(\u001b[0m\u001b[1;36m200\u001b[0m\u001b[1;33m)\u001b[0m\u001b[1;33m\u001b[0m\u001b[1;33m\u001b[0m\u001b[0m\n\u001b[0;32m      9\u001b[0m \u001b[0mb3\u001b[0m \u001b[1;33m=\u001b[0m \u001b[0mBook\u001b[0m\u001b[1;33m(\u001b[0m\u001b[1;36m300\u001b[0m\u001b[1;33m)\u001b[0m\u001b[1;33m\u001b[0m\u001b[1;33m\u001b[0m\u001b[0m\n\u001b[1;32m---> 10\u001b[1;33m \u001b[0mprint\u001b[0m\u001b[1;33m(\u001b[0m\u001b[0mb1\u001b[0m\u001b[1;33m+\u001b[0m\u001b[0mb2\u001b[0m\u001b[1;33m+\u001b[0m\u001b[0mb3\u001b[0m\u001b[1;33m)\u001b[0m\u001b[1;33m\u001b[0m\u001b[1;33m\u001b[0m\u001b[0m\n\u001b[0m",
      "\u001b[1;31mTypeError\u001b[0m: unsupported operand type(s) for +: 'int' and 'Book'"
     ]
    }
   ],
   "source": [
    "class Book:\n",
    "    def __init__(self,pages):\n",
    "        self.pages = pages\n",
    "        \n",
    "    def __add__(self,other):\n",
    "        return self.pages + other.pages\n",
    "b1 = Book(100)\n",
    "b2 = Book(200)\n",
    "b3 = Book(300)\n",
    "print(b1+b2+b3)     "
   ]
  },
  {
   "cell_type": "code",
   "execution_count": 114,
   "metadata": {},
   "outputs": [
    {
     "ename": "TypeError",
     "evalue": "__add__() missing 1 required positional argument: 'other2'",
     "output_type": "error",
     "traceback": [
      "\u001b[1;31m---------------------------------------------------------------------------\u001b[0m",
      "\u001b[1;31mTypeError\u001b[0m                                 Traceback (most recent call last)",
      "\u001b[1;32m<ipython-input-114-92e8b43f2176>\u001b[0m in \u001b[0;36m<module>\u001b[1;34m\u001b[0m\n\u001b[0;32m      8\u001b[0m \u001b[0mb2\u001b[0m \u001b[1;33m=\u001b[0m \u001b[0mBook\u001b[0m\u001b[1;33m(\u001b[0m\u001b[1;36m200\u001b[0m\u001b[1;33m)\u001b[0m\u001b[1;33m\u001b[0m\u001b[1;33m\u001b[0m\u001b[0m\n\u001b[0;32m      9\u001b[0m \u001b[0mb3\u001b[0m \u001b[1;33m=\u001b[0m \u001b[0mBook\u001b[0m\u001b[1;33m(\u001b[0m\u001b[1;36m300\u001b[0m\u001b[1;33m)\u001b[0m\u001b[1;33m\u001b[0m\u001b[1;33m\u001b[0m\u001b[0m\n\u001b[1;32m---> 10\u001b[1;33m \u001b[0mprint\u001b[0m\u001b[1;33m(\u001b[0m\u001b[0mb1\u001b[0m\u001b[1;33m+\u001b[0m\u001b[0mb2\u001b[0m\u001b[1;33m+\u001b[0m\u001b[0mb3\u001b[0m\u001b[1;33m)\u001b[0m\u001b[1;33m\u001b[0m\u001b[1;33m\u001b[0m\u001b[0m\n\u001b[0m",
      "\u001b[1;31mTypeError\u001b[0m: __add__() missing 1 required positional argument: 'other2'"
     ]
    }
   ],
   "source": [
    "class Book:\n",
    "    def __init__(self, pages):\n",
    "        self.pages = pages\n",
    "    def __add__(self,other1, other2):\n",
    "        return self.pages + other1.pages + other2.pages\n",
    "    \n",
    "b1 = Book(100)\n",
    "b2 = Book(200)\n",
    "b3 = Book(300)\n",
    "print(b1+b2+b3)"
   ]
  },
  {
   "cell_type": "code",
   "execution_count": 115,
   "metadata": {},
   "outputs": [
    {
     "name": "stdout",
     "output_type": "stream",
     "text": [
      "Add method we are calling\n",
      "Add method we are calling\n",
      "Add method we are calling\n",
      "str method calling\n",
      "1000\n"
     ]
    }
   ],
   "source": [
    "class Book:\n",
    "    def __init__(self,pages):\n",
    "        self.pages = pages\n",
    "        \n",
    "    def __add__(self,other):\n",
    "        print('Add method we are calling')\n",
    "        total = self.pages + other.pages\n",
    "        return Book(total)\n",
    "    \n",
    "    def __str__(self):\n",
    "        print('str method calling')\n",
    "        return str(self.pages)\n",
    "    \n",
    "b1 = Book(100)\n",
    "b2 = Book(200)\n",
    "b3 = Book(300)\n",
    "b4 = Book(400)\n",
    "print(b1+b2+b3+b4)\n",
    "\n"
   ]
  },
  {
   "cell_type": "code",
   "execution_count": 116,
   "metadata": {},
   "outputs": [
    {
     "name": "stdout",
     "output_type": "stream",
     "text": [
      "This is Student object with the name:Rahul and  marks:100\n",
      "This is Student object with the name:Milind and  marks:200\n"
     ]
    }
   ],
   "source": [
    "class Student:\n",
    "    def __init__(self,name, marks):\n",
    "        self.name = name\n",
    "        self.marks = marks\n",
    "        \n",
    "    def __str__(self):\n",
    "        return 'This is Student object with the name:{} and  marks:{}'.format(self.name, self.marks)\n",
    "        \n",
    "    \n",
    "s1 = Student('Rahul', 100)\n",
    "print(s1)\n",
    "s2 = Student('Milind',200)\n",
    "print(s2)"
   ]
  },
  {
   "cell_type": "code",
   "execution_count": 117,
   "metadata": {},
   "outputs": [
    {
     "name": "stdout",
     "output_type": "stream",
     "text": [
      "The month salary is: 12500\n",
      "The month salary is: 12500\n"
     ]
    }
   ],
   "source": [
    "class Employee:\n",
    "    def __init__(self,name, salary):\n",
    "        self.name = name\n",
    "        self.salary = salary\n",
    "        \n",
    "    def __mul__(self,other):\n",
    "        return self.salary * other.days\n",
    "    \n",
    "class TimeSheet:\n",
    "    def __init__(self,name, days):\n",
    "        self.name =name\n",
    "        self.days=days\n",
    "    def __mul__(self,other):\n",
    "        return self.days * other.salary\n",
    "        \n",
    "e = Employee('Rahul',500)\n",
    "t = TimeSheet('Rahul',25)\n",
    "\n",
    "print('The month salary is:', e*t)\n",
    "print('The month salary is:', t*e)\n",
    "        "
   ]
  },
  {
   "cell_type": "code",
   "execution_count": 118,
   "metadata": {},
   "outputs": [
    {
     "name": "stdout",
     "output_type": "stream",
     "text": [
      "Two arg method\n"
     ]
    }
   ],
   "source": [
    "#Method overloading\n",
    "class Test:\n",
    "    def m1(self):\n",
    "        print('Zero arg method')\n",
    "        \n",
    "    def m1(self,a):\n",
    "        print('One arg Method')\n",
    "        \n",
    "    def m1(self, a,b):\n",
    "        print('Two arg method')\n",
    "        \n",
    "t = Test()\n",
    "t.m1(10,10)\n"
   ]
  },
  {
   "cell_type": "code",
   "execution_count": 119,
   "metadata": {},
   "outputs": [
    {
     "name": "stdout",
     "output_type": "stream",
     "text": [
      "Atleast provide one value\n",
      "The sum of one number is: 10\n",
      "The sum of two numbers is: 31\n",
      "The sum of three numbers is: 60\n"
     ]
    }
   ],
   "source": [
    "class Test:\n",
    "    def sum1(self, a=None,b=None,c=None):\n",
    "        if a !=None and b != None and c != None:\n",
    "            print('The sum of three numbers is:', a+b+c)\n",
    "        elif a !=None and b != None:\n",
    "            print('The sum of two numbers is:', a+b)\n",
    "        elif a!=None:\n",
    "            print('The sum of one number is:',a)\n",
    "        else:\n",
    "            print('Atleast provide one value')\n",
    "\n",
    "t = Test()\n",
    "t.sum1()\n",
    "t.sum1(10)\n",
    "t.sum1(19,12)\n",
    "t.sum1(10,20,30)"
   ]
  },
  {
   "cell_type": "code",
   "execution_count": 120,
   "metadata": {},
   "outputs": [
    {
     "name": "stdout",
     "output_type": "stream",
     "text": [
      "The sum is: 0\n",
      "The sum is: 10\n",
      "The sum is: 30\n",
      "The sum is: 60\n",
      "The sum is: 100\n",
      "The sum is: 150\n"
     ]
    }
   ],
   "source": [
    "class Test:\n",
    "    def sum(self, *a): #*a is a variable arguement \n",
    "        total = 0 \n",
    "        for x in a:\n",
    "            total = total + x\n",
    "        print('The sum is:', total)\n",
    "t = Test()\n",
    "t.sum()\n",
    "t.sum(10)\n",
    "t.sum(10,20)\n",
    "t.sum(10,20,30)\n",
    "t.sum(10,20,30,40)\n",
    "t.sum(10,20,30,40,50)"
   ]
  },
  {
   "cell_type": "code",
   "execution_count": 121,
   "metadata": {},
   "outputs": [
    {
     "name": "stdout",
     "output_type": "stream",
     "text": [
      "The sum is nothing\n"
     ]
    },
    {
     "ename": "TypeError",
     "evalue": "sum() takes 1 positional argument but 2 were given",
     "output_type": "error",
     "traceback": [
      "\u001b[1;31m---------------------------------------------------------------------------\u001b[0m",
      "\u001b[1;31mTypeError\u001b[0m                                 Traceback (most recent call last)",
      "\u001b[1;32m<ipython-input-121-7c0ebdfadaed>\u001b[0m in \u001b[0;36m<module>\u001b[1;34m\u001b[0m\n\u001b[0;32m     10\u001b[0m \u001b[0mt\u001b[0m \u001b[1;33m=\u001b[0m \u001b[0mTest\u001b[0m\u001b[1;33m(\u001b[0m\u001b[1;33m)\u001b[0m\u001b[1;33m\u001b[0m\u001b[1;33m\u001b[0m\u001b[0m\n\u001b[0;32m     11\u001b[0m \u001b[0mt\u001b[0m\u001b[1;33m.\u001b[0m\u001b[0msum\u001b[0m\u001b[1;33m(\u001b[0m\u001b[1;33m)\u001b[0m\u001b[1;33m\u001b[0m\u001b[1;33m\u001b[0m\u001b[0m\n\u001b[1;32m---> 12\u001b[1;33m \u001b[0mt\u001b[0m\u001b[1;33m.\u001b[0m\u001b[0msum\u001b[0m\u001b[1;33m(\u001b[0m\u001b[1;36m10\u001b[0m\u001b[1;33m)\u001b[0m\u001b[1;33m\u001b[0m\u001b[1;33m\u001b[0m\u001b[0m\n\u001b[0m\u001b[0;32m     13\u001b[0m \u001b[0mt\u001b[0m\u001b[1;33m.\u001b[0m\u001b[0msum\u001b[0m\u001b[1;33m(\u001b[0m\u001b[1;36m10\u001b[0m\u001b[1;33m,\u001b[0m\u001b[1;36m20\u001b[0m\u001b[1;33m)\u001b[0m\u001b[1;33m\u001b[0m\u001b[1;33m\u001b[0m\u001b[0m\n\u001b[0;32m     14\u001b[0m \u001b[0mt\u001b[0m\u001b[1;33m.\u001b[0m\u001b[0msum\u001b[0m\u001b[1;33m(\u001b[0m\u001b[1;36m10\u001b[0m\u001b[1;33m,\u001b[0m\u001b[1;36m20\u001b[0m\u001b[1;33m,\u001b[0m\u001b[1;36m30\u001b[0m\u001b[1;33m)\u001b[0m\u001b[1;33m\u001b[0m\u001b[1;33m\u001b[0m\u001b[0m\n",
      "\u001b[1;31mTypeError\u001b[0m: sum() takes 1 positional argument but 2 were given"
     ]
    }
   ],
   "source": [
    "class Test:\n",
    "    def sum(self, *a): #*a is a variable arguement \n",
    "        total = 0 \n",
    "        for x in a:\n",
    "            total = total + x\n",
    "        print('The sum is:', total)\n",
    "        \n",
    "    def sum(self):\n",
    "        print('The sum is nothing')\n",
    "t = Test()\n",
    "t.sum()\n",
    "t.sum(10)\n",
    "t.sum(10,20)\n",
    "t.sum(10,20,30)\n",
    "t.sum(10,20,30,40)\n",
    "t.sum(10,20,30,40,50)"
   ]
  },
  {
   "cell_type": "code",
   "execution_count": 122,
   "metadata": {},
   "outputs": [
    {
     "name": "stdout",
     "output_type": "stream",
     "text": [
      "Two arg constructor\n"
     ]
    }
   ],
   "source": [
    "#Constructor Overloading\n",
    "class Test:\n",
    "    def __init__(self):\n",
    "        print('No arg constructor ')\n",
    "    def __init__(self,a):\n",
    "        print('One arg constructor')\n",
    "    def __init__(self,a,b):\n",
    "        print('Two arg constructor')\n",
    "t = Test(10,20)"
   ]
  },
  {
   "cell_type": "code",
   "execution_count": 123,
   "metadata": {},
   "outputs": [
    {
     "name": "stdout",
     "output_type": "stream",
     "text": [
      "Constructor is with 0|1|2|3 args\n",
      "Constructor is with 0|1|2|3 args\n",
      "Constructor is with 0|1|2|3 args\n",
      "Constructor is with 0|1|2|3 args\n"
     ]
    }
   ],
   "source": [
    "class Test:\n",
    "    def __init__(self, a=None, b= None, c=None):\n",
    "        print('Constructor is with 0|1|2|3 args')\n",
    "        \n",
    "t = Test()\n",
    "t = Test(10)\n",
    "t = Test(10,20)\n",
    "t = Test(10,20,30)"
   ]
  },
  {
   "cell_type": "code",
   "execution_count": 124,
   "metadata": {},
   "outputs": [
    {
     "name": "stdout",
     "output_type": "stream",
     "text": [
      "Constructor with n args\n",
      "Constructor with n args\n",
      "Constructor with n args\n",
      "Constructor with n args\n",
      "Constructor with n args\n"
     ]
    }
   ],
   "source": [
    "class Test:\n",
    "    def __init__(self,*a):\n",
    "        print('Constructor with n args')\n",
    "        \n",
    "t = Test()\n",
    "t = Test(10)\n",
    "t = Test(10,20)\n",
    "t = Test(10,20,30)\n",
    "t = Test(10,20,30,40)"
   ]
  },
  {
   "cell_type": "code",
   "execution_count": 125,
   "metadata": {},
   "outputs": [
    {
     "name": "stdout",
     "output_type": "stream",
     "text": [
      "Cash+Gold+Shares+Vehicles+Land+Houses\n"
     ]
    }
   ],
   "source": [
    "#Method Overriding\n",
    "    #What is the purpose of Method Overriding \n",
    "    \n",
    "class P:\n",
    "    def property(self):\n",
    "        print('Cash+Gold+Shares+Vehicles+Land+Houses')\n",
    "        \n",
    "class C(P): pass\n",
    "c = C()\n",
    "c.property()"
   ]
  },
  {
   "cell_type": "code",
   "execution_count": 126,
   "metadata": {},
   "outputs": [
    {
     "name": "stdout",
     "output_type": "stream",
     "text": [
      "Cash+Gold+Shares+Vehicles+Land+Houses\n",
      "A|B|C\n"
     ]
    }
   ],
   "source": [
    "#Method Overriding\n",
    "    #What is the purpose of Method Overriding \n",
    "    \n",
    "class P:\n",
    "    def property(self):\n",
    "        print('Cash+Gold+Shares+Vehicles+Land+Houses')\n",
    "        \n",
    "    def marriage(self):\n",
    "        print('X|Y|Z')\n",
    "        \n",
    "class C(P):\n",
    "    def marriage(self):\n",
    "        print('A|B|C')\n",
    "c = C()\n",
    "c.property()\n",
    "c.marriage()"
   ]
  },
  {
   "cell_type": "code",
   "execution_count": 127,
   "metadata": {},
   "outputs": [
    {
     "name": "stdout",
     "output_type": "stream",
     "text": [
      "Cash+Gold+Shares+Vehicles+Land+Houses\n",
      "X|Y|Z\n",
      "A|B|C\n"
     ]
    }
   ],
   "source": [
    "#Method Overriding\n",
    "    #What is the purpose of Method Overriding \n",
    "    \n",
    "class P:\n",
    "    def property(self):\n",
    "        print('Cash+Gold+Shares+Vehicles+Land+Houses')\n",
    "        \n",
    "    def marriage(self):\n",
    "        print('X|Y|Z')\n",
    "        \n",
    "class C(P):\n",
    "    def marriage(self):\n",
    "        super().marriage()\n",
    "        print('A|B|C')\n",
    "c = C()\n",
    "c.property()\n",
    "c.marriage()"
   ]
  },
  {
   "cell_type": "code",
   "execution_count": 128,
   "metadata": {},
   "outputs": [
    {
     "name": "stdout",
     "output_type": "stream",
     "text": [
      "Parent constructor\n"
     ]
    }
   ],
   "source": [
    "class P:\n",
    "    def __init__(self):\n",
    "        print('Parent constructor')\n",
    "class C(P):\n",
    "    pass\n",
    "\n",
    "c=C()"
   ]
  },
  {
   "cell_type": "code",
   "execution_count": 129,
   "metadata": {},
   "outputs": [
    {
     "name": "stdout",
     "output_type": "stream",
     "text": [
      "Child constructor\n"
     ]
    }
   ],
   "source": [
    "class P:\n",
    "    def __init__(self):\n",
    "        print('Parent constructor')\n",
    "class C(P):\n",
    "    def __init__(self):\n",
    "        print('Child constructor')\n",
    "\n",
    "c=C()"
   ]
  },
  {
   "cell_type": "code",
   "execution_count": 130,
   "metadata": {},
   "outputs": [
    {
     "name": "stdout",
     "output_type": "stream",
     "text": [
      "Parent constructor\n",
      "Child constructor\n"
     ]
    }
   ],
   "source": [
    "class P:\n",
    "    def __init__(self):\n",
    "        print('Parent constructor')\n",
    "class C(P):\n",
    "    def __init__(self):\n",
    "        P.__init__(self)\n",
    "        print('Child constructor')\n",
    "\n",
    "c=C()"
   ]
  },
  {
   "cell_type": "code",
   "execution_count": 131,
   "metadata": {},
   "outputs": [],
   "source": [
    "#Abstract Methods\n",
    "#Abstract Classes \n",
    "#Interface \n",
    "#Public, Private and Protected members "
   ]
  },
  {
   "cell_type": "code",
   "execution_count": 132,
   "metadata": {},
   "outputs": [],
   "source": [
    "from abc import *\n",
    "#abstract base class\n",
    "#Abstact means hiding something, not complete\n",
    "class Vehicle:\n",
    "    @abstractmethod\n",
    "    def get_no_wheel(self):\n",
    "        pass\n",
    "    #Where we dont know implementation but still declaring it as a part of the code\n",
    "    \n",
    "class Veg:\n",
    "    @abstractmethod\n",
    "    def get_price(self):\n",
    "        pass"
   ]
  },
  {
   "cell_type": "code",
   "execution_count": 133,
   "metadata": {},
   "outputs": [
    {
     "ename": "TypeError",
     "evalue": "Can't instantiate abstract class Vehicle with abstract methods get_no_wheels",
     "output_type": "error",
     "traceback": [
      "\u001b[1;31m---------------------------------------------------------------------------\u001b[0m",
      "\u001b[1;31mTypeError\u001b[0m                                 Traceback (most recent call last)",
      "\u001b[1;32m<ipython-input-133-bcac6c55883f>\u001b[0m in \u001b[0;36m<module>\u001b[1;34m\u001b[0m\n\u001b[0;32m      5\u001b[0m         \u001b[1;32mpass\u001b[0m\u001b[1;33m\u001b[0m\u001b[1;33m\u001b[0m\u001b[0m\n\u001b[0;32m      6\u001b[0m \u001b[1;33m\u001b[0m\u001b[0m\n\u001b[1;32m----> 7\u001b[1;33m \u001b[0mv\u001b[0m \u001b[1;33m=\u001b[0m \u001b[0mVehicle\u001b[0m\u001b[1;33m(\u001b[0m\u001b[1;33m)\u001b[0m\u001b[1;33m\u001b[0m\u001b[1;33m\u001b[0m\u001b[0m\n\u001b[0m",
      "\u001b[1;31mTypeError\u001b[0m: Can't instantiate abstract class Vehicle with abstract methods get_no_wheels"
     ]
    }
   ],
   "source": [
    "#Abstact class - Implementation of the class not complete, Partial implementaiton is known as abstact class. \n",
    "class Vehicle(ABC):\n",
    "    @abstractmethod\n",
    "    def get_no_wheels(self): \n",
    "        pass\n",
    "    \n",
    "v = Vehicle()"
   ]
  },
  {
   "cell_type": "code",
   "execution_count": 134,
   "metadata": {},
   "outputs": [
    {
     "data": {
      "text/plain": [
       "<__main__.Test at 0x291c40a84c8>"
      ]
     },
     "execution_count": 134,
     "metadata": {},
     "output_type": "execute_result"
    }
   ],
   "source": [
    "class Test(ABC):\n",
    "    pass\n",
    "\n",
    "t = Test()\n",
    "t"
   ]
  },
  {
   "cell_type": "code",
   "execution_count": 135,
   "metadata": {},
   "outputs": [],
   "source": [
    "#Abstact class - Implementation of the class not complete, Partial implementaiton is known as abstact class. \n",
    "class Vehicle:\n",
    "    @abstractmethod\n",
    "    def get_no_wheels(self): \n",
    "        print('Hello')\n",
    "    \n",
    "v = Vehicle()"
   ]
  },
  {
   "cell_type": "code",
   "execution_count": 136,
   "metadata": {},
   "outputs": [],
   "source": [
    "#Abstact class - Implementation of the class not complete, Partial implementaiton is known as abstact class. \n",
    "class Vehicle:\n",
    "    @abstractmethod\n",
    "    def get_no_wheels(self): \n",
    "        pass\n",
    "    \n",
    "v = Vehicle()"
   ]
  },
  {
   "cell_type": "code",
   "execution_count": 137,
   "metadata": {},
   "outputs": [],
   "source": [
    "#Abstact class - Implementation of the class not complete, Partial implementaiton is known as abstact class. \n",
    "class Vehicle(ABC):\n",
    "    \n",
    "    def get_no_wheels(self): \n",
    "        pass\n",
    "    \n",
    "v = Vehicle()"
   ]
  },
  {
   "cell_type": "code",
   "execution_count": 138,
   "metadata": {},
   "outputs": [],
   "source": [
    "#Abstract Method - Method having no proper implementation \n",
    "    #How to declare abstractmethod - @abstractmethod decorator\n",
    "    #@abstractmethod decorator present in abc module \n",
    "    #Child classes are responsible to provide the implementation for the parent class abstract method\n",
    "    \n",
    "    \n",
    "#Abstract Class - If implementation of the class is not complete (Partially complete)\n",
    "    #How to declare abstract class - We have to extend ABC Class\n",
    "    #class Test(ABC):\n",
    "    #   pass\n",
    "    \n",
    "    #Test is child and ABC is parent. Test class is Extending ABC class. Hence abstract class \n",
    "    #ABC class present in abc module\n",
    "    \n",
    "#Abstract class vs Abstract Method\n",
    "    #Abstract class contains any number of abstract methods including 0.\n",
    "    #Abstract class can contain normal methods as well\n",
    "    \n",
    "    \n",
    "#When object creation is not possible? \n",
    "    # If class is abstract and it contains atleast one abstract method then only method will not instantiate \n",
    "    # However, object creation is possbile \n",
    "        #Class is not abstract but contains one abstract method - Object creation is possible \n",
    "        # Class is abstract but it does not contain any abstract method "
   ]
  },
  {
   "cell_type": "code",
   "execution_count": 139,
   "metadata": {},
   "outputs": [
    {
     "ename": "TypeError",
     "evalue": "Can't instantiate abstract class Bus with abstract methods get_no_wheels",
     "output_type": "error",
     "traceback": [
      "\u001b[1;31m---------------------------------------------------------------------------\u001b[0m",
      "\u001b[1;31mTypeError\u001b[0m                                 Traceback (most recent call last)",
      "\u001b[1;32m<ipython-input-139-79dd46bc4170>\u001b[0m in \u001b[0;36m<module>\u001b[1;34m\u001b[0m\n\u001b[0;32m      6\u001b[0m \u001b[1;32mclass\u001b[0m \u001b[0mBus\u001b[0m\u001b[1;33m(\u001b[0m\u001b[0mVehicle\u001b[0m\u001b[1;33m)\u001b[0m\u001b[1;33m:\u001b[0m\u001b[1;33m\u001b[0m\u001b[1;33m\u001b[0m\u001b[0m\n\u001b[0;32m      7\u001b[0m     \u001b[1;32mpass\u001b[0m\u001b[1;33m\u001b[0m\u001b[1;33m\u001b[0m\u001b[0m\n\u001b[1;32m----> 8\u001b[1;33m \u001b[0mb\u001b[0m \u001b[1;33m=\u001b[0m \u001b[0mBus\u001b[0m\u001b[1;33m(\u001b[0m\u001b[1;33m)\u001b[0m\u001b[1;33m\u001b[0m\u001b[1;33m\u001b[0m\u001b[0m\n\u001b[0m",
      "\u001b[1;31mTypeError\u001b[0m: Can't instantiate abstract class Bus with abstract methods get_no_wheels"
     ]
    }
   ],
   "source": [
    "class Vehicle(ABC):\n",
    "    @abstractmethod\n",
    "    def get_no_wheels(self):\n",
    "        pass\n",
    "    \n",
    "class Bus(Vehicle):\n",
    "    pass\n",
    "b = Bus()"
   ]
  },
  {
   "cell_type": "code",
   "execution_count": 140,
   "metadata": {},
   "outputs": [
    {
     "data": {
      "text/plain": [
       "4"
      ]
     },
     "execution_count": 140,
     "metadata": {},
     "output_type": "execute_result"
    }
   ],
   "source": [
    "class Vehicle(ABC):\n",
    "    @abstractmethod\n",
    "    def get_no_wheels(self):\n",
    "        pass\n",
    "    \n",
    "    \n",
    "class Bus(Vehicle):\n",
    "    def get_no_wheels(self):\n",
    "        return 10\n",
    "    \n",
    "class Auto(Vehicle):\n",
    "    def get_no_wheels(self):\n",
    "        return 4\n",
    "    \n",
    "b = Bus()\n",
    "b.get_no_wheels()\n",
    "a=Auto()\n",
    "a.get_no_wheels()\n",
    "#What is the advantage of abstractmethod? \n",
    "#Compulsory child have to implement then only child will get the property of the parent \n"
   ]
  },
  {
   "cell_type": "code",
   "execution_count": 141,
   "metadata": {},
   "outputs": [
    {
     "ename": "TypeError",
     "evalue": "Can't instantiate abstract class C with abstract methods m2",
     "output_type": "error",
     "traceback": [
      "\u001b[1;31m---------------------------------------------------------------------------\u001b[0m",
      "\u001b[1;31mTypeError\u001b[0m                                 Traceback (most recent call last)",
      "\u001b[1;32m<ipython-input-141-12788576cffc>\u001b[0m in \u001b[0;36m<module>\u001b[1;34m\u001b[0m\n\u001b[0;32m     11\u001b[0m         \u001b[0mprint\u001b[0m\u001b[1;33m(\u001b[0m\u001b[1;34m'Implementing M1 method'\u001b[0m\u001b[1;33m)\u001b[0m\u001b[1;33m\u001b[0m\u001b[1;33m\u001b[0m\u001b[0m\n\u001b[0;32m     12\u001b[0m \u001b[1;33m\u001b[0m\u001b[0m\n\u001b[1;32m---> 13\u001b[1;33m \u001b[0mc\u001b[0m \u001b[1;33m=\u001b[0m \u001b[0mC\u001b[0m\u001b[1;33m(\u001b[0m\u001b[1;33m)\u001b[0m\u001b[1;33m\u001b[0m\u001b[1;33m\u001b[0m\u001b[0m\n\u001b[0m",
      "\u001b[1;31mTypeError\u001b[0m: Can't instantiate abstract class C with abstract methods m2"
     ]
    }
   ],
   "source": [
    "class P(ABC):\n",
    "    @abstractmethod\n",
    "    def m1(self):\n",
    "        pass\n",
    "    @abstractmethod\n",
    "    def m2(self):\n",
    "        pass\n",
    "    \n",
    "class C(P):\n",
    "    def m1(self):\n",
    "        print('Implementing M1 method')\n",
    "        \n",
    "c = C()"
   ]
  },
  {
   "cell_type": "code",
   "execution_count": 142,
   "metadata": {},
   "outputs": [
    {
     "name": "stdout",
     "output_type": "stream",
     "text": [
      "Implementing M1 method\n",
      "Implementing M2 method\n"
     ]
    }
   ],
   "source": [
    "class P(ABC):\n",
    "    @abstractmethod\n",
    "    def m1(self):\n",
    "        pass\n",
    "    @abstractmethod\n",
    "    def m2(self):\n",
    "        pass\n",
    "    \n",
    "class C(P):\n",
    "    def m1(self):\n",
    "        print('Implementing M1 method')\n",
    "    def m2(self):\n",
    "        print('Implementing M2 method')\n",
    "        \n",
    "c = C()\n",
    "c.m1()\n",
    "c.m2()"
   ]
  },
  {
   "cell_type": "code",
   "execution_count": 143,
   "metadata": {},
   "outputs": [
    {
     "name": "stdout",
     "output_type": "stream",
     "text": [
      "Implementation of M1\n",
      "Implementation of M2\n"
     ]
    }
   ],
   "source": [
    "class P(ABC):\n",
    "    @abstractmethod\n",
    "    def m1(self):\n",
    "        pass\n",
    "    @abstractmethod\n",
    "    def m2(self):\n",
    "        pass\n",
    "    \n",
    "class C(P):\n",
    "    def m1(self):\n",
    "        print('Implementation of M1')\n",
    "        \n",
    "class CC(C):\n",
    "    def m2(self):\n",
    "        print('Implementation of M2')\n",
    "        \n",
    "#c = C()\n",
    "c = CC()\n",
    "c.m1()\n",
    "c.m2()"
   ]
  },
  {
   "cell_type": "code",
   "execution_count": 144,
   "metadata": {},
   "outputs": [
    {
     "name": "stdout",
     "output_type": "stream",
     "text": [
      "Implementation of M1\n",
      "Implementation of M2\n"
     ]
    }
   ],
   "source": [
    "class P(ABC):\n",
    "    @abstractmethod\n",
    "    def m1(self): pass\n",
    "    def m2(self):\n",
    "        print('Implementation of M2')\n",
    "class C(P):\n",
    "    def m1(self):\n",
    "        print('Implementation of M1')\n",
    "c = C()\n",
    "c.m1()\n",
    "c.m2()"
   ]
  },
  {
   "cell_type": "code",
   "execution_count": 145,
   "metadata": {},
   "outputs": [],
   "source": [
    "#Interface - An abstract class which contains only abstract methods\n",
    "\n",
    "from abc import *\n",
    "class Interf(ABC):\n",
    "    @abstractmethod\n",
    "    def patients(self):\n",
    "        pass\n",
    "    def OPD(self):\n",
    "        pass\n",
    "    def Billing(self):\n",
    "        pass\n",
    "    def Operations(self):\n",
    "        pass\n",
    "#Not an interface \n",
    "from abc import *\n",
    "class Interf(ABC):\n",
    "    @abstractmethod\n",
    "    def patients(self):\n",
    "        pass\n",
    "    @abstractmethod\n",
    "    def OPD(self):\n",
    "        pass\n",
    "    @abstractmethod\n",
    "    def Billing(self):\n",
    "        pass\n",
    "    @abstractmethod\n",
    "    def Operations(self):\n",
    "        pass\n",
    "#Its an interface "
   ]
  },
  {
   "cell_type": "code",
   "execution_count": 146,
   "metadata": {},
   "outputs": [],
   "source": [
    "#When to go for interface vs Abstract class vs Concrete class\n",
    "# If we dont know any implemenation only requirement specification - Interface\n",
    "# If we are talking about implementation but not completely - Abstract class\n",
    "# If we are talking about implementation completely and ready to provide all the services - Concrete class"
   ]
  },
  {
   "cell_type": "code",
   "execution_count": 147,
   "metadata": {},
   "outputs": [
    {
     "name": "stdout",
     "output_type": "stream",
     "text": [
      "10\n",
      "20\n"
     ]
    }
   ],
   "source": [
    "#Public , Private , Protected Members\n",
    "class Test:\n",
    "    x = 10\n",
    "    def __init__(self):\n",
    "        self.y = 20\n",
    "        \n",
    "t = Test()\n",
    "print(t.x)\n",
    "print(t.y)\n"
   ]
  },
  {
   "cell_type": "code",
   "execution_count": 148,
   "metadata": {},
   "outputs": [
    {
     "name": "stdout",
     "output_type": "stream",
     "text": [
      "10\n",
      "20\n"
     ]
    }
   ],
   "source": [
    "class Test:\n",
    "    _x = 10\n",
    "    def __init__(self):\n",
    "        self._y = 20\n",
    "        \n",
    "t = Test()\n",
    "print(t._x)\n",
    "print(t._y)"
   ]
  },
  {
   "cell_type": "code",
   "execution_count": 149,
   "metadata": {},
   "outputs": [
    {
     "ename": "AttributeError",
     "evalue": "'Test' object has no attribute '__x'",
     "output_type": "error",
     "traceback": [
      "\u001b[1;31m---------------------------------------------------------------------------\u001b[0m",
      "\u001b[1;31mAttributeError\u001b[0m                            Traceback (most recent call last)",
      "\u001b[1;32m<ipython-input-149-58bb15b31d30>\u001b[0m in \u001b[0;36m<module>\u001b[1;34m\u001b[0m\n\u001b[0;32m      5\u001b[0m \u001b[1;33m\u001b[0m\u001b[0m\n\u001b[0;32m      6\u001b[0m \u001b[0mt\u001b[0m \u001b[1;33m=\u001b[0m \u001b[0mTest\u001b[0m\u001b[1;33m(\u001b[0m\u001b[1;33m)\u001b[0m\u001b[1;33m\u001b[0m\u001b[1;33m\u001b[0m\u001b[0m\n\u001b[1;32m----> 7\u001b[1;33m \u001b[0mprint\u001b[0m\u001b[1;33m(\u001b[0m\u001b[0mt\u001b[0m\u001b[1;33m.\u001b[0m\u001b[0m__x\u001b[0m\u001b[1;33m)\u001b[0m\u001b[1;33m\u001b[0m\u001b[1;33m\u001b[0m\u001b[0m\n\u001b[0m\u001b[0;32m      8\u001b[0m \u001b[0mprint\u001b[0m\u001b[1;33m(\u001b[0m\u001b[0mt\u001b[0m\u001b[1;33m.\u001b[0m\u001b[0m__y\u001b[0m\u001b[1;33m)\u001b[0m\u001b[1;33m\u001b[0m\u001b[1;33m\u001b[0m\u001b[0m\n",
      "\u001b[1;31mAttributeError\u001b[0m: 'Test' object has no attribute '__x'"
     ]
    }
   ],
   "source": [
    "class Test:\n",
    "    __x = 10\n",
    "    def __init__(self):\n",
    "        self.__y = 20\n",
    "        \n",
    "t = Test()\n",
    "print(t.__x)\n",
    "print(t.__y)"
   ]
  },
  {
   "cell_type": "code",
   "execution_count": 150,
   "metadata": {},
   "outputs": [
    {
     "name": "stdout",
     "output_type": "stream",
     "text": [
      "{'_Test__y': 20}\n"
     ]
    }
   ],
   "source": [
    "print(t.__dict__)"
   ]
  },
  {
   "cell_type": "code",
   "execution_count": 151,
   "metadata": {},
   "outputs": [
    {
     "name": "stdout",
     "output_type": "stream",
     "text": [
      "20\n"
     ]
    }
   ],
   "source": [
    "print(t._Test__y)"
   ]
  },
  {
   "cell_type": "code",
   "execution_count": 152,
   "metadata": {},
   "outputs": [
    {
     "name": "stdout",
     "output_type": "stream",
     "text": [
      "10\n"
     ]
    }
   ],
   "source": [
    "print(Test._Test__x)"
   ]
  },
  {
   "cell_type": "code",
   "execution_count": null,
   "metadata": {},
   "outputs": [],
   "source": []
  }
 ],
 "metadata": {
  "kernelspec": {
   "display_name": "Python 3",
   "language": "python",
   "name": "python3"
  },
  "language_info": {
   "codemirror_mode": {
    "name": "ipython",
    "version": 3
   },
   "file_extension": ".py",
   "mimetype": "text/x-python",
   "name": "python",
   "nbconvert_exporter": "python",
   "pygments_lexer": "ipython3",
   "version": "3.7.4"
  }
 },
 "nbformat": 4,
 "nbformat_minor": 2
}
